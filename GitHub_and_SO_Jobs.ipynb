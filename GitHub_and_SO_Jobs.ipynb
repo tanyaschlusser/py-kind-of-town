{
  "nbformat": 4,
  "nbformat_minor": 0,
  "metadata": {
    "colab": {
      "name": "DuPage-StackOverflowRSS.ipynb",
      "version": "0.3.2",
      "provenance": [],
      "collapsed_sections": []
    },
    "kernelspec": {
      "name": "python3",
      "display_name": "Python 3"
    }
  },
  "cells": [
    {
      "metadata": {
        "id": "7c60s40qUi9h",
        "colab_type": "text"
      },
      "cell_type": "markdown",
      "source": [
        "# Get and interpret StackOverflow jobs data\n",
        "Just curious whether the distribution of interests in the DuPage Python meetup group mirrors the distribution of job opportunities. (Spoiler alert: it doesn't; at least the Stackoverflow jobs snapshot here was frontend-heavy and that's the smallest category of interest among us. Booooo.) It is surprising to me how many director/manager jobs are listed. (I lumped project managers into this group too out of laziness for this notebook--so beware.)\n",
        "\n",
        "### Side note\n",
        "For my own long-term employment I like to keep an eye on what skills and roles are in demand. Taking multiple snapshots like this over the year can give a sense of when companies like to hire, and for what. For example, although there are zero Data Science roles listed here in Chicago, the GitHub listing (which only had two Chicago roles so I did the whole US) had about 20; so regional variation and your geographic preferences may be worth considering.\n",
        "\n",
        "## Setup"
      ]
    },
    {
      "metadata": {
        "id": "-llKrpVtGQYR",
        "colab_type": "code",
        "colab": {}
      },
      "cell_type": "code",
      "source": [
        "!pip install --quiet upsetplot\n",
        "\n",
        "import json\n",
        "import re\n",
        "\n",
        "import pandas\n",
        "import requests\n",
        "# Here is the R version of upsetplot (from the original authors)\n",
        "#   https://cran.r-project.org/web/packages/UpSetR/vignettes/basic.usage.html\n",
        "import upsetplot\n",
        "from collections import Counter, namedtuple\n",
        "from lxml import etree"
      ],
      "execution_count": 0,
      "outputs": []
    },
    {
      "metadata": {
        "id": "Iz2uIEmQD89n",
        "colab_type": "text"
      },
      "cell_type": "markdown",
      "source": [
        "## Get the data\n",
        "\n",
        "The Stackoverflow Jobs API is actually just an RSS feed ([stackexchange question](https://meta.stackexchange.com/a/158221/289453)). The linked response has a direct link to their RSS feed, like this: [https://stackoverflow.com/jobs/feed?q=python&l=chicago](https://stackoverflow.com/jobs/feed?q=python&l=chicago) that shows how to structure the URL to filter for location and a query term.\n",
        "\n",
        "\n",
        "If you click on the feed link, you can tell the response is in XML, so you have to parse it, which is why there is so much code below. To build up these search functions and namespaces, etc, there's no way around it but to look at the actual feed at first and figure out what on earth is in it...\n",
        "\n",
        "### Set up to pull data"
      ]
    },
    {
      "metadata": {
        "id": "1wea-l8Mpq_A",
        "colab_type": "code",
        "colab": {}
      },
      "cell_type": "code",
      "source": [
        "stackoverflow_url = \"https://stackoverflow.com/jobs/feed?l=chicago&u=Miles&d=50\"\n",
        "namespaces = dict(\n",
        "    w3=\"http://www.w3.org/2005/Atom\",\n",
        "    so=\"http://stackoverflow.com/jobs/\",\n",
        ")\n",
        "\n",
        "# Determine the format by looking at the raw HTML first to realize\n",
        "# - The data are grouped under `//item`\n",
        "# - Each item has the following components:\n",
        "# - (and the `category` item has multiple entries)\n",
        "Row = namedtuple(\"Row\", [\n",
        "    \"author\",\n",
        "    \"category\",\n",
        "    \"description\",\n",
        "    \"guid\",\n",
        "    \"link\",\n",
        "    \"location\",\n",
        "    \"pub_date\",\n",
        "    \"title\",\n",
        "    \"updated\",\n",
        "])\n",
        "\n",
        "\n",
        "TitleData = namedtuple(\"TitleData\", [\"role\", \"company\", \"city\", \"state\", \"original\"])\n",
        "\n",
        "def title_to_role_company_city_state(\n",
        "        element,\n",
        "        pattern=re.compile(r\"\"\"\n",
        "            (?P<role>.*)\\s+at\\s+    # {role} at {company}\n",
        "            (?P<company>[^\\(]*)\\s+  # Assume no company name has parentheses\n",
        "            \\((?P<city>[^\\)]*),\\s+  # Hopefully no city has a comma or ')'\n",
        "            (?P<state>\\S+)\\)        # Any consecutive nonspace is the state\n",
        "       \"\"\", re.X)):\n",
        "    title = element.findtext(\"title\")\n",
        "    # title --> \"{role} at {company} ({city}, {state})\"\n",
        "    #match = pattern.fullmatch(title)\n",
        "    match = pattern.match(title)\n",
        "    if match and len(match.groups()) >= 4:\n",
        "        arguments = list(match.groups()[:4]) + [title]\n",
        "        return TitleData(*arguments)\n",
        "    else:\n",
        "        print(f\"Didn't match {title} so returning a tuple of Nones\")\n",
        "        return TitleData(*([None] * 4 + [title]))\n",
        "\n",
        "\n",
        "functions = Row(\n",
        "    author=lambda e: e.findtext(\"w3:author\", namespaces=namespaces),\n",
        "    category=lambda elem: [e.text for e in elem.findall(\"category\")],\n",
        "    description=lambda e: e.findtext(\"description\"),\n",
        "    guid=lambda e: e.findtext(\"guid\"),\n",
        "    link=lambda e: e.findtext(\"link\"),\n",
        "    location=lambda e: e.findtext(\"so:location\", namespaces=namespaces),\n",
        "    pub_date=lambda e: e.findtext(\"pubDate\"),\n",
        "    title=title_to_role_company_city_state,\n",
        "    updated=lambda e: e.findtext(\"w3:updated\", namespaces=namespaces)\n",
        ")"
      ],
      "execution_count": 0,
      "outputs": []
    },
    {
      "metadata": {
        "id": "zls2aGH4XwQ-",
        "colab_type": "text"
      },
      "cell_type": "markdown",
      "source": [
        "### Actually pull data now\n",
        "\n",
        "Here's a neat trick for similarly structured data like these XML elements: because the `functions` variable is an actual `Row` object with all the same names, a one-liner, `Row(*(f(element) for f in functions))`,  can be used to create each new row by going through each element in the XML path and extracting what's needed.\n",
        "\n",
        "Then the Counter lets us see quickly what the top 10 in each category of interest is."
      ]
    },
    {
      "metadata": {
        "id": "z7k_EBo4jfLl",
        "colab_type": "code",
        "outputId": "b1499f25-494f-4c3f-8024-1c286a5254fd",
        "colab": {
          "base_uri": "https://localhost:8080/",
          "height": 429
        }
      },
      "cell_type": "code",
      "source": [
        "response = requests.get(stackoverflow_url)\n",
        "root = etree.fromstring(response.content)\n",
        "items = root.xpath(\"//item\")\n",
        "data = []\n",
        "for element in items:\n",
        "    data.append(Row(*(f(element) for f in functions)))\n",
        "\n",
        "# That was it! The above pulled and transformed all the data!\n",
        "    \n",
        "    \n",
        "    \n",
        "print(\"Top 10 locations (shouldn't be a surprise...Chicago)\")\n",
        "print(Counter(d.location for d in data).most_common(10))\n",
        "\n",
        "print(\"\\nTop 10 companies\")\n",
        "print(Counter(d.title.company for d in data).most_common(10))\n",
        "\n",
        "print(\"\\nTop 10 categories\")\n",
        "# Nested data so I have to do the multiple \"for\" thing\n",
        "print(Counter(c for d in data for c in d.category).most_common(10))\n",
        "\n",
        "print(\"\\nTop 10 roles\")\n",
        "print(Counter(d.title.role for d in data).most_common(10))\n",
        "\n",
        "print(\"\\nTop 10 *Python* roles\")\n",
        "print(Counter(d.title.role for d in data if \"python\" in d.category).most_common(10))"
      ],
      "execution_count": 3,
      "outputs": [
        {
          "output_type": "stream",
          "text": [
            "Top 10 locations (shouldn't be a surprise...Chicago)\n",
            "[('Chicago, IL', 72), ('Pleasant Prairie, WI', 6), ('Riverwoods, IL', 5), ('Oakbrook Terrace, IL', 3), ('Buffalo Grove, IL', 2), ('Itasca, IL', 1), ('Glen Ellyn, IL', 1), ('Evanston, IL', 1), ('Schaumburg, IL', 1), ('Fox River Grove, IL', 1)]\n",
            "\n",
            "Top 10 companies\n",
            "[('JP Morgan Chase', 18), ('Uline', 6), ('Discover', 5), ('Infutor Data Solutions', 4), ('Hays US', 4), ('NextCapital', 4), ('Critical Mass', 3), ('Solstice', 3), ('Bridge Financial Technology', 3), ('DRW', 3)]\n",
            "\n",
            "Top 10 categories\n",
            "[('java', 35), ('python', 34), ('sql', 22), ('javascript', 21), ('amazon-web-services', 15), ('linux', 11), ('c++', 9), ('reactjs', 8), ('ruby-on-rails', 5), ('node.js', 5)]\n",
            "\n",
            "Top 10 roles\n",
            "[('Senior Software Engineer', 5), ('Software Engineer', 4), ('Java Software Engineer', 3), ('Data Cloud Architect', 2), ('Education Construction Project Manager', 2), ('Software Engineering - Full Stack Developer (Java)', 2), ('Data Engineer', 2), ('Senior Network Engineer', 2), ('Software Engineer - IoT (C++/JS/AWS)', 1), ('Technical Analyst', 1)]\n",
            "\n",
            "Top 10 *Python* roles\n",
            "[('Java Software Engineer', 3), ('Software Engineering - Full Stack Developer (Java)', 2), ('Senior Software Engineer', 2), ('Java Software Engineer- Oracle, and AngularJS', 1), ('Lead Software Engineer - Java /J2EE & Oracle', 1), ('Java Software Engineering', 1), ('Full Time Faculty - Computer Information Systems', 1), ('Java/J2EE Software Engineer', 1), ('Senior C++ Software Developer (Quantitative Trading Firm)', 1), ('Software Engineer - Java / J2EE & Oracle', 1)]\n"
          ],
          "name": "stdout"
        }
      ]
    },
    {
      "metadata": {
        "id": "KjSzYp_HbChO",
        "colab_type": "text"
      },
      "cell_type": "markdown",
      "source": [
        "#### Observations\n",
        "- Python is now a kind of ubiquitous add-on requirement, it seems\n",
        "- The category tags sometimes don't seem to match the job title (e.g. Python + SQL tags --> \"Java Software Engineer - Oracle, and AngularJS\" whaa?)\n",
        "\n",
        "### Look at the job roles more\n",
        "\n",
        "The `levels` regex will try to peel off the modifiers to the titles, and all the `roles` are regex patterns for specific terms related to the role. Note that a manager of a division and a \"project manager\" both match the \"managers\" group; I did not want to work to separate them. Some things, like putting \"sql\" in with \"backend\" may have inflated the backend numbers, since pretty much everyone should know SQL. More careful reading of examples would help inform choices like this, but I'm doing all this analysis for one slide in a January meetup talk, so I'm allowed to not be as careful as I could be."
      ]
    },
    {
      "metadata": {
        "id": "86ofXjioZpcO",
        "colab_type": "code",
        "outputId": "a1c3f8cd-b87b-452d-f022-ca16febf5731",
        "colab": {
          "base_uri": "https://localhost:8080/",
          "height": 1752
        }
      },
      "cell_type": "code",
      "source": [
        "levels = re.compile(\"(senior|junior|sr.|jr.|lead) ?\", re.IGNORECASE)\n",
        "roles = [\n",
        "    (\"managers\", re.compile(\"(manager|director)\", re.IGNORECASE)),\n",
        "    (\"ops\", re.compile(\"dev.?ops\", re.IGNORECASE)),\n",
        "    (\"full stack\", re.compile(\"full.?stack\", re.IGNORECASE)),\n",
        "    (\"front end\", re.compile(\"(front.?end|php)\", re.IGNORECASE)),\n",
        "    (\"backend\", re.compile(\"(back.?end|sql)\", re.IGNORECASE)),\n",
        "    #(\"quality\", re.compile(\"(q.?a|quality.a)\", re.IGNORECASE)),  # Cut because it won't fit on slideshow\n",
        "    (\"security\", re.compile(\"(security|devsec|opsec)\", re.IGNORECASE)),\n",
        "    (\"data science\", re.compile(\"(data.?scien|machine.?lear)\", re.IGNORECASE)),\n",
        "    (\"other dev\", re.compile(\".*\", re.IGNORECASE)),\n",
        "]\n",
        "\n",
        "by_roles = {k:[] for k,v in roles}\n",
        "for d in data:\n",
        "    role = next(role for role, regex in roles if regex.search(d.title.role) or regex.search(d.description))\n",
        "    by_roles[role].append(d)\n",
        "    \n",
        "    \n",
        "print(f\"{len(data)} total Stackoverflow jobs\")\n",
        "\n",
        "for role, jobs in by_roles.items():\n",
        "     print(f\"{role}: {len(jobs)} jobs  ({len(jobs) / len(data):.0%})\")\n",
        "        \n",
        "print()\n",
        "print(\"*\" * 20)\n",
        "#Counter(levels.sub(\"\", d.title.role).rsplit(\" - \", 1)[0] for d in data).most_common()\n",
        "Counter(levels.sub(\"\", d.title.role) for d in data).most_common()"
      ],
      "execution_count": 4,
      "outputs": [
        {
          "output_type": "stream",
          "text": [
            "96 total Stackoverflow jobs\n",
            "managers: 26 jobs  (27%)\n",
            "ops: 7 jobs  (7%)\n",
            "full stack: 7 jobs  (7%)\n",
            "front end: 11 jobs  (11%)\n",
            "backend: 17 jobs  (18%)\n",
            "security: 11 jobs  (11%)\n",
            "data science: 1 jobs  (1%)\n",
            "other dev: 16 jobs  (17%)\n",
            "\n",
            "********************\n"
          ],
          "name": "stdout"
        },
        {
          "output_type": "execute_result",
          "data": {
            "text/plain": [
              "[('Software Engineer', 9),\n",
              " ('Java Software Engineer', 3),\n",
              " ('Data Engineer', 3),\n",
              " ('Data Cloud Architect', 2),\n",
              " ('Education Construction Project Manager', 2),\n",
              " ('Software Developer', 2),\n",
              " ('Software Engineering - Full Stack Developer (Java)', 2),\n",
              " ('DevOps Engineer', 2),\n",
              " ('Network Engineer', 2),\n",
              " ('Software Engineer - IoT (C++/JS/AWS)', 1),\n",
              " ('Technical Analyst', 1),\n",
              " ('Project Manager - Commercial Construction', 1),\n",
              " ('Project Engineer', 1),\n",
              " ('AEM Tech Director', 1),\n",
              " ('AEM Tech - Backend (Adobe Experience Manager)', 1),\n",
              " ('AEM Tech - Frontend (Adobe Experience Manager)', 1),\n",
              " ('Software Engineer (Chicago Loop)', 1),\n",
              " ('Developer (Splunk)', 1),\n",
              " ('Systems Architect (Payments)', 1),\n",
              " ('Product Manager', 1),\n",
              " ('Java Software Engineer- Oracle, and AngularJS', 1),\n",
              " ('Software Engineer - Java /J2EE & Oracle', 1),\n",
              " ('Java Developer', 1),\n",
              " ('Java Software Engineering', 1),\n",
              " ('Full Time Faculty - Computer Information Systems', 1),\n",
              " ('Information Technology Manager/Admin Coordinator (Windows/Linux Systems Engineer at University of Illinois',\n",
              "  1),\n",
              " ('Java/J2EE Software Engineer', 1),\n",
              " ('Front-end React Redux Developer', 1),\n",
              " ('C++ Software Developer (Quantitative Trading Firm)', 1),\n",
              " ('Software Engineer - Java / J2EE & Oracle', 1),\n",
              " ('Solution Engineer (m/f)', 1),\n",
              " ('Software Engineer for Credit eTrading', 1),\n",
              " ('Enterprise Architect', 1),\n",
              " ('Developer - React (Contract)', 1),\n",
              " ('Cloud Practice - Java/Spring Developer', 1),\n",
              " ('Graduate Hardware Engineer', 1),\n",
              " ('Graduate Systems Engineer', 1),\n",
              " ('Software Developer (TDD, Agile, CI/CD, Multiple Languages)', 1),\n",
              " ('UX/UI Designer', 1),\n",
              " ('Backend Developer', 1),\n",
              " ('Frontend Software Developer', 1),\n",
              " ('Java Software Engineer (Front-Office Low Latency Systems)', 1),\n",
              " ('(Hiring Developer & DevOps background) - Work with various technologies',\n",
              "  1),\n",
              " ('Production Software Engineering (Lower Environment Test Support)', 1),\n",
              " ('Application Security Architect', 1),\n",
              " ('Application Support Engineer', 1),\n",
              " ('Automation Software Engineer', 1),\n",
              " ('Trading Software Developer', 1),\n",
              " ('Manager - DevSecOps - Zoro', 1),\n",
              " ('Front End Developer - Zoro', 1),\n",
              " ('Software Engineer, Front Office Tools', 1),\n",
              " ('Software Engineer, Trading Infrastructure', 1),\n",
              " ('Software Engineer (Ruby/Clojure)', 1),\n",
              " ('Data Architect', 1),\n",
              " ('WebSphere Administrator', 1),\n",
              " ('Front-End Developer - Web / Mobile', 1),\n",
              " ('.Net Software Engineer', 1),\n",
              " ('Software Architect', 1),\n",
              " ('DevOps Engineer - SIGN ON BONUS AVAILABLE', 1),\n",
              " ('Node Fullstack Developer - SIGN ON BONUS AVAILABLE', 1),\n",
              " ('Site Reliability Engineer', 1),\n",
              " ('Software Engineer, Embedded Security', 1),\n",
              " ('PHP Developer', 1),\n",
              " ('Quality Assurance Analyst', 1),\n",
              " ('Quality Assurance - Automation Engineer', 1),\n",
              " ('Application Architect', 1),\n",
              " ('C++ 14 Software Engineer @ Global High-Frequency Trading Firm (Chicago)',\n",
              "  1),\n",
              " ('Director of Infrastructure & Development Services, Chicago Campus at University of Illinois',\n",
              "  1),\n",
              " ('Back-end Developer (C#, SQL Server, Azure)', 1),\n",
              " ('Developer- Data Infrastructure Engineering', 1),\n",
              " ('Software Developer - .Net / C#', 1),\n",
              " ('Software Engineer in Test', 1),\n",
              " ('Low Level Software Engineer (C++)', 1),\n",
              " ('Engineering Manager', 1),\n",
              " ('Front-end Web Developer (AngularJS, Angular)', 1),\n",
              " ('C++ Developer- Direct Market Access/ Gateway Team', 1),\n",
              " ('Front End Engineer', 1),\n",
              " ('Software Engineer - Full-stack Python, JavaScript', 1)]"
            ]
          },
          "metadata": {
            "tags": []
          },
          "execution_count": 4
        }
      ]
    },
    {
      "metadata": {
        "id": "mRgnmb2_pDOL",
        "colab_type": "text"
      },
      "cell_type": "markdown",
      "source": [
        "### Make a data frame with only the top 10 categories, just to see"
      ]
    },
    {
      "metadata": {
        "id": "HzEdIRbDA0in",
        "colab_type": "code",
        "outputId": "64a1fce9-adbf-4b28-bc8c-e1d490cdfee8",
        "colab": {
          "base_uri": "https://localhost:8080/",
          "height": 451
        }
      },
      "cell_type": "code",
      "source": [
        "top10_categories = [cat for (cat, ct) in Counter(c for d in data for c in d.category).most_common(10)]\n",
        "subsets = []\n",
        "for row in data:\n",
        "    subsets.append(dict(\n",
        "        role=row.title.role,\n",
        "        company=row.title.company,\n",
        "    ))\n",
        "    subsets[-1].update({k:(k in row.category) for k in top10_categories})\n",
        "\n",
        "df = pandas.DataFrame(subsets)\n",
        "df[[\"company\"] + top10_categories].groupby(\"company\").sum().sort_values(top10_categories, ascending=False).head(7)"
      ],
      "execution_count": 5,
      "outputs": [
        {
          "output_type": "execute_result",
          "data": {
            "text/html": [
              "<div>\n",
              "<style scoped>\n",
              "    .dataframe tbody tr th:only-of-type {\n",
              "        vertical-align: middle;\n",
              "    }\n",
              "\n",
              "    .dataframe tbody tr th {\n",
              "        vertical-align: top;\n",
              "    }\n",
              "\n",
              "    .dataframe thead th {\n",
              "        text-align: right;\n",
              "    }\n",
              "</style>\n",
              "<table border=\"1\" class=\"dataframe\">\n",
              "  <thead>\n",
              "    <tr style=\"text-align: right;\">\n",
              "      <th></th>\n",
              "      <th>java</th>\n",
              "      <th>python</th>\n",
              "      <th>sql</th>\n",
              "      <th>javascript</th>\n",
              "      <th>amazon-web-services</th>\n",
              "      <th>linux</th>\n",
              "      <th>c++</th>\n",
              "      <th>reactjs</th>\n",
              "      <th>ruby-on-rails</th>\n",
              "      <th>node.js</th>\n",
              "    </tr>\n",
              "    <tr>\n",
              "      <th>company</th>\n",
              "      <th></th>\n",
              "      <th></th>\n",
              "      <th></th>\n",
              "      <th></th>\n",
              "      <th></th>\n",
              "      <th></th>\n",
              "      <th></th>\n",
              "      <th></th>\n",
              "      <th></th>\n",
              "      <th></th>\n",
              "    </tr>\n",
              "  </thead>\n",
              "  <tbody>\n",
              "    <tr>\n",
              "      <th>JP Morgan Chase</th>\n",
              "      <td>18.0</td>\n",
              "      <td>18.0</td>\n",
              "      <td>18.0</td>\n",
              "      <td>0.0</td>\n",
              "      <td>0.0</td>\n",
              "      <td>0.0</td>\n",
              "      <td>0.0</td>\n",
              "      <td>0.0</td>\n",
              "      <td>0.0</td>\n",
              "      <td>0.0</td>\n",
              "    </tr>\n",
              "    <tr>\n",
              "      <th>Discover</th>\n",
              "      <td>4.0</td>\n",
              "      <td>0.0</td>\n",
              "      <td>0.0</td>\n",
              "      <td>1.0</td>\n",
              "      <td>1.0</td>\n",
              "      <td>1.0</td>\n",
              "      <td>0.0</td>\n",
              "      <td>0.0</td>\n",
              "      <td>0.0</td>\n",
              "      <td>0.0</td>\n",
              "    </tr>\n",
              "    <tr>\n",
              "      <th>DRW</th>\n",
              "      <td>2.0</td>\n",
              "      <td>1.0</td>\n",
              "      <td>0.0</td>\n",
              "      <td>1.0</td>\n",
              "      <td>0.0</td>\n",
              "      <td>1.0</td>\n",
              "      <td>1.0</td>\n",
              "      <td>0.0</td>\n",
              "      <td>1.0</td>\n",
              "      <td>0.0</td>\n",
              "    </tr>\n",
              "    <tr>\n",
              "      <th>Critical Mass</th>\n",
              "      <td>2.0</td>\n",
              "      <td>0.0</td>\n",
              "      <td>0.0</td>\n",
              "      <td>2.0</td>\n",
              "      <td>0.0</td>\n",
              "      <td>0.0</td>\n",
              "      <td>0.0</td>\n",
              "      <td>0.0</td>\n",
              "      <td>0.0</td>\n",
              "      <td>0.0</td>\n",
              "    </tr>\n",
              "    <tr>\n",
              "      <th>Uline</th>\n",
              "      <td>2.0</td>\n",
              "      <td>0.0</td>\n",
              "      <td>0.0</td>\n",
              "      <td>1.0</td>\n",
              "      <td>0.0</td>\n",
              "      <td>0.0</td>\n",
              "      <td>0.0</td>\n",
              "      <td>0.0</td>\n",
              "      <td>0.0</td>\n",
              "      <td>0.0</td>\n",
              "    </tr>\n",
              "    <tr>\n",
              "      <th>Label Insight</th>\n",
              "      <td>1.0</td>\n",
              "      <td>1.0</td>\n",
              "      <td>0.0</td>\n",
              "      <td>0.0</td>\n",
              "      <td>1.0</td>\n",
              "      <td>0.0</td>\n",
              "      <td>0.0</td>\n",
              "      <td>0.0</td>\n",
              "      <td>0.0</td>\n",
              "      <td>0.0</td>\n",
              "    </tr>\n",
              "    <tr>\n",
              "      <th>Akuna Capital</th>\n",
              "      <td>1.0</td>\n",
              "      <td>1.0</td>\n",
              "      <td>0.0</td>\n",
              "      <td>0.0</td>\n",
              "      <td>0.0</td>\n",
              "      <td>1.0</td>\n",
              "      <td>1.0</td>\n",
              "      <td>0.0</td>\n",
              "      <td>0.0</td>\n",
              "      <td>0.0</td>\n",
              "    </tr>\n",
              "  </tbody>\n",
              "</table>\n",
              "</div>"
            ],
            "text/plain": [
              "                 java  python   sql  javascript  amazon-web-services  linux  \\\n",
              "company                                                                       \n",
              "JP Morgan Chase  18.0    18.0  18.0         0.0                  0.0    0.0   \n",
              "Discover          4.0     0.0   0.0         1.0                  1.0    1.0   \n",
              "DRW               2.0     1.0   0.0         1.0                  0.0    1.0   \n",
              "Critical Mass     2.0     0.0   0.0         2.0                  0.0    0.0   \n",
              "Uline             2.0     0.0   0.0         1.0                  0.0    0.0   \n",
              "Label Insight     1.0     1.0   0.0         0.0                  1.0    0.0   \n",
              "Akuna Capital     1.0     1.0   0.0         0.0                  0.0    1.0   \n",
              "\n",
              "                 c++  reactjs  ruby-on-rails  node.js  \n",
              "company                                                \n",
              "JP Morgan Chase  0.0      0.0            0.0      0.0  \n",
              "Discover         0.0      0.0            0.0      0.0  \n",
              "DRW              1.0      0.0            1.0      0.0  \n",
              "Critical Mass    0.0      0.0            0.0      0.0  \n",
              "Uline            0.0      0.0            0.0      0.0  \n",
              "Label Insight    0.0      0.0            0.0      0.0  \n",
              "Akuna Capital    1.0      0.0            0.0      0.0  "
            ]
          },
          "metadata": {
            "tags": []
          },
          "execution_count": 5
        }
      ]
    },
    {
      "metadata": {
        "id": "VCFx1MQLxJaq",
        "colab_type": "text"
      },
      "cell_type": "markdown",
      "source": [
        "### JP Morgan Chase's 2019 hiring bunch is overwhelming all of the other data\n",
        "\n",
        "They need javascript and other devs based on the job titles, so that's what tipped me off to not 100% trusting the categories they used. From reading their descriptions, Java is the primary language, and Python is just a necessary secondary. There's another company in Chicago who hosted a ChiPy meetup that uses Python pretty much only to unit-test its Java code, which is a little sad, but props to people using the thing that works best for their need."
      ]
    },
    {
      "metadata": {
        "id": "GFZUP8tjjOmV",
        "colab_type": "code",
        "outputId": "b84fa56d-e3b4-4995-c41b-914a49e65a0b",
        "colab": {
          "base_uri": "https://localhost:8080/",
          "height": 729
        }
      },
      "cell_type": "code",
      "source": [
        "stackoverflow_sets = (\n",
        "    df[top10_categories + [\"role\"]]\n",
        "    .fillna(False)\n",
        "    .groupby(top10_categories)\n",
        "    .count()\n",
        ")\n",
        "p = upsetplot.plot(\n",
        "    stackoverflow_sets[\"role\"],\n",
        "    element_size=42,  # point size of \"side of element\"\n",
        "    sort_by=\"cardinality\",\n",
        ");\n",
        "\n",
        "p['intersections'].tick_params(labelsize=\"medium\")\n",
        "p['matrix'].tick_params(labelsize=\"medium\")\n",
        "#import matplotlib\n",
        "#from google.colab import files\n",
        "#current_figure = matplotlib.pyplot.gcf()\n",
        "#current_figure.savefig(\"stackoverflow_sets.png\")\n",
        "#files.download(\"stackoverflow_sets.png\")\n"
      ],
      "execution_count": 6,
      "outputs": [
        {
          "output_type": "display_data",
          "data": {
            "image/png": "[encoded data removed]",
            "text/plain": [
              "<matplotlib.figure.Figure at 0x7fe2d1850f28>"
            ]
          },
          "metadata": {
            "tags": []
          }
        }
      ]
    },
    {
      "metadata": {
        "id": "epTqPG6d2py8",
        "colab_type": "text"
      },
      "cell_type": "markdown",
      "source": [
        "#### Show the table that made the chart above"
      ]
    },
    {
      "metadata": {
        "id": "tdImxaw02pUX",
        "colab_type": "code",
        "outputId": "a7a1a81b-535d-428b-b078-0d8f99aaa53e",
        "colab": {
          "base_uri": "https://localhost:8080/",
          "height": 800
        }
      },
      "cell_type": "code",
      "source": [
        "stackoverflow_sets[\"role\"]"
      ],
      "execution_count": 7,
      "outputs": [
        {
          "output_type": "execute_result",
          "data": {
            "text/plain": [
              "java   python  sql    javascript  amazon-web-services  linux  c++    reactjs  ruby-on-rails  node.js\n",
              "False  False   False  False       False                False  False  False    False          False      21\n",
              "                                                                                             True        1\n",
              "                                                                     True     False          True        2\n",
              "                                                              True   False    False          False       1\n",
              "                                                       True   False  False    False          False       1\n",
              "                                                              True   False    False          False       3\n",
              "                                  True                 False  False  False    False          False       4\n",
              "                                                                              True           False       1\n",
              "                      True        False                False  False  False    False          False       5\n",
              "                                                                     True     False          False       2\n",
              "                                                                                             True        1\n",
              "                                  True                 False  False  False    False          False       1\n",
              "                                                                     True     False          False       1\n",
              "                                                                              True           False       1\n",
              "                                                       True   True   False    False          False       1\n",
              "               True   False       False                False  False  False    False          False       1\n",
              "                      True        False                False  False  False    False          False       2\n",
              "       True    False  False       False                False  False  False    False          False       2\n",
              "                                                              True   False    False          False       2\n",
              "                                                       True   True   False    False          False       1\n",
              "                                  True                 False  False  False    False          False       2\n",
              "                                                       True   False  False    False          False       1\n",
              "                      True        False                False  False  False    False          False       2\n",
              "                                                                     True     False          True        1\n",
              "               True   False       True                 False  False  False    False          False       1\n",
              "True   False   False  False       False                False  False  False    False          False       6\n",
              "                                                       True   False  False    False          False       1\n",
              "                                                              True   False    True           False       1\n",
              "                                  True                 False  False  False    False          False       1\n",
              "                      True        False                False  False  False    False          False       2\n",
              "                                                                              True           False       2\n",
              "       True    False  False       False                False  False  False    False          False       1\n",
              "                                                       True   False  False    False          False       2\n",
              "                                  True                 False  False  False    False          False       1\n",
              "               True   False       False                False  False  False    False          False      18\n",
              "Name: role, dtype: int64"
            ]
          },
          "metadata": {
            "tags": []
          },
          "execution_count": 7
        }
      ]
    },
    {
      "metadata": {
        "id": "CHofW1zNqoH6",
        "colab_type": "code",
        "outputId": "bd235474-56a8-4a4f-9ad1-114a24947eda",
        "colab": {
          "base_uri": "https://localhost:8080/",
          "height": 693
        }
      },
      "cell_type": "code",
      "source": [
        "# Again but this time only do programming languages\n",
        "language_categories = ['python', 'java', 'sql', 'javascript', 'c++', 'go', 'scala']\n",
        "subsets = []\n",
        "for row in data:\n",
        "    subsets.append(dict(\n",
        "        role=row.title.role,\n",
        "        company=row.title.company,\n",
        "    ))\n",
        "    subsets[-1].update({k:(k in row.category) for k in language_categories})\n",
        "\n",
        "df = pandas.DataFrame(subsets)\n",
        "\n",
        "\n",
        "stackoverflow_sets = (\n",
        "    df[language_categories + [\"role\"]]\n",
        "    .fillna(False)\n",
        "    .groupby(language_categories)\n",
        "    .count()\n",
        ")\n",
        "p = upsetplot.plot(\n",
        "    stackoverflow_sets[\"role\"],\n",
        "    element_size=50,  # point size of \"side of element\"\n",
        "    sort_by=\"cardinality\",\n",
        ");\n",
        "\n",
        "p['intersections'].tick_params(labelsize=\"medium\")\n",
        "p['matrix'].tick_params(labelsize=\"medium\")\n",
        "#import matplotlib\n",
        "#from google.colab import files\n",
        "#current_figure = matplotlib.pyplot.gcf()\n",
        "#current_figure.savefig(\"stackoverflow_sets_languages_only.png\")\n",
        "#files.download(\"stackoverflow_sets_languages_only.png\")"
      ],
      "execution_count": 8,
      "outputs": [
        {
          "output_type": "display_data",
          "data": {
            "image/png": "[encoded data removed]",
            "text/plain": [
              "<matplotlib.figure.Figure at 0x7fe2ce91c470>"
            ]
          },
          "metadata": {
            "tags": []
          }
        }
      ]
    },
    {
      "metadata": {
        "id": "yokJYOLU0UEc",
        "colab_type": "text"
      },
      "cell_type": "markdown",
      "source": [
        "#### Show the table that made the chart above"
      ]
    },
    {
      "metadata": {
        "id": "KvkmGtMa0Tk5",
        "colab_type": "code",
        "outputId": "28dfe764-e2df-4a93-85e6-ef9704ffc99b",
        "colab": {
          "base_uri": "https://localhost:8080/",
          "height": 494
        }
      },
      "cell_type": "code",
      "source": [
        "stackoverflow_sets[\"role\"]"
      ],
      "execution_count": 9,
      "outputs": [
        {
          "output_type": "execute_result",
          "data": {
            "text/plain": [
              "python  java   sql    javascript  c++    go     scala\n",
              "False   False  False  False       False  False  False    30\n",
              "                                  True   False  False     4\n",
              "                      True        False  False  False    11\n",
              "                                  True   False  False     1\n",
              "               True   False       False  False  False     1\n",
              "                      True        False  False  False     2\n",
              "        True   False  False       False  False  False     8\n",
              "                                  True   False  False     1\n",
              "                      True        False  False  False     3\n",
              "                                                True      1\n",
              "True    False  False  False       False  False  False     4\n",
              "                                         True   False     1\n",
              "                                  True   False  False     3\n",
              "                      True        False  False  False     3\n",
              "               True   False       False  False  False     1\n",
              "        True   False  False       False  False  False     4\n",
              "               True   False       False  False  False    18\n",
              "Name: role, dtype: int64"
            ]
          },
          "metadata": {
            "tags": []
          },
          "execution_count": 9
        }
      ]
    },
    {
      "metadata": {
        "id": "ieuNRt3XAGuC",
        "colab_type": "text"
      },
      "cell_type": "markdown",
      "source": [
        "## Observations\n",
        "\n",
        "- JP Morgan Chase's data dominate the StackOverflow set, but it looks like you double your job options if you add Java to your repertoire.\n",
        "- Python and Java were the top two tagged language; for each almost 50% of opportunities wanted at least one.\n",
        "- Python and javascript is front end of course\n",
        "- Python and Scala for Spark I guess\n",
        "- Python and C++ for trading\n",
        "- Surprising to see literally zero Data Science jobs...good to know\n",
        "\n",
        "So there's where we are.\n",
        "\n",
        "#### Caveat\n",
        "This was a cursory look at a single day of data in the depths of the holiday season. Who knows whether it's an outlier or the norm? To understand the market and our prospects in it we'd really need to do this multiple times per year."
      ]
    },
    {
      "metadata": {
        "id": "nK_6DBKFND7U",
        "colab_type": "text"
      },
      "cell_type": "markdown",
      "source": [
        "# MOAR!\n",
        "\n",
        "## GitHub API\n",
        "\n",
        "The GitHub jobs API analysis was so small that it'll be appended to the StackOverflow one rather than live in its own notebook.\n",
        "\n",
        "At the time of the query, thre were only  2 Chicago jobs (and 2 Illinois!) posted on GitHub, so i expanded to the whole U.S."
      ]
    },
    {
      "metadata": {
        "id": "SBPV8R4ANEfH",
        "colab_type": "code",
        "outputId": "d44b2db0-6791-4b5a-8686-c0bd9ff1c4b7",
        "colab": {
          "base_uri": "https://localhost:8080/",
          "height": 273
        }
      },
      "cell_type": "code",
      "source": [
        "import json\n",
        "import requests\n",
        "\n",
        "# Chicago\n",
        "data = requests.get(\"https://jobs.github.com/positions.json?&location=Chicago\").json()\n",
        "print(f\"{len(data)} Chicago jobs found:\\n  \", \", \".join(d[\"title\"] for d in data))\n",
        "# Illinois\n",
        "data = requests.get(\"https://jobs.github.com/positions.json?&location=Illinois\").json()\n",
        "print(f\"{len(data)} Illinois jobs found:\\n  \", \", \".join(d[\"title\"] for d in data))\n",
        "\n",
        "# USA\n",
        "i = 0\n",
        "results = []\n",
        "while True:\n",
        "    url = f\"https://jobs.github.com/positions.json?&location=usa&page={i}\"\n",
        "    i = i + 1\n",
        "    try:\n",
        "        data = requests.get(url).json()\n",
        "        results.extend(data)\n",
        "    except json.decoder.JSONDecodeError:\n",
        "        data = []\n",
        "    if len(data) < 50 or len(results) > 1000:\n",
        "        break  # Finished all pulls\n",
        "        \n",
        "print(f\"\\nPulled {len(results)} U.S. positions.\")"
      ],
      "execution_count": 13,
      "outputs": [
        {
          "output_type": "stream",
          "text": [
            "3 Chicago jobs found:\n",
            "   Data Scientist, Front End Developer, Senior Python Engineer\n",
            "3 Illinois jobs found:\n",
            "   Data Scientist, Front End Developer, Senior Python Engineer\n",
            "\n",
            "Pulled 180 U.S. positions.\n"
          ],
          "name": "stdout"
        }
      ]
    },
    {
      "metadata": {
        "id": "UcwLAOe3Nfh3",
        "colab_type": "text"
      },
      "cell_type": "markdown",
      "source": [
        "### Same patterns but pasted again\n",
        "In case people don't want to scroll all the way up to get them."
      ]
    },
    {
      "metadata": {
        "id": "UxORmKYTNZGy",
        "colab_type": "code",
        "outputId": "a2919ec3-92d9-4558-c47e-26bc0c6817d4",
        "colab": {
          "base_uri": "https://localhost:8080/",
          "height": 477
        }
      },
      "cell_type": "code",
      "source": [
        "import re\n",
        "\n",
        "roles = [\n",
        "    (\"managers\", re.compile(\"(manager|director)\", re.IGNORECASE)),\n",
        "    (\"ops\", re.compile(\"dev.?ops\", re.IGNORECASE)),\n",
        "    (\"full stack\", re.compile(\"full.?stack\", re.IGNORECASE)),\n",
        "    (\"front end\", re.compile(\"(front.?end|php)\", re.IGNORECASE)),\n",
        "    (\"backend\", re.compile(\"(back.?end|sql)\", re.IGNORECASE)),\n",
        "    #(\"quality\", re.compile(\"(q.?a|quality.a)\", re.IGNORECASE)),  # Cut because it won't fit on slideshow\n",
        "    (\"security\", re.compile(\"(security|devsec|opsec)\", re.IGNORECASE)),\n",
        "    (\"data science\", re.compile(\"(data.?scien|machine.?lear)\", re.IGNORECASE)),\n",
        "    (\"other dev\", re.compile(\".*\", re.IGNORECASE)),\n",
        "]\n",
        "\n",
        "\n",
        "by_roles = {k:[] for k,v in roles}\n",
        "for r in results:\n",
        "    role = next(role for role, regex in roles if regex.search(r['description']))\n",
        "    by_roles[role].append(r)\n",
        "    \n",
        "    \n",
        "print(f\"{len(results)} total GitHub jobs\")\n",
        "\n",
        "for role, jobs in by_roles.items():\n",
        "     print(f\"{role}: {len(jobs)} jobs  ({len(jobs) / len(results):.0%})\")\n",
        "      \n",
        "print()\n",
        "print(\"*\" * 20)\n",
        "print(\"LANGUAGES\")\n",
        "    \n",
        "for language in (\"javascript\", \"python\", \"sql\", \"java\", \"c++\", \"scala\"):\n",
        "    if language == \"java\":\n",
        "        total_jobs = len([r for r in results if language in r['description'].lower() and not \"javascript\" in r['description'].lower()])\n",
        "    else:\n",
        "        total_jobs = len([r for r in results if language in r['description'].lower()])\n",
        "    print(f\"{language}: {total_jobs} jobs ({total_jobs / len(results):.0%})\")\n"
      ],
      "execution_count": 14,
      "outputs": [
        {
          "output_type": "stream",
          "text": [
            "180 total GitHub jobs\n",
            "managers: 37 jobs  (21%)\n",
            "ops: 16 jobs  (9%)\n",
            "full stack: 23 jobs  (13%)\n",
            "front end: 26 jobs  (14%)\n",
            "backend: 25 jobs  (14%)\n",
            "security: 4 jobs  (2%)\n",
            "data science: 10 jobs  (6%)\n",
            "other dev: 39 jobs  (22%)\n",
            "\n",
            "********************\n",
            "LANGUAGES\n",
            "javascript: 70 jobs (39%)\n",
            "python: 66 jobs (37%)\n",
            "sql: 72 jobs (40%)\n",
            "java: 29 jobs (16%)\n",
            "c++: 16 jobs (9%)\n",
            "scala: 47 jobs (26%)\n"
          ],
          "name": "stdout"
        }
      ]
    },
    {
      "metadata": {
        "id": "BtWdoLe-NyD_",
        "colab_type": "text"
      },
      "cell_type": "markdown",
      "source": [
        "# Library versions"
      ]
    },
    {
      "metadata": {
        "id": "pgD7ZfByN1ta",
        "colab_type": "code",
        "outputId": "09a78bed-47ac-485d-b533-7cc03dad1332",
        "colab": {
          "base_uri": "https://localhost:8080/",
          "height": 358
        }
      },
      "cell_type": "code",
      "source": [
        "import datetime\n",
        "import sys\n",
        "\n",
        "import lxml\n",
        "import matplotlib\n",
        "import pandas\n",
        "import requests\n",
        "import upsetplot\n",
        "\n",
        "print(f\"\"\"\n",
        "Date: {datetime.date.today()}\n",
        "Python {sys.version}\n",
        "Libraries:\n",
        "- lxml {lxml.etree.LXML_VERSION}\n",
        "- matplotlib {matplotlib.__version__}\n",
        "- pandas {pandas.__version__}\n",
        "- requests {requests.__version__}\n",
        "- upsetplot {upsetplot.__version__}\n",
        "\"\"\")"
      ],
      "execution_count": 15,
      "outputs": [
        {
          "output_type": "stream",
          "text": [
            "\n",
            "Date: 2019-01-05\n",
            "Python 3.6.7 (default, Oct 22 2018, 11:32:17) \n",
            "[GCC 8.2.0]\n",
            "Libraries:\n",
            "- lxml (4, 2, 6, 0)\n",
            "- matplotlib 2.1.2\n",
            "- pandas 0.22.0\n",
            "- requests 2.18.4\n",
            "- upsetplot 0.1\n",
            "\n"
          ],
          "name": "stdout"
        }
      ]
    }
  ]
}