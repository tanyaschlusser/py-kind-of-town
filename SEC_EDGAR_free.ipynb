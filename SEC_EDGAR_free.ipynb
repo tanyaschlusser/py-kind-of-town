{
  "nbformat": 4,
  "nbformat_minor": 0,
  "metadata": {
    "colab": {
      "name": "DuPage_SEC_EDGAR_free.ipynb",
      "version": "0.3.2",
      "provenance": [],
      "collapsed_sections": []
    },
    "kernelspec": {
      "name": "python3",
      "display_name": "Python 3"
    }
  },
  "cells": [
    {
      "metadata": {
        "id": "fqZs-uqMEGiN",
        "colab_type": "text"
      },
      "cell_type": "markdown",
      "source": [
        "# SEC Data\n",
        "\n",
        "## First do things that don't need an API Key\n",
        "\n",
        "Developer page: https://www.sec.gov/developer — max 10 HTTP requests per second before throttle/IP block.\n",
        "\n",
        "*   RSS feed (latest filings)\n",
        "*   Daily archive \n",
        "*   Quarterly archive (combines dailies at end of each quarter)\n",
        "\n",
        "Each directory has an `index.html` (default) plus `index.json` and `index.xml` that lists all the files.\n",
        "\n",
        "### Different file types\n",
        "*  'form*.idx' — sorted by filing type\n",
        "*  'company*.idx' — sorted by company name\n",
        "*  'master*.idx' — sorted by CKID (unique, never-changing SEC identifier for company)\n",
        "*  Two others—'crawler\\*.idx', and 'sitemap\\*.xml' I didn't look into\n",
        "\n",
        "\n",
        "\n",
        "## Setup"
      ]
    },
    {
      "metadata": {
        "id": "unkX7IypkeVR",
        "colab_type": "code",
        "colab": {}
      },
      "cell_type": "code",
      "source": [
        "import json\n",
        "import re\n",
        "import time\n",
        "\n",
        "import pandas as pd\n",
        "import requests\n",
        "\n",
        "from collections import namedtuple\n",
        "from lxml import etree"
      ],
      "execution_count": 0,
      "outputs": []
    },
    {
      "metadata": {
        "id": "phOU2-BCkdbR",
        "colab_type": "text"
      },
      "cell_type": "markdown",
      "source": [
        "\n",
        "### Example RSS\n",
        "\n",
        "The SEC <a href=\"https://www.sec.gov/about/secrss.shtml\">about RSS</a> page links to an <a href=\"https://www.sec.gov/cgi-bin/srch-edgar?text=FORM-TYPE%3DS-1%20and%20STATE-OF-INCORPORATION%3DCA&start=1&count=80&first=2012&last=2012&output=atom\">example RSS for 2012 S-1 filings in California</a>. Riff on this to try S-1 filings (small business public offerings I think) for all states in 2018...\n",
        "\n",
        "Upon looking at the contents of these filings, it will be hard to get good information outside of just state quickly. (Some of the filings are done by firms for the entity, and the entity is named deep in the text making it not a good choice for a quick thing like this.)\n",
        "\n",
        "..so just doing state of incorporation.\n",
        "\n",
        "#### Count S-1 filings per state (and per capita)\n",
        "See where the activity mostly is and demonstrate use of the SEC RSS.\n",
        "\n",
        "##### First get state populations and abbreviations"
      ]
    },
    {
      "metadata": {
        "id": "Wp_BYYbrQqyw",
        "colab_type": "code",
        "outputId": "e5cbac4d-21ab-4f34-8a2e-06bb3a4f456c",
        "colab": {
          "base_uri": "https://localhost:8080/",
          "height": 514
        }
      },
      "cell_type": "code",
      "source": [
        "#------------------------------------------- Census data: State populations --------\n",
        "# URL path to Excel file (from https://www.census.gov/data/tables/time-series/demo/popest/2010s-state-total.html)\n",
        "url = 'https://www2.census.gov/programs-surveys/popest/tables/2010-2018/state/totals/nst-est2018-01.xlsx'\n",
        "\n",
        "# Load the first sheet of the Excel file into a data frame\n",
        "populations = pd.read_excel(url, header=2, skiprows=1)\n",
        "\n",
        "# View the first 7 rows\n",
        "populations.head(7)\n",
        "\n",
        "# Fix the column names\n",
        "populations.columns = [\"state\"] + [str(c) for c in populations.columns[1:]]\n",
        "populations = populations.dropna()\n",
        "populations = populations[populations.state.str.startswith(\".\")].assign(state=populations.state.str.strip('.'))\n",
        "print(populations.head(5))\n",
        "\n",
        "\n",
        "#------------------------------------------- BLS data: State abbreviations --------\n",
        "# There are two tables so get the last one\n",
        "abbrs = pd.read_html(\"https://www.bls.gov/cew/cewedr10.htm\")[-1]\n",
        "\n",
        "# The header is in the first row so fix it\n",
        "abbrs.columns = abbrs.iloc[0]\n",
        "abbrs = abbrs.reindex(abbrs.index.drop(0))\n",
        "abbrs = pd.concat([abbrs.iloc[:, 0:2], abbrs.iloc[:, 3:5]]).dropna()\n",
        "abbrs.columns = [\"state\", \"abbr\"]\n",
        "\n",
        "print(abbrs.head(3))\n",
        "\n",
        "\n",
        "#------------------------------------------- Map abbreviation to population --------\n",
        "abbr_to_population = {}\n",
        "for i, row in abbrs.iterrows():\n",
        "    try:\n",
        "        abbr_to_population[row.abbr] = int(populations.loc[populations.state == row.state, \"2018\"])\n",
        "    except TypeError:\n",
        "        # Puerto Rico has a list not a number?\n",
        "        continue\n",
        "\n",
        "print(f\"Total abbreviations: {len(abbr_to_population)}\")\n",
        "print(\", \".join(sorted(abbr_to_population.keys())))\n",
        "# DC is the extra abbreviation that makes 51"
      ],
      "execution_count": 0,
      "outputs": [
        {
          "output_type": "stream",
          "text": [
            "        state      Census  Estimates Base        2010        2011        2012  \\\n",
            "5     Alabama   4779736.0       4780138.0   4785448.0   4798834.0   4815564.0   \n",
            "6      Alaska    710231.0        710249.0    713906.0    722038.0    730399.0   \n",
            "7     Arizona   6392017.0       6392288.0   6407774.0   6473497.0   6556629.0   \n",
            "8    Arkansas   2915918.0       2916028.0   2921978.0   2940407.0   2952109.0   \n",
            "9  California  37253956.0      37254523.0  37320903.0  37641823.0  37960782.0   \n",
            "\n",
            "         2013        2014        2015        2016        2017        2018  \n",
            "5   4830460.0   4842481.0   4853160.0   4864745.0   4875120.0   4887871.0  \n",
            "6    737045.0    736307.0    737547.0    741504.0    739786.0    737438.0  \n",
            "7   6634999.0   6733840.0   6833596.0   6945452.0   7048876.0   7171646.0  \n",
            "8   2959549.0   2967726.0   2978407.0   2990410.0   3002997.0   3013825.0  \n",
            "9  38280824.0  38625139.0  38953142.0  39209127.0  39399349.0  39557045.0  \n",
            "     state abbr\n",
            "1  Alabama   AL\n",
            "2   Alaska   AK\n",
            "3  Arizona   AZ\n",
            "Total abbreviations: 51\n",
            "AK, AL, AR, AZ, CA, CO, CT, DC, DE, FL, GA, HI, IA, ID, IL, IN, KS, KY, LA, MA, MD, ME, MI, MN, MO, MS, MT, NC, ND, NE, NH, NJ, NM, NV, NY, OH, OK, OR, PA, RI, SC, SD, TN, TX, UT, VA, VT, WA, WI, WV, WY\n"
          ],
          "name": "stdout"
        }
      ]
    },
    {
      "metadata": {
        "id": "XZW3hpCFST6k",
        "colab_type": "text"
      },
      "cell_type": "markdown",
      "source": [
        "##### Next pull the S-1 filing data from the SEC's RSS feed\n",
        "Loop over the state abbreviations and populate the dataset with total filings per year per state.\n",
        "\n",
        "First, an example, to understand the format of the response:"
      ]
    },
    {
      "metadata": {
        "id": "hVnhQhFdU-zi",
        "colab_type": "code",
        "outputId": "ef0a7a9f-56bb-45ce-98cb-d0a525507e76",
        "colab": {
          "base_uri": "https://localhost:8080/",
          "height": 582
        }
      },
      "cell_type": "code",
      "source": [
        "base = \"https://www.sec.gov/{path}\"\n",
        "search = \"cgi-bin/srch-edgar\"\n",
        "query = dict(\n",
        "    text=\"FORM-TYPE=S-1 and STATE-OF-INCORPORATION=CA\",\n",
        "    #start=1,\n",
        "    #count=100,  # Apparently pagination is not necessary so I'm omitting it\n",
        "    first=2018,\n",
        "    last=2018,\n",
        "    output=\"atom\"\n",
        ")\n",
        "\n",
        "response = requests.get(base.format(path=search), params=query)\n",
        "\n",
        "print(f\"url: {response.url}\\nok? {response.ok}\\n\")\n",
        "print(f\"Head:\\n{response.text[:1500]}\")"
      ],
      "execution_count": 0,
      "outputs": [
        {
          "output_type": "stream",
          "text": [
            "url: https://www.sec.gov/cgi-bin/srch-edgar?text=FORM-TYPE%3DS-1+and+STATE-OF-INCORPORATION%3DCA&first=2018&last=2018&output=atom\n",
            "ok? True\n",
            "\n",
            "Head:\n",
            "<?xml version=\"1.0\" encoding=\"ISO-8859-1\" ?>\n",
            "<feed xmlns=\"http://www.w3.org/2005/Atom\">\n",
            "   <title>Archive of Historical EDGAR Documents</title>\n",
            "   <link rel=\"alternate\" href=\"http://www.sec.gov//cgi-bin/srch-edgar?text=FORM-TYPE%3DS-1%20and%20STATE-OF-INCORPORATION%3DCA&amp;start=1&amp;count=80&amp;first=2018&amp;last=2018&amp;output=atom\"/>\n",
            "   <link rel=\"self\" href=\"http://www.sec.gov//cgi-bin/srch-edgar?text=FORM-TYPE%3DS-1%20and%20STATE-OF-INCORPORATION%3DCA&amp;start=1&amp;count=80&amp;first=2018&amp;last=2018&amp;output=atom\"/>\n",
            "   <id>http://www.sec.gov//cgi-bin/srch-edgar?text=FORM-TYPE%3DS-1%20and%20STATE-OF-INCORPORATION%3DCA&amp;start=1&amp;count=80&amp;first=2018&amp;last=2018&amp;output=atom</id>\n",
            "   <author><name>Webmaster</name><email>webmaster@sec.gov</email></author>\n",
            "   <updated>2019-01-02T19:24:40-05:00</updated>\n",
            "   <entry>\n",
            "      <title>S-1 - ARADIGM CORP</title>\n",
            "      <link rel=\"alternate\" type=\"text/html\" href=\"/Archives/edgar/data/1013238/000119312518339917/0001193125-18-339917-index.htm\"/>\n",
            "      <summary type=\"html\">&lt;b&gt;Filed Date:&lt;/b&gt; 11/30/2018 &lt;b&gt;Accession Number:&lt;/b&gt; 0001193125-18-339917 &lt;b&gt;Size:&lt;/b&gt; 480 KB</summary>\n",
            "      <updated>11/30/2018</updated>\n",
            "      <category scheme=\"http://www.sec.gov/\" label=\"form type\" term=\"4\"/>\n",
            "      <id>urn:tag:sec.gov,2008:accession-number=0001193125-18-339917</id>\n",
            "   </entry>\n",
            "   <entry>\n",
            "      <title>S-1 - ELECTROPREMIUM</title>\n",
            "      <link rel=\"alternate\" type=\"text/html\" href=\"/Archiv\n"
          ],
          "name": "stdout"
        }
      ]
    },
    {
      "metadata": {
        "id": "Zd35lr6srDGM",
        "colab_type": "text"
      },
      "cell_type": "markdown",
      "source": [
        "To count each entry, we need to\n",
        "1. pull out the `<feed> ... </feed>` section and convert it to an XML Element Tree\n",
        "2. count all the entries.\n",
        "\n",
        "(surprising how few...)"
      ]
    },
    {
      "metadata": {
        "id": "6ztNATU_szix",
        "colab_type": "code",
        "outputId": "e0561016-f25e-4901-c7fb-d554951c81fb",
        "colab": {
          "base_uri": "https://localhost:8080/",
          "height": 188
        }
      },
      "cell_type": "code",
      "source": [
        "feed = re.search(r\"<feed.*feed>\", response.text, re.DOTALL).group(0)\n",
        "root = etree.fromstring(feed)\n",
        "entries = root.findall(\"entry\", namespaces=root.nsmap)\n",
        "print(len(entries))\n"
      ],
      "execution_count": 0,
      "outputs": [
        {
          "output_type": "stream",
          "text": [
            "4\n"
          ],
          "name": "stdout"
        }
      ]
    },
    {
      "metadata": {
        "id": "lJmCRZcyjHHq",
        "colab_type": "text"
      },
      "cell_type": "markdown",
      "source": [
        "Do it for real now"
      ]
    },
    {
      "metadata": {
        "id": "uy5sUrTtsQu4",
        "colab_type": "code",
        "outputId": "9d2f0dc0-da9e-4837-e128-a081de328d29",
        "colab": {
          "base_uri": "https://localhost:8080/",
          "height": 358
        }
      },
      "cell_type": "code",
      "source": [
        "base = \"https://www.sec.gov/{path}\"\n",
        "search = \"cgi-bin/srch-edgar\"\n",
        "\n",
        "\n",
        "Row = namedtuple(\"Row\", [\"year\", \"state\", \"population\", \"s1_count\"])\n",
        "\n",
        "s1_filings_by_state = []\n",
        "for year in range(2008, 2019):\n",
        "    for state, population in abbr_to_population.items():\n",
        "        query = dict(\n",
        "            text=f\"FORM-TYPE=S-1 and STATE-OF-INCORPORATION={state}\",\n",
        "            first=year,\n",
        "            last=year,\n",
        "            output=\"atom\"\n",
        "        )\n",
        "        response = requests.get(base.format(path=search), params=query)\n",
        "        feed = re.search(r\"<feed.*feed>\", response.text, re.DOTALL).group(0)\n",
        "        root = etree.fromstring(feed)\n",
        "        entries = root.findall(\"entry\", namespaces=root.nsmap)\n",
        "        s1_filings_by_state.append(Row(year=year, state=state, population=population, s1_count=len(entries)))\n",
        "        time.sleep(.5)  # polite throttle?\n",
        "\n",
        "s1_filings_by_state = pd.DataFrame(s1_filings_by_state)\n",
        "s1_filings_by_state.head()"
      ],
      "execution_count": 0,
      "outputs": [
        {
          "output_type": "execute_result",
          "data": {
            "text/html": [
              "<div>\n",
              "<style scoped>\n",
              "    .dataframe tbody tr th:only-of-type {\n",
              "        vertical-align: middle;\n",
              "    }\n",
              "\n",
              "    .dataframe tbody tr th {\n",
              "        vertical-align: top;\n",
              "    }\n",
              "\n",
              "    .dataframe thead th {\n",
              "        text-align: right;\n",
              "    }\n",
              "</style>\n",
              "<table border=\"1\" class=\"dataframe\">\n",
              "  <thead>\n",
              "    <tr style=\"text-align: right;\">\n",
              "      <th></th>\n",
              "      <th>year</th>\n",
              "      <th>state</th>\n",
              "      <th>population</th>\n",
              "      <th>s1_count</th>\n",
              "    </tr>\n",
              "  </thead>\n",
              "  <tbody>\n",
              "    <tr>\n",
              "      <th>0</th>\n",
              "      <td>2008</td>\n",
              "      <td>AL</td>\n",
              "      <td>4887871</td>\n",
              "      <td>55</td>\n",
              "    </tr>\n",
              "    <tr>\n",
              "      <th>1</th>\n",
              "      <td>2008</td>\n",
              "      <td>AK</td>\n",
              "      <td>737438</td>\n",
              "      <td>1</td>\n",
              "    </tr>\n",
              "    <tr>\n",
              "      <th>2</th>\n",
              "      <td>2008</td>\n",
              "      <td>AZ</td>\n",
              "      <td>7171646</td>\n",
              "      <td>66</td>\n",
              "    </tr>\n",
              "    <tr>\n",
              "      <th>3</th>\n",
              "      <td>2008</td>\n",
              "      <td>AR</td>\n",
              "      <td>3013825</td>\n",
              "      <td>14</td>\n",
              "    </tr>\n",
              "    <tr>\n",
              "      <th>4</th>\n",
              "      <td>2008</td>\n",
              "      <td>CA</td>\n",
              "      <td>39557045</td>\n",
              "      <td>81</td>\n",
              "    </tr>\n",
              "  </tbody>\n",
              "</table>\n",
              "</div>"
            ],
            "text/plain": [
              "   year state  population  s1_count\n",
              "0  2008    AL     4887871        55\n",
              "1  2008    AK      737438         1\n",
              "2  2008    AZ     7171646        66\n",
              "3  2008    AR     3013825        14\n",
              "4  2008    CA    39557045        81"
            ]
          },
          "metadata": {
            "tags": []
          },
          "execution_count": 10
        }
      ]
    },
    {
      "metadata": {
        "id": "pHvpHTNhnagS",
        "colab_type": "text"
      },
      "cell_type": "markdown",
      "source": [
        "##### Add the per capita value and plot"
      ]
    },
    {
      "metadata": {
        "id": "6rDEb9jPnZ34",
        "colab_type": "code",
        "outputId": "214d46e6-f062-4369-b9d8-de616047307c",
        "colab": {
          "base_uri": "https://localhost:8080/",
          "height": 575
        }
      },
      "cell_type": "code",
      "source": [
        "s1_filings_by_state = s1_filings_by_state.assign(\n",
        "    s1_per_100k=s1_filings_by_state.s1_count * 1e+5 / s1_filings_by_state.population\n",
        ")\n",
        "s1_filings_by_state.loc[s1_filings_by_state.year==2018].sort_values(\"s1_per_100k\", ascending=False).head(12)"
      ],
      "execution_count": 0,
      "outputs": [
        {
          "output_type": "execute_result",
          "data": {
            "text/html": [
              "<div>\n",
              "<style scoped>\n",
              "    .dataframe tbody tr th:only-of-type {\n",
              "        vertical-align: middle;\n",
              "    }\n",
              "\n",
              "    .dataframe tbody tr th {\n",
              "        vertical-align: top;\n",
              "    }\n",
              "\n",
              "    .dataframe thead th {\n",
              "        text-align: right;\n",
              "    }\n",
              "</style>\n",
              "<table border=\"1\" class=\"dataframe\">\n",
              "  <thead>\n",
              "    <tr style=\"text-align: right;\">\n",
              "      <th></th>\n",
              "      <th>year</th>\n",
              "      <th>state</th>\n",
              "      <th>population</th>\n",
              "      <th>s1_count</th>\n",
              "      <th>s1_per_100k</th>\n",
              "    </tr>\n",
              "  </thead>\n",
              "  <tbody>\n",
              "    <tr>\n",
              "      <th>517</th>\n",
              "      <td>2018</td>\n",
              "      <td>DE</td>\n",
              "      <td>967171</td>\n",
              "      <td>81</td>\n",
              "      <td>8.374941</td>\n",
              "    </tr>\n",
              "    <tr>\n",
              "      <th>538</th>\n",
              "      <td>2018</td>\n",
              "      <td>NV</td>\n",
              "      <td>3034392</td>\n",
              "      <td>81</td>\n",
              "      <td>2.669398</td>\n",
              "    </tr>\n",
              "    <tr>\n",
              "      <th>560</th>\n",
              "      <td>2018</td>\n",
              "      <td>WY</td>\n",
              "      <td>577737</td>\n",
              "      <td>4</td>\n",
              "      <td>0.692357</td>\n",
              "    </tr>\n",
              "    <tr>\n",
              "      <th>515</th>\n",
              "      <td>2018</td>\n",
              "      <td>CO</td>\n",
              "      <td>5695564</td>\n",
              "      <td>15</td>\n",
              "      <td>0.263363</td>\n",
              "    </tr>\n",
              "    <tr>\n",
              "      <th>537</th>\n",
              "      <td>2018</td>\n",
              "      <td>NE</td>\n",
              "      <td>1929268</td>\n",
              "      <td>5</td>\n",
              "      <td>0.259166</td>\n",
              "    </tr>\n",
              "    <tr>\n",
              "      <th>533</th>\n",
              "      <td>2018</td>\n",
              "      <td>MN</td>\n",
              "      <td>5611179</td>\n",
              "      <td>10</td>\n",
              "      <td>0.178216</td>\n",
              "    </tr>\n",
              "    <tr>\n",
              "      <th>542</th>\n",
              "      <td>2018</td>\n",
              "      <td>NY</td>\n",
              "      <td>19542209</td>\n",
              "      <td>22</td>\n",
              "      <td>0.112577</td>\n",
              "    </tr>\n",
              "    <tr>\n",
              "      <th>519</th>\n",
              "      <td>2018</td>\n",
              "      <td>FL</td>\n",
              "      <td>21299325</td>\n",
              "      <td>21</td>\n",
              "      <td>0.098595</td>\n",
              "    </tr>\n",
              "    <tr>\n",
              "      <th>525</th>\n",
              "      <td>2018</td>\n",
              "      <td>IA</td>\n",
              "      <td>3156145</td>\n",
              "      <td>3</td>\n",
              "      <td>0.095053</td>\n",
              "    </tr>\n",
              "    <tr>\n",
              "      <th>554</th>\n",
              "      <td>2018</td>\n",
              "      <td>UT</td>\n",
              "      <td>3161105</td>\n",
              "      <td>3</td>\n",
              "      <td>0.094904</td>\n",
              "    </tr>\n",
              "    <tr>\n",
              "      <th>530</th>\n",
              "      <td>2018</td>\n",
              "      <td>MD</td>\n",
              "      <td>6042718</td>\n",
              "      <td>5</td>\n",
              "      <td>0.082744</td>\n",
              "    </tr>\n",
              "    <tr>\n",
              "      <th>522</th>\n",
              "      <td>2018</td>\n",
              "      <td>ID</td>\n",
              "      <td>1754208</td>\n",
              "      <td>1</td>\n",
              "      <td>0.057006</td>\n",
              "    </tr>\n",
              "  </tbody>\n",
              "</table>\n",
              "</div>"
            ],
            "text/plain": [
              "     year state  population  s1_count  s1_per_100k\n",
              "517  2018    DE      967171        81     8.374941\n",
              "538  2018    NV     3034392        81     2.669398\n",
              "560  2018    WY      577737         4     0.692357\n",
              "515  2018    CO     5695564        15     0.263363\n",
              "537  2018    NE     1929268         5     0.259166\n",
              "533  2018    MN     5611179        10     0.178216\n",
              "542  2018    NY    19542209        22     0.112577\n",
              "519  2018    FL    21299325        21     0.098595\n",
              "525  2018    IA     3156145         3     0.095053\n",
              "554  2018    UT     3161105         3     0.094904\n",
              "530  2018    MD     6042718         5     0.082744\n",
              "522  2018    ID     1754208         1     0.057006"
            ]
          },
          "metadata": {
            "tags": []
          },
          "execution_count": 11
        }
      ]
    },
    {
      "metadata": {
        "id": "gaFPlXSyoJ12",
        "colab_type": "code",
        "outputId": "51d6190f-af04-4798-a266-8832ca376b2c",
        "colab": {
          "base_uri": "https://localhost:8080/",
          "height": 755
        }
      },
      "cell_type": "code",
      "source": [
        "import matplotlib\n",
        "\n",
        "matplotlib.rc('font', size=24)\n",
        "matplotlib.rc('axes', labelsize=24) \n",
        "matplotlib.rc('axes', titlesize=24)\n",
        "matplotlib.rc('xtick', labelsize=22)\n",
        "matplotlib.rc('ytick', labelsize=22) \n",
        "\n",
        "all_usa = s1_filings_by_state.groupby(\"year\").s1_count.sum()\n",
        "print(all_usa)\n",
        "all_usa.plot(figsize=(10,5), title=\"S-1 filings year over year\");"
      ],
      "execution_count": 0,
      "outputs": [
        {
          "output_type": "stream",
          "text": [
            "year\n",
            "2008    2215\n",
            "2009    2752\n",
            "2010    2176\n",
            "2011    1934\n",
            "2012    2182\n",
            "2013     527\n",
            "2014    1805\n",
            "2015     297\n",
            "2016     338\n",
            "2017     363\n",
            "2018     301\n",
            "Name: s1_count, dtype: int64\n"
          ],
          "name": "stdout"
        },
        {
          "output_type": "display_data",
          "data": {
            "image/png": "[encoded data removed]",
            "text/plain": [
              "<matplotlib.figure.Figure at 0x7f72650c2a20>"
            ]
          },
          "metadata": {
            "tags": []
          }
        }
      ]
    },
    {
      "metadata": {
        "id": "7Tim-qCkVFr0",
        "colab_type": "text"
      },
      "cell_type": "markdown",
      "source": [
        "### Example daily index\n",
        "What was happening new year's eve?\n"
      ]
    },
    {
      "metadata": {
        "id": "6erd30i1VGdp",
        "colab_type": "code",
        "outputId": "bf90640d-920f-40c7-e84a-f8688e58c67a",
        "colab": {
          "base_uri": "https://localhost:8080/",
          "height": 545
        }
      },
      "cell_type": "code",
      "source": [
        "url = \"Archives/edgar/daily-index/2018/QTR4/form.20181231.idx\"\n",
        "response = requests.get(url)\n",
        "print(response.text[:2000])"
      ],
      "execution_count": 0,
      "outputs": [
        {
          "output_type": "stream",
          "text": [
            "Description:           Daily Index of EDGAR Dissemination Feed by Form Type\n",
            "Last Data Received:    Dec 31, 2018\n",
            "Comments:              webmaster@sec.gov\n",
            "Anonymous FTP:         ftp://ftp.sec.gov/edgar/\n",
            " \n",
            " \n",
            " \n",
            " \n",
            "Form Type   Company Name                                                  CIK\n",
            "      Date Filed  File Name\n",
            "---------------------------------------------------------------------------------------------------------------------------------------------\n",
            "1-A/A       American Diversified Energy LLC                               1689500     20181231    edgar/data/1689500/0001683168-18-003825.txt         \n",
            "1-A/A       UMBRA Technologies (US) Inc.                                  1742808     20181231    edgar/data/1742808/0001742808-18-000004.txt         \n",
            "1-SA        Nuvus Gro Corp                                                1671132     20181231    edgar/data/1671132/0001079974-18-000687.txt         \n",
            "1-SA        Red Fish Properties, Inc.                                     1703429     20181231    edgar/data/1703429/0001703429-18-000003.txt         \n",
            "1-U         FUNDRISE REAL ESTATE INVESTMENT TRUST, LLC                    1645583     20181231    edgar/data/1645583/0001144204-18-066698.txt         \n",
            "10-D        BBCMS Mortgage Trust 2017-C1                                  1696707     20181231    edgar/data/1696707/0001056404-18-009029.txt         \n",
            "10-D        Benchmark 2018-B1 Mortgage Trust                              1722194     20181231    edgar/data/1722194/0001056404-18-009045.txt         \n",
            "10-D        Benchmark 2018-B4 Mortgage Trust                              1740849     20181231    edgar/data/1740849/0001056404-18-009059.txt         \n",
            "10-D        CD 2018-CD7 Mortgage Trust                                    1746406     20181231    edgar/data/1746406/0001056404-18-009057.txt         \n",
            "10-D        CDF Funding, Inc.                                             1290205     20181231    edgar/data/1290205/0001144204-18-066740.txt         \n",
            "10-D        COMM 2012-CCRE1 Mortg\n"
          ],
          "name": "stdout"
        }
      ]
    },
    {
      "metadata": {
        "id": "6UvaGp3u4clT",
        "colab_type": "text"
      },
      "cell_type": "markdown",
      "source": [
        "The URLs are where the information is. We need to parse this fixed-width file to get the data."
      ]
    },
    {
      "metadata": {
        "id": "YlpgEnzXCwgS",
        "colab_type": "code",
        "outputId": "aaeb6437-b180-451d-ad1b-e999949baeca",
        "colab": {
          "base_uri": "https://localhost:8080/",
          "height": 188
        }
      },
      "cell_type": "code",
      "source": [
        "beginning = re.search(\"^Form Type\", response.text, re.MULTILINE).span()[0]\n",
        "header, body = re.split(\"-+\\n\", response.text[beginning:], re.MULTILINE)\n",
        "\n",
        "# Find the start of each column\n",
        "starts = [0] + [match.span()[-1] for match in re.finditer(\"\\s{2,}\", header)]\n",
        "\n",
        "def parse(line):\n",
        "    return [line[i:j].strip() for i, j in zip(starts, starts[1:] + [-1])]\n",
        "\n",
        "\n",
        "field_names = [s.replace(\" \", \"_\").lower() for s in parse(header)]\n",
        "Row = namedtuple(\"Row\", field_names)\n",
        "\n",
        "print(\"field names are: \", \", \".join(field_names))"
      ],
      "execution_count": 0,
      "outputs": [
        {
          "output_type": "stream",
          "text": [
            "field names are:  form_type, company_name, cik, date_filed, file_name\n"
          ],
          "name": "stdout"
        }
      ]
    },
    {
      "metadata": {
        "id": "aFnl9N0gO6XP",
        "colab_type": "code",
        "outputId": "471daea4-8fe7-48a8-e001-c546ceb48b03",
        "colab": {
          "base_uri": "https://localhost:8080/",
          "height": 259
        }
      },
      "cell_type": "code",
      "source": [
        "rows = [Row(*parse(line)) for line in body.splitlines()]\n",
        "print(f\"{len(rows)} rows.\\nFirst row:\\n\\n{rows[0]}\")"
      ],
      "execution_count": 0,
      "outputs": [
        {
          "output_type": "stream",
          "text": [
            "2619 rows.\n",
            "First row:\n",
            "\n",
            "Row(form_type='1-A/A', company_name='American Diversified Energy LLC', cik='1689500', date_filed='20181231', file_name='edgar/data/1689500/0001683168-18-003825.txt')\n"
          ],
          "name": "stdout"
        }
      ]
    },
    {
      "metadata": {
        "id": "_zkz_fffXPv4",
        "colab_type": "text"
      },
      "cell_type": "markdown",
      "source": [
        "##### Something quick -- how about a count of form types?\n",
        "On New Year's eve..."
      ]
    },
    {
      "metadata": {
        "id": "mLYTk27SXQjJ",
        "colab_type": "code",
        "outputId": "c8587164-7bbe-41cd-c511-bb19492c6ffe",
        "colab": {
          "base_uri": "https://localhost:8080/",
          "height": 358
        }
      },
      "cell_type": "code",
      "source": [
        "from collections import Counter\n",
        "\n",
        "form_types = Counter(row.form_type for row in rows)\n",
        "print(f\"{len(form_types)} different forms\")\n",
        "form_types.most_common(10)"
      ],
      "execution_count": 0,
      "outputs": [
        {
          "output_type": "stream",
          "text": [
            "77 different forms\n"
          ],
          "name": "stdout"
        },
        {
          "output_type": "execute_result",
          "data": {
            "text/plain": [
              "[('4', 769),\n",
              " ('424B2', 416),\n",
              " ('497K', 358),\n",
              " ('D', 127),\n",
              " ('8-K', 118),\n",
              " ('FWP', 114),\n",
              " ('497', 76),\n",
              " ('10-D', 61),\n",
              " ('6-K', 54),\n",
              " ('D/A', 52)]"
            ]
          },
          "metadata": {
            "tags": []
          },
          "execution_count": 40
        }
      ]
    },
    {
      "metadata": {
        "id": "nuqBaN_wa2ug",
        "colab_type": "code",
        "outputId": "b817fa7d-303c-4049-a8cf-d6ae641c0426",
        "colab": {
          "base_uri": "https://localhost:8080/",
          "height": 256
        }
      },
      "cell_type": "code",
      "source": [
        "Counter(row.company_name for row in rows).most_common(5)"
      ],
      "execution_count": 0,
      "outputs": [
        {
          "output_type": "execute_result",
          "data": {
            "text/plain": [
              "[('CREDIT SUISSE AG', 121),\n",
              " ('EQ ADVISORS TRUST', 99),\n",
              " ('JPMORGAN CHASE & CO', 85),\n",
              " ('JPMorgan Chase Financial Co. LLC', 85),\n",
              " ('HYSTER-YALE MATERIALS HANDLING, INC.', 64)]"
            ]
          },
          "metadata": {
            "tags": []
          },
          "execution_count": 42
        }
      ]
    },
    {
      "metadata": {
        "id": "g8nVEqKXbLmq",
        "colab_type": "text"
      },
      "cell_type": "markdown",
      "source": [
        "##### Woww, JP Morgan Chase filed 85 + 85 = 170 forms on New Year's eve?\n",
        "\n",
        "What are they??"
      ]
    },
    {
      "metadata": {
        "id": "IVbe0gFHtK_8",
        "colab_type": "code",
        "outputId": "ccd76d58-20c6-4632-bbf2-0eba40601c08",
        "colab": {
          "base_uri": "https://localhost:8080/",
          "height": 375
        }
      },
      "cell_type": "code",
      "source": [
        "jpmorgans_newyears = pd.DataFrame([row for row in rows if row.company_name.lower().startswith(\"jpmor\")])\n",
        "print(jpmorgans_newyears.form_type.unique())\n",
        "\n",
        "jpmorgans_newyears.head()"
      ],
      "execution_count": 0,
      "outputs": [
        {
          "output_type": "stream",
          "text": [
            "['424B2' 'FWP']\n"
          ],
          "name": "stdout"
        },
        {
          "output_type": "execute_result",
          "data": {
            "text/html": [
              "<div>\n",
              "<style scoped>\n",
              "    .dataframe tbody tr th:only-of-type {\n",
              "        vertical-align: middle;\n",
              "    }\n",
              "\n",
              "    .dataframe tbody tr th {\n",
              "        vertical-align: top;\n",
              "    }\n",
              "\n",
              "    .dataframe thead th {\n",
              "        text-align: right;\n",
              "    }\n",
              "</style>\n",
              "<table border=\"1\" class=\"dataframe\">\n",
              "  <thead>\n",
              "    <tr style=\"text-align: right;\">\n",
              "      <th></th>\n",
              "      <th>form_type</th>\n",
              "      <th>company_name</th>\n",
              "      <th>cik</th>\n",
              "      <th>date_filed</th>\n",
              "      <th>file_name</th>\n",
              "    </tr>\n",
              "  </thead>\n",
              "  <tbody>\n",
              "    <tr>\n",
              "      <th>0</th>\n",
              "      <td>424B2</td>\n",
              "      <td>JPMORGAN CHASE &amp; CO</td>\n",
              "      <td>19617</td>\n",
              "      <td>20181231</td>\n",
              "      <td>edgar/data/19617/0000891092-18-009427.txt</td>\n",
              "    </tr>\n",
              "    <tr>\n",
              "      <th>1</th>\n",
              "      <td>424B2</td>\n",
              "      <td>JPMORGAN CHASE &amp; CO</td>\n",
              "      <td>19617</td>\n",
              "      <td>20181231</td>\n",
              "      <td>edgar/data/19617/0000891092-18-009428.txt</td>\n",
              "    </tr>\n",
              "    <tr>\n",
              "      <th>2</th>\n",
              "      <td>424B2</td>\n",
              "      <td>JPMORGAN CHASE &amp; CO</td>\n",
              "      <td>19617</td>\n",
              "      <td>20181231</td>\n",
              "      <td>edgar/data/19617/0000891092-18-009431.txt</td>\n",
              "    </tr>\n",
              "    <tr>\n",
              "      <th>3</th>\n",
              "      <td>424B2</td>\n",
              "      <td>JPMORGAN CHASE &amp; CO</td>\n",
              "      <td>19617</td>\n",
              "      <td>20181231</td>\n",
              "      <td>edgar/data/19617/0000891092-18-009445.txt</td>\n",
              "    </tr>\n",
              "    <tr>\n",
              "      <th>4</th>\n",
              "      <td>424B2</td>\n",
              "      <td>JPMORGAN CHASE &amp; CO</td>\n",
              "      <td>19617</td>\n",
              "      <td>20181231</td>\n",
              "      <td>edgar/data/19617/0000891092-18-009446.txt</td>\n",
              "    </tr>\n",
              "  </tbody>\n",
              "</table>\n",
              "</div>"
            ],
            "text/plain": [
              "  form_type         company_name    cik date_filed  \\\n",
              "0     424B2  JPMORGAN CHASE & CO  19617   20181231   \n",
              "1     424B2  JPMORGAN CHASE & CO  19617   20181231   \n",
              "2     424B2  JPMORGAN CHASE & CO  19617   20181231   \n",
              "3     424B2  JPMORGAN CHASE & CO  19617   20181231   \n",
              "4     424B2  JPMORGAN CHASE & CO  19617   20181231   \n",
              "\n",
              "                                   file_name  \n",
              "0  edgar/data/19617/0000891092-18-009427.txt  \n",
              "1  edgar/data/19617/0000891092-18-009428.txt  \n",
              "2  edgar/data/19617/0000891092-18-009431.txt  \n",
              "3  edgar/data/19617/0000891092-18-009445.txt  \n",
              "4  edgar/data/19617/0000891092-18-009446.txt  "
            ]
          },
          "metadata": {
            "tags": []
          },
          "execution_count": 45
        }
      ]
    },
    {
      "metadata": {
        "id": "_imjParNs_cY",
        "colab_type": "text"
      },
      "cell_type": "markdown",
      "source": [
        "Let's see one of each form."
      ]
    },
    {
      "metadata": {
        "id": "7IAk5fS09wwV",
        "colab_type": "code",
        "outputId": "04db3b7f-ab8b-470b-dc47-5c9b2b17af83",
        "colab": {
          "base_uri": "https://localhost:8080/",
          "height": 188
        }
      },
      "cell_type": "code",
      "source": [
        " jpmorgans_newyears[jpmorgans_newyears.form_type == '424B2'].file_name.iloc[0]"
      ],
      "execution_count": 0,
      "outputs": [
        {
          "output_type": "execute_result",
          "data": {
            "text/plain": [
              "'edgar/data/19617/0000891092-18-009427.txt'"
            ]
          },
          "metadata": {
            "tags": []
          },
          "execution_count": 46
        }
      ]
    },
    {
      "metadata": {
        "id": "frZ5D4j39NDA",
        "colab_type": "code",
        "outputId": "7e3eb28d-2345-44d9-8468-7b3c71f3bb76",
        "colab": {
          "base_uri": "https://localhost:8080/",
          "height": 3367
        }
      },
      "cell_type": "code",
      "source": [
        "url_suffix =  jpmorgans_newyears[jpmorgans_newyears.form_type == '424B2'].file_name.iloc[0]\n",
        "a_424b2_form = requests.get(\"https://www.sec.gov/Archives/\" + url_suffix).text\n",
        "\n",
        "url_suffix =  jpmorgans_newyears[jpmorgans_newyears.form_type == 'FWP'].file_name.iloc[0]\n",
        "an_fwp_form = requests.get(\"https://www.sec.gov/Archives/\" + url_suffix).text\n",
        "\n",
        "\n",
        "print(\"*\" * 42)\n",
        "print(\"Form 424B2\")\n",
        "print(a_424b2_form[:2000])\n",
        "\n",
        "print()\n",
        "print(\"*\" * 42)\n",
        "print(\"Form FWP\")\n",
        "print(an_fwp_form[:2000])"
      ],
      "execution_count": 0,
      "outputs": [
        {
          "output_type": "stream",
          "text": [
            "******************************************\n",
            "Form 424B2\n",
            "<SEC-DOCUMENT>0000891092-18-009427.txt : 20181231\n",
            "<SEC-HEADER>0000891092-18-009427.hdr.sgml : 20181231\n",
            "<ACCEPTANCE-DATETIME>20181228175504\n",
            "ACCESSION NUMBER:\t\t0000891092-18-009427\n",
            "CONFORMED SUBMISSION TYPE:\t424B2\n",
            "PUBLIC DOCUMENT COUNT:\t\t4\n",
            "FILED AS OF DATE:\t\t20181231\n",
            "DATE AS OF CHANGE:\t\t20181228\n",
            "\n",
            "FILER:\n",
            "\n",
            "\tCOMPANY DATA:\t\n",
            "\t\tCOMPANY CONFORMED NAME:\t\t\tJPMORGAN CHASE & CO\n",
            "\t\tCENTRAL INDEX KEY:\t\t\t0000019617\n",
            "\t\tSTANDARD INDUSTRIAL CLASSIFICATION:\tNATIONAL COMMERCIAL BANKS [6021]\n",
            "\t\tIRS NUMBER:\t\t\t\t132624428\n",
            "\t\tSTATE OF INCORPORATION:\t\t\tDE\n",
            "\t\tFISCAL YEAR END:\t\t\t1231\n",
            "\n",
            "\tFILING VALUES:\n",
            "\t\tFORM TYPE:\t\t424B2\n",
            "\t\tSEC ACT:\t\t1933 Act\n",
            "\t\tSEC FILE NUMBER:\t333-222672\n",
            "\t\tFILM NUMBER:\t\t181258224\n",
            "\n",
            "\tBUSINESS ADDRESS:\t\n",
            "\t\tSTREET 1:\t\t270 PARK AVE\n",
            "\t\tSTREET 2:\t\t38TH FL\n",
            "\t\tCITY:\t\t\tNEW YORK\n",
            "\t\tSTATE:\t\t\tNY\n",
            "\t\tZIP:\t\t\t10017\n",
            "\t\tBUSINESS PHONE:\t\t2122706000\n",
            "\n",
            "\tMAIL ADDRESS:\t\n",
            "\t\tSTREET 1:\t\t270 PARK AVENUE\n",
            "\t\tCITY:\t\t\tNEW YORK\n",
            "\t\tSTATE:\t\t\tNY\n",
            "\t\tZIP:\t\t\t10017\n",
            "\n",
            "\tFORMER COMPANY:\t\n",
            "\t\tFORMER CONFORMED NAME:\tJ P MORGAN CHASE & CO\n",
            "\t\tDATE OF NAME CHANGE:\t20010102\n",
            "\n",
            "\tFORMER COMPANY:\t\n",
            "\t\tFORMER CONFORMED NAME:\tCHASE MANHATTAN CORP /DE/\n",
            "\t\tDATE OF NAME CHANGE:\t19960402\n",
            "\n",
            "\tFORMER COMPANY:\t\n",
            "\t\tFORMER CONFORMED NAME:\tCHEMICAL BANKING CORP\n",
            "\t\tDATE OF NAME CHANGE:\t19920703\n",
            "\n",
            "FILER:\n",
            "\n",
            "\tCOMPANY DATA:\t\n",
            "\t\tCOMPANY CONFORMED NAME:\t\t\tJPMorgan Chase Financial Co. LLC\n",
            "\t\tCENTRAL INDEX KEY:\t\t\t0001665650\n",
            "\t\tIRS NUMBER:\t\t\t\t475462128\n",
            "\t\tSTATE OF INCORPORATION:\t\t\tDE\n",
            "\t\tFISCAL YEAR END:\t\t\t1231\n",
            "\n",
            "\tFILING VALUES:\n",
            "\t\tFORM TYPE:\t\t424B2\n",
            "\t\tSEC ACT:\t\t1933 Act\n",
            "\t\tSEC FILE NUMBER:\t333-222672-01\n",
            "\t\tFILM NUMBER:\t\t181258223\n",
            "\n",
            "\tBUSINESS ADDRESS:\t\n",
            "\t\tSTREET 1:\t\t383 MADISON AVENUE\n",
            "\t\tSTREET 2:\t\tFLOOR 21\n",
            "\t\tCITY:\t\t\tNEW YORK\n",
            "\t\tSTATE:\t\t\tNY\n",
            "\t\tZIP:\t\t\t10179\n",
            "\t\tBUSINESS PHONE:\t\t(212) 270-6000\n",
            "\n",
            "\tMAIL ADDRESS:\t\n",
            "\t\tSTREET 1:\t\t383 MADISON AVENUE\n",
            "\t\tSTREET 2:\t\tFLOOR 21\n",
            "\t\tCITY:\t\t\tNEW YORK\n",
            "\t\tSTATE:\t\t\tNY\n",
            "\t\tZIP:\t\t\t10179\n",
            "</SEC-HEADER>\n",
            "<DOCUMENT>\n",
            "<TYPE>424B2\n",
            "<SEQUENCE>1\n",
            "<FILENAME>e3358_424b2.htm\n",
            "<DESCRIPTION>PRELIMINARY PRICING SUPPLEMENT\n",
            "<TEXT>\n",
            "<HTML>\n",
            "<HEAD>\n",
            "<TITLE></TITLE>\n",
            "</HEAD>\n",
            "<BODY>\n",
            "\n",
            "\n",
            "<P STYLE=\"color: red;\n",
            "\n",
            "******************************************\n",
            "Form FWP\n",
            "<SEC-DOCUMENT>0000891092-18-009429.txt : 20181231\n",
            "<SEC-HEADER>0000891092-18-009429.hdr.sgml : 20181231\n",
            "<ACCEPTANCE-DATETIME>20181228175615\n",
            "ACCESSION NUMBER:\t\t0000891092-18-009429\n",
            "CONFORMED SUBMISSION TYPE:\tFWP\n",
            "PUBLIC DOCUMENT COUNT:\t\t3\n",
            "FILED AS OF DATE:\t\t20181231\n",
            "DATE AS OF CHANGE:\t\t20181228\n",
            "\n",
            "SUBJECT COMPANY:\t\n",
            "\n",
            "\tCOMPANY DATA:\t\n",
            "\t\tCOMPANY CONFORMED NAME:\t\t\tJPMORGAN CHASE & CO\n",
            "\t\tCENTRAL INDEX KEY:\t\t\t0000019617\n",
            "\t\tSTANDARD INDUSTRIAL CLASSIFICATION:\tNATIONAL COMMERCIAL BANKS [6021]\n",
            "\t\tIRS NUMBER:\t\t\t\t132624428\n",
            "\t\tSTATE OF INCORPORATION:\t\t\tDE\n",
            "\t\tFISCAL YEAR END:\t\t\t1231\n",
            "\n",
            "\tFILING VALUES:\n",
            "\t\tFORM TYPE:\t\tFWP\n",
            "\t\tSEC ACT:\t\t1934 Act\n",
            "\t\tSEC FILE NUMBER:\t333-222672\n",
            "\t\tFILM NUMBER:\t\t181258232\n",
            "\n",
            "\tBUSINESS ADDRESS:\t\n",
            "\t\tSTREET 1:\t\t270 PARK AVE\n",
            "\t\tSTREET 2:\t\t38TH FL\n",
            "\t\tCITY:\t\t\tNEW YORK\n",
            "\t\tSTATE:\t\t\tNY\n",
            "\t\tZIP:\t\t\t10017\n",
            "\t\tBUSINESS PHONE:\t\t2122706000\n",
            "\n",
            "\tMAIL ADDRESS:\t\n",
            "\t\tSTREET 1:\t\t270 PARK AVENUE\n",
            "\t\tCITY:\t\t\tNEW YORK\n",
            "\t\tSTATE:\t\t\tNY\n",
            "\t\tZIP:\t\t\t10017\n",
            "\n",
            "\tFORMER COMPANY:\t\n",
            "\t\tFORMER CONFORMED NAME:\tJ P MORGAN CHASE & CO\n",
            "\t\tDATE OF NAME CHANGE:\t20010102\n",
            "\n",
            "\tFORMER COMPANY:\t\n",
            "\t\tFORMER CONFORMED NAME:\tCHASE MANHATTAN CORP /DE/\n",
            "\t\tDATE OF NAME CHANGE:\t19960402\n",
            "\n",
            "\tFORMER COMPANY:\t\n",
            "\t\tFORMER CONFORMED NAME:\tCHEMICAL BANKING CORP\n",
            "\t\tDATE OF NAME CHANGE:\t19920703\n",
            "\n",
            "FILED BY:\t\t\n",
            "\n",
            "\tCOMPANY DATA:\t\n",
            "\t\tCOMPANY CONFORMED NAME:\t\t\tJPMORGAN CHASE & CO\n",
            "\t\tCENTRAL INDEX KEY:\t\t\t0000019617\n",
            "\t\tSTANDARD INDUSTRIAL CLASSIFICATION:\tNATIONAL COMMERCIAL BANKS [6021]\n",
            "\t\tIRS NUMBER:\t\t\t\t132624428\n",
            "\t\tSTATE OF INCORPORATION:\t\t\tDE\n",
            "\t\tFISCAL YEAR END:\t\t\t1231\n",
            "\n",
            "\tFILING VALUES:\n",
            "\t\tFORM TYPE:\t\tFWP\n",
            "\n",
            "\tBUSINESS ADDRESS:\t\n",
            "\t\tSTREET 1:\t\t270 PARK AVE\n",
            "\t\tSTREET 2:\t\t38TH FL\n",
            "\t\tCITY:\t\t\tNEW YORK\n",
            "\t\tSTATE:\t\t\tNY\n",
            "\t\tZIP:\t\t\t10017\n",
            "\t\tBUSINESS PHONE:\t\t2122706000\n",
            "\n",
            "\tMAIL ADDRESS:\t\n",
            "\t\tSTREET 1:\t\t270 PARK AVENUE\n",
            "\t\tCITY:\t\t\tNEW YORK\n",
            "\t\tSTATE:\t\t\tNY\n",
            "\t\tZIP:\t\t\t10017\n",
            "\n",
            "\tFORMER COMPANY:\t\n",
            "\t\tFORMER CONFORMED NAME:\tJ P MORGAN CHASE & CO\n",
            "\t\tDATE OF NAME CHANGE:\t20010102\n",
            "\n",
            "\tFORMER COMPANY:\t\n",
            "\t\tFORMER CONFORMED NAME:\tCHASE MANHATTAN CORP /DE/\n",
            "\t\tDATE OF NAME CHANGE:\t19960402\n",
            "\n",
            "\tFORMER COMPANY:\t\n",
            "\t\tFORMER CONFORMED NAME\n"
          ],
          "name": "stdout"
        }
      ]
    },
    {
      "metadata": {
        "id": "a3JyKd0ZVKvv",
        "colab_type": "text"
      },
      "cell_type": "markdown",
      "source": [
        "### Example quarterly archive\n",
        "\n",
        "\n",
        "Why not Sears? They're from Chicago.\n",
        "1. get CKID (https://www.sec.gov/edgar/searchedgar/companysearch.html)\n",
        "    * search for 'Sears Holdings Corp'\n",
        "    * CKID = 0001310067\n",
        "2. Go back to the archives and find that ID and the forms you care about\n"
      ]
    },
    {
      "metadata": {
        "id": "Pf-pXQfRVLdh",
        "colab_type": "code",
        "outputId": "0780be4a-68d8-442c-953c-6a1e640b2a82",
        "colab": {
          "base_uri": "https://localhost:8080/",
          "height": 664
        }
      },
      "cell_type": "code",
      "source": [
        "url = \"https://www.sec.gov/Archives/edgar/full-index/2018/QTR4/master.idx\"\n",
        "response = requests.get(url)\n",
        "print(response.text[:2000])"
      ],
      "execution_count": 0,
      "outputs": [
        {
          "output_type": "stream",
          "text": [
            "Description:           Master Index of EDGAR Dissemination Feed\n",
            "Last Data Received:    December 31, 2018\n",
            "Comments:              webmaster@sec.gov\n",
            "Anonymous FTP:         ftp://ftp.sec.gov/edgar/\n",
            "Cloud HTTP:            https://www.sec.gov/Archives/\n",
            "\n",
            " \n",
            " \n",
            " \n",
            "CIK|Company Name|Form Type|Date Filed|Filename\n",
            "--------------------------------------------------------------------------------\n",
            "1000045|NICHOLAS FINANCIAL INC|10-Q|2018-11-14|edgar/data/1000045/0001193125-18-326090.txt\n",
            "1000045|NICHOLAS FINANCIAL INC|4|2018-10-15|edgar/data/1000045/0001357521-18-000008.txt\n",
            "1000045|NICHOLAS FINANCIAL INC|4|2018-11-15|edgar/data/1000045/0001357521-18-000009.txt\n",
            "1000045|NICHOLAS FINANCIAL INC|4|2018-12-14|edgar/data/1000045/0001357521-18-000010.txt\n",
            "1000045|NICHOLAS FINANCIAL INC|8-K|2018-11-01|edgar/data/1000045/0001193125-18-314942.txt\n",
            "1000045|NICHOLAS FINANCIAL INC|8-K|2018-11-06|edgar/data/1000045/0001193125-18-319610.txt\n",
            "1000045|NICHOLAS FINANCIAL INC|8-K|2018-12-06|edgar/data/1000045/0001193125-18-343069.txt\n",
            "1000097|KINGDON CAPITAL MANAGEMENT, L.L.C.|13F-HR|2018-11-14|edgar/data/1000097/0001000097-18-000004.txt\n",
            "1000177|NORDIC AMERICAN TANKERS Ltd|6-K|2018-11-13|edgar/data/1000177/0000919574-18-007099.txt\n",
            "1000177|NORDIC AMERICAN TANKERS Ltd|6-K|2018-11-29|edgar/data/1000177/0000919574-18-007801.txt\n",
            "1000177|NORDIC AMERICAN TANKERS Ltd|6-K|2018-11-30|edgar/data/1000177/0000919574-18-007805.txt\n",
            "1000177|NORDIC AMERICAN TANKERS Ltd|6-K|2018-12-04|edgar/data/1000177/0000919574-18-007848.txt\n",
            "1000177|NORDIC AMERICAN TANKERS Ltd|6-K|2018-12-12|edgar/data/1000177/0000919574-18-007951.txt\n",
            "1000177|NORDIC AMERICAN TANKERS Ltd|DEL AM|2018-12-07|edgar/data/1000177/0000919574-18-007897.txt\n",
            "1000177|NORDIC AMERICAN TANKERS Ltd|F-3|2018-11-30|edgar/data/1000177/0000919574-18-007802.txt\n",
            "1000177|NORDIC AMERICAN TANKERS Ltd|SC 13D/A|2018-12-21|edgar/data/1000177/0000919574-18-008115.txt\n",
            "1000177|NORDIC AMERICAN TANKERS Ltd|SC 13D/A|2018-12-21|edgar/data/1000177/0000919574-18-008117.txt\n",
            "1000184|SAP SE|6-K|2\n"
          ],
          "name": "stdout"
        }
      ]
    },
    {
      "metadata": {
        "id": "y5IYP7Hc_Rjc",
        "colab_type": "text"
      },
      "cell_type": "markdown",
      "source": [
        "#### Cool! It lookd like the 'master' form is pipe-separated, which sucks less."
      ]
    },
    {
      "metadata": {
        "id": "rCscKXQQ_V-z",
        "colab_type": "code",
        "outputId": "7727a666-f395-4a7f-df87-120bb562ed66",
        "colab": {
          "base_uri": "https://localhost:8080/",
          "height": 426
        }
      },
      "cell_type": "code",
      "source": [
        "data = response.text.rsplit(\"\\n\\n\", 1)[-1].strip()\n",
        "header = data.split(\"\\n\", 1)[0].split(\"|\")\n",
        "field_names = [field.replace(\" \", \"_\").lower() for field in header]\n",
        "MasterRow = namedtuple(\"MasterRow\", field_names)\n",
        "\n",
        "rows = [MasterRow(*line.split(\"|\")) for line in data.splitlines()[2:]]\n",
        "print(f\"Total documents filed in Q4 last year: {len(rows)}\")\n",
        "\n",
        "\n",
        "sears_cik = \"0001310067\".lstrip(\"0\")\n",
        "#tesla_cik = \"0001318605\".lstrip(\"0\")\n",
        "keep_rows = [row for row in rows if row.cik == sears_cik]\n",
        "print(f\"Total documents filed by Sears Holdings in Q4 last year: {len(keep_rows)}\")\n",
        "\n",
        "sears_2018q4_filings = pd.DataFrame(keep_rows)\n",
        "print(f\"unique forms filed: {sears_2018q4_filings.form_type.unique()}\")\n",
        "sears_2018q4_filings.head()"
      ],
      "execution_count": 0,
      "outputs": [
        {
          "output_type": "stream",
          "text": [
            "Total documents filed in Q4 last year: 197032\n",
            "Total documents filed by Sears Holdings in Q4 last year: 24\n",
            "unique forms filed: ['10-Q' '25-NSE' '3' '4' '8-K/A' '8-K' 'CORRESP' 'CT ORDER' 'SC 13D/A'\n",
            " 'SC 13G/A' 'UPLOAD']\n"
          ],
          "name": "stdout"
        },
        {
          "output_type": "execute_result",
          "data": {
            "text/html": [
              "<div>\n",
              "<style scoped>\n",
              "    .dataframe tbody tr th:only-of-type {\n",
              "        vertical-align: middle;\n",
              "    }\n",
              "\n",
              "    .dataframe tbody tr th {\n",
              "        vertical-align: top;\n",
              "    }\n",
              "\n",
              "    .dataframe thead th {\n",
              "        text-align: right;\n",
              "    }\n",
              "</style>\n",
              "<table border=\"1\" class=\"dataframe\">\n",
              "  <thead>\n",
              "    <tr style=\"text-align: right;\">\n",
              "      <th></th>\n",
              "      <th>cik</th>\n",
              "      <th>company_name</th>\n",
              "      <th>form_type</th>\n",
              "      <th>date_filed</th>\n",
              "      <th>filename</th>\n",
              "    </tr>\n",
              "  </thead>\n",
              "  <tbody>\n",
              "    <tr>\n",
              "      <th>0</th>\n",
              "      <td>1310067</td>\n",
              "      <td>SEARS HOLDINGS CORP</td>\n",
              "      <td>10-Q</td>\n",
              "      <td>2018-12-13</td>\n",
              "      <td>edgar/data/1310067/0001310067-18-000029.txt</td>\n",
              "    </tr>\n",
              "    <tr>\n",
              "      <th>1</th>\n",
              "      <td>1310067</td>\n",
              "      <td>SEARS HOLDINGS CORP</td>\n",
              "      <td>25-NSE</td>\n",
              "      <td>2018-11-15</td>\n",
              "      <td>edgar/data/1310067/0001354457-18-000476.txt</td>\n",
              "    </tr>\n",
              "    <tr>\n",
              "      <th>2</th>\n",
              "      <td>1310067</td>\n",
              "      <td>SEARS HOLDINGS CORP</td>\n",
              "      <td>3</td>\n",
              "      <td>2018-10-15</td>\n",
              "      <td>edgar/data/1310067/0000899243-18-026670.txt</td>\n",
              "    </tr>\n",
              "    <tr>\n",
              "      <th>3</th>\n",
              "      <td>1310067</td>\n",
              "      <td>SEARS HOLDINGS CORP</td>\n",
              "      <td>3</td>\n",
              "      <td>2018-10-17</td>\n",
              "      <td>edgar/data/1310067/0000899243-18-026853.txt</td>\n",
              "    </tr>\n",
              "    <tr>\n",
              "      <th>4</th>\n",
              "      <td>1310067</td>\n",
              "      <td>SEARS HOLDINGS CORP</td>\n",
              "      <td>3</td>\n",
              "      <td>2018-10-19</td>\n",
              "      <td>edgar/data/1310067/0000899243-18-027048.txt</td>\n",
              "    </tr>\n",
              "  </tbody>\n",
              "</table>\n",
              "</div>"
            ],
            "text/plain": [
              "       cik         company_name form_type  date_filed  \\\n",
              "0  1310067  SEARS HOLDINGS CORP      10-Q  2018-12-13   \n",
              "1  1310067  SEARS HOLDINGS CORP    25-NSE  2018-11-15   \n",
              "2  1310067  SEARS HOLDINGS CORP         3  2018-10-15   \n",
              "3  1310067  SEARS HOLDINGS CORP         3  2018-10-17   \n",
              "4  1310067  SEARS HOLDINGS CORP         3  2018-10-19   \n",
              "\n",
              "                                      filename  \n",
              "0  edgar/data/1310067/0001310067-18-000029.txt  \n",
              "1  edgar/data/1310067/0001354457-18-000476.txt  \n",
              "2  edgar/data/1310067/0000899243-18-026670.txt  \n",
              "3  edgar/data/1310067/0000899243-18-026853.txt  \n",
              "4  edgar/data/1310067/0000899243-18-027048.txt  "
            ]
          },
          "metadata": {
            "tags": []
          },
          "execution_count": 70
        }
      ]
    },
    {
      "metadata": {
        "id": "UOVmH0anH-i3",
        "colab_type": "text"
      },
      "cell_type": "markdown",
      "source": [
        "#### How many Schedule 13s?"
      ]
    },
    {
      "metadata": {
        "id": "R5trZTeokPLI",
        "colab_type": "code",
        "outputId": "b5192827-b048-4bfa-8c59-9a4f7882d64f",
        "colab": {
          "base_uri": "https://localhost:8080/",
          "height": 327
        }
      },
      "cell_type": "code",
      "source": [
        "sears_2018q4_filings[sears_2018q4_filings.form_type.str.startswith(\"SC 13\")]"
      ],
      "execution_count": 0,
      "outputs": [
        {
          "output_type": "execute_result",
          "data": {
            "text/html": [
              "<div>\n",
              "<style scoped>\n",
              "    .dataframe tbody tr th:only-of-type {\n",
              "        vertical-align: middle;\n",
              "    }\n",
              "\n",
              "    .dataframe tbody tr th {\n",
              "        vertical-align: top;\n",
              "    }\n",
              "\n",
              "    .dataframe thead th {\n",
              "        text-align: right;\n",
              "    }\n",
              "</style>\n",
              "<table border=\"1\" class=\"dataframe\">\n",
              "  <thead>\n",
              "    <tr style=\"text-align: right;\">\n",
              "      <th></th>\n",
              "      <th>cik</th>\n",
              "      <th>company_name</th>\n",
              "      <th>form_type</th>\n",
              "      <th>date_filed</th>\n",
              "      <th>filename</th>\n",
              "    </tr>\n",
              "  </thead>\n",
              "  <tbody>\n",
              "    <tr>\n",
              "      <th>19</th>\n",
              "      <td>1310067</td>\n",
              "      <td>SEARS HOLDINGS CORP</td>\n",
              "      <td>SC 13D/A</td>\n",
              "      <td>2018-10-17</td>\n",
              "      <td>edgar/data/1310067/0001193125-18-300694.txt</td>\n",
              "    </tr>\n",
              "    <tr>\n",
              "      <th>20</th>\n",
              "      <td>1310067</td>\n",
              "      <td>SEARS HOLDINGS CORP</td>\n",
              "      <td>SC 13D/A</td>\n",
              "      <td>2018-11-16</td>\n",
              "      <td>edgar/data/1310067/0001193125-18-328517.txt</td>\n",
              "    </tr>\n",
              "    <tr>\n",
              "      <th>21</th>\n",
              "      <td>1310067</td>\n",
              "      <td>SEARS HOLDINGS CORP</td>\n",
              "      <td>SC 13D/A</td>\n",
              "      <td>2018-12-06</td>\n",
              "      <td>edgar/data/1310067/0001193125-18-343049.txt</td>\n",
              "    </tr>\n",
              "    <tr>\n",
              "      <th>22</th>\n",
              "      <td>1310067</td>\n",
              "      <td>SEARS HOLDINGS CORP</td>\n",
              "      <td>SC 13G/A</td>\n",
              "      <td>2018-10-19</td>\n",
              "      <td>edgar/data/1310067/0000919574-18-006748.txt</td>\n",
              "    </tr>\n",
              "  </tbody>\n",
              "</table>\n",
              "</div>"
            ],
            "text/plain": [
              "        cik         company_name form_type  date_filed  \\\n",
              "19  1310067  SEARS HOLDINGS CORP  SC 13D/A  2018-10-17   \n",
              "20  1310067  SEARS HOLDINGS CORP  SC 13D/A  2018-11-16   \n",
              "21  1310067  SEARS HOLDINGS CORP  SC 13D/A  2018-12-06   \n",
              "22  1310067  SEARS HOLDINGS CORP  SC 13G/A  2018-10-19   \n",
              "\n",
              "                                       filename  \n",
              "19  edgar/data/1310067/0001193125-18-300694.txt  \n",
              "20  edgar/data/1310067/0001193125-18-328517.txt  \n",
              "21  edgar/data/1310067/0001193125-18-343049.txt  \n",
              "22  edgar/data/1310067/0000919574-18-006748.txt  "
            ]
          },
          "metadata": {
            "tags": []
          },
          "execution_count": 73
        }
      ]
    },
    {
      "metadata": {
        "id": "_yRRvYQ5IaLW",
        "colab_type": "text"
      },
      "cell_type": "markdown",
      "source": [
        "Let's see the December one then we're done"
      ]
    },
    {
      "metadata": {
        "id": "0MW-DMCvIaxZ",
        "colab_type": "code",
        "outputId": "8b3d78cc-ad1f-4f93-acea-0c622e364547",
        "colab": {
          "base_uri": "https://localhost:8080/",
          "height": 1684
        }
      },
      "cell_type": "code",
      "source": [
        "form_mask = sears_2018q4_filings.form_type == 'SC 13D/A'\n",
        "date_mask = sears_2018q4_filings.date_filed == '2018-12-06'\n",
        "\n",
        "url_suffix =  sears_2018q4_filings[form_mask & date_mask].filename.iloc[0]\n",
        "dec_sc13d_form = requests.get(\"https://www.sec.gov/Archives/\" + url_suffix).text\n",
        "\n",
        "\n",
        "print(\"Form SC 14D/A\")\n",
        "print(dec_sc13d_form[:2000])"
      ],
      "execution_count": 0,
      "outputs": [
        {
          "output_type": "stream",
          "text": [
            "Form SC 14D/A\n",
            "<SEC-DOCUMENT>0001193125-18-343049.txt : 20181206\n",
            "<SEC-HEADER>0001193125-18-343049.hdr.sgml : 20181206\n",
            "<ACCEPTANCE-DATETIME>20181206084402\n",
            "ACCESSION NUMBER:\t\t0001193125-18-343049\n",
            "CONFORMED SUBMISSION TYPE:\tSC 13D/A\n",
            "PUBLIC DOCUMENT COUNT:\t\t2\n",
            "FILED AS OF DATE:\t\t20181206\n",
            "DATE AS OF CHANGE:\t\t20181206\n",
            "GROUP MEMBERS:\t\tEDWARD S. LAMPERT\n",
            "GROUP MEMBERS:\t\tESL INVESTMENTS, INC.\n",
            "GROUP MEMBERS:\t\tJPP II, LLC\n",
            "GROUP MEMBERS:\t\tJPP, LLC\n",
            "GROUP MEMBERS:\t\tRBS PARTNERS, L.P.\n",
            "GROUP MEMBERS:\t\tSPE I PARTNERS, LP\n",
            "GROUP MEMBERS:\t\tSPE MASTER I, LP\n",
            "\n",
            "SUBJECT COMPANY:\t\n",
            "\n",
            "\tCOMPANY DATA:\t\n",
            "\t\tCOMPANY CONFORMED NAME:\t\t\tSEARS HOLDINGS CORP\n",
            "\t\tCENTRAL INDEX KEY:\t\t\t0001310067\n",
            "\t\tSTANDARD INDUSTRIAL CLASSIFICATION:\tRETAIL-DEPARTMENT STORES [5311]\n",
            "\t\tIRS NUMBER:\t\t\t\t201920798\n",
            "\t\tSTATE OF INCORPORATION:\t\t\tDE\n",
            "\t\tFISCAL YEAR END:\t\t\t0203\n",
            "\n",
            "\tFILING VALUES:\n",
            "\t\tFORM TYPE:\t\tSC 13D/A\n",
            "\t\tSEC ACT:\t\t1934 Act\n",
            "\t\tSEC FILE NUMBER:\t005-80635\n",
            "\t\tFILM NUMBER:\t\t181219069\n",
            "\n",
            "\tBUSINESS ADDRESS:\t\n",
            "\t\tSTREET 1:\t\t3333 BEVERLY ROAD\n",
            "\t\tCITY:\t\t\tHOFFMAN ESTATES\n",
            "\t\tSTATE:\t\t\tIL\n",
            "\t\tZIP:\t\t\t60179\n",
            "\t\tBUSINESS PHONE:\t\t847-286-2500\n",
            "\n",
            "\tMAIL ADDRESS:\t\n",
            "\t\tSTREET 1:\t\t3333 BEVERLY ROAD\n",
            "\t\tCITY:\t\t\tHOFFMAN ESTATES\n",
            "\t\tSTATE:\t\t\tIL\n",
            "\t\tZIP:\t\t\t60179\n",
            "\n",
            "\tFORMER COMPANY:\t\n",
            "\t\tFORMER CONFORMED NAME:\tSears Holdings CORP\n",
            "\t\tDATE OF NAME CHANGE:\t20041129\n",
            "\n",
            "FILED BY:\t\t\n",
            "\n",
            "\tCOMPANY DATA:\t\n",
            "\t\tCOMPANY CONFORMED NAME:\t\t\tESL PARTNERS, L.P.\n",
            "\t\tCENTRAL INDEX KEY:\t\t\t0000923727\n",
            "\t\tIRS NUMBER:\t\t\t\t222875193\n",
            "\t\tSTATE OF INCORPORATION:\t\t\tDE\n",
            "\t\tFISCAL YEAR END:\t\t\t1231\n",
            "\n",
            "\tFILING VALUES:\n",
            "\t\tFORM TYPE:\t\tSC 13D/A\n",
            "\n",
            "\tBUSINESS ADDRESS:\t\n",
            "\t\tSTREET 1:\t\t1170 KANE CONCOURSE\n",
            "\t\tSTREET 2:\t\tSUITE 200\n",
            "\t\tCITY:\t\t\tBAY HARBOR\n",
            "\t\tSTATE:\t\t\tFL\n",
            "\t\tZIP:\t\t\t33154\n",
            "\t\tBUSINESS PHONE:\t\t305-702-2100\n",
            "\n",
            "\tMAIL ADDRESS:\t\n",
            "\t\tSTREET 1:\t\t1170 KANE CONCOURSE\n",
            "\t\tSTREET 2:\t\tSUITE 200\n",
            "\t\tCITY:\t\t\tBAY HARBOR\n",
            "\t\tSTATE:\t\t\tFL\n",
            "\t\tZIP:\t\t\t33154\n",
            "\n",
            "\tFORMER COMPANY:\t\n",
            "\t\tFORMER CONFORMED NAME:\tESL PARTNERS LP\n",
            "\t\tDATE OF NAME CHANGE:\t19940524\n",
            "</SEC-HEADER>\n",
            "<DOCUMENT>\n",
            "<TYPE>SC 13D/A\n",
            "<SEQUENCE>1\n",
            "<FILENAME>d666424dsc13da.htm\n",
            "<DESCRIPTION>SC 13D/AMENDMENT NO. 72\n",
            "<TEXT>\n",
            "<HTML><HEAD>\n",
            "<\n"
          ],
          "name": "stdout"
        }
      ]
    },
    {
      "metadata": {
        "id": "OppcXD9tkOed",
        "colab_type": "text"
      },
      "cell_type": "markdown",
      "source": [
        "## Next do things that require an API key\n",
        "\n",
        "Developer page: http://developer.edgar-online.com/docs/v1\n",
        "*  max 2 HTTP requests per second\n",
        "*  max 5000 requests per day (if unpaid)\n",
        "*  5 years of data (if unpaid) seems like sometimes less\n",
        "* free stuff i listed in <a href=\"https://developer.edgar-online.com/docs/v1#nav12\">this table</a>\n"
      ]
    },
    {
      "metadata": {
        "id": "TZf_AGv_NHJ1",
        "colab_type": "code",
        "outputId": "3b9deb58-1a11-44dd-d3ac-592356d29efc",
        "colab": {
          "base_uri": "https://localhost:8080/",
          "height": 205
        }
      },
      "cell_type": "code",
      "source": [
        "import getpass\n",
        "print(\"Go to http://developer.edgar-online.com/member/my-account for your API key.\")\n",
        "apikey = getpass.getpass(prompt=\"edgar-online api key: \")"
      ],
      "execution_count": 0,
      "outputs": [
        {
          "output_type": "stream",
          "text": [
            "Go to http://developer.edgar-online.com/member/my-account for your API key.\n",
            "edgar-online api key: ··········\n"
          ],
          "name": "stdout"
        }
      ]
    },
    {
      "metadata": {
        "id": "VlPT35Ld4Smj",
        "colab_type": "text"
      },
      "cell_type": "markdown",
      "source": [
        "### Free stuff 0\n",
        "company names"
      ]
    },
    {
      "metadata": {
        "id": "W2oRL053ZpaI",
        "colab_type": "code",
        "outputId": "c357d417-a4fb-47d2-84b6-c023b4d7622c",
        "colab": {
          "base_uri": "https://localhost:8080/",
          "height": 1378
        }
      },
      "cell_type": "code",
      "source": [
        "base_url = \"http://datafied.api.edgar-online.com/v1/\"\n",
        "companies_api = base_url + \"companies\"\n",
        "# Chicago !\n",
        "query = dict(\n",
        "    cities=\"chicago\",\n",
        "    sortby=\"entityid\",\n",
        "    appkey=f\"{apikey}\",\n",
        ")\n",
        "response = requests.get(companies_api, params=query)\n",
        "data = response.json()\n",
        "\n",
        "print(json.dumps(data, indent=2)[:1000])"
      ],
      "execution_count": 0,
      "outputs": [
        {
          "output_type": "stream",
          "text": [
            "{\n",
            "  \"result\": {\n",
            "    \"limit\": 25,\n",
            "    \"offset\": 0,\n",
            "    \"totalrows\": 203,\n",
            "    \"rowset\": [\n",
            "      {\n",
            "        \"entityid\": 91,\n",
            "        \"cik\": \"0000074046\",\n",
            "        \"companyname\": \"OIL-DRI CORP OF AMERICA\",\n",
            "        \"primaryexchange\": \"NYSE\",\n",
            "        \"primarysymbol\": \"ODC\",\n",
            "        \"siccode\": \"3990\",\n",
            "        \"sicdescription\": \"Miscellaneous Manufacturing Industries\",\n",
            "        \"rownum\": 1\n",
            "      },\n",
            "      {\n",
            "        \"entityid\": 197,\n",
            "        \"cik\": \"0000047518\",\n",
            "        \"companyname\": \"HILL-ROM HOLDINGS, INC.\",\n",
            "        \"primaryexchange\": \"NYSE\",\n",
            "        \"primarysymbol\": \"HRC\",\n",
            "        \"siccode\": \"3841\",\n",
            "        \"sicdescription\": \"Surgical and Medical Instruments and Apparatus\",\n",
            "        \"rownum\": 2\n",
            "      },\n",
            "      {\n",
            "        \"entityid\": 311,\n",
            "        \"cik\": \"0000770944\",\n",
            "        \"companyname\": \"BALLY TOTAL FITNESS HOLDING CORP\",\n",
            "        \"siccode\": \"7997\",\n",
            "        \"sicdescription\": \"Services-Membership Sports and Recreation Clubs\",\n",
            "        \"rownum\": 3\n",
            "      },\n",
            "      {\n",
            "        \"entityid\": 396,\n",
            "        \"cik\": \"0000876160\",\n",
            "        \"companyname\": \"BERMAN CENTER, INC.\",\n",
            "        \"siccode\": \"8000\",\n",
            "        \"sicdescription\": \"Services-Health Services\",\n",
            "        \"rownum\": 4\n",
            "      },\n",
            "      {\n",
            "        \"entityid\": 514,\n",
            "        \"cik\": \"0001038339\",\n",
            "        \"companyname\": \"EQUITY OFFICE PROPERTIES TRUST\",\n",
            "        \"siccode\": \"6798\",\n",
            "        \"sicdescription\": \"Real Estate Investment Trusts\",\n",
            "        \"rownum\": 5\n",
            "      },\n",
            "      {\n",
            "        \"entityid\": 1093,\n",
            "        \"cik\": \"0000740260\",\n",
            "        \"companyname\": \"VENTAS INC\",\n",
            "        \"primaryexchange\": \"NYSE\",\n",
            "        \"primarysymbol\": \"VTR\",\n",
            "        \"siccode\": \"6798\",\n",
            "        \"sicdescription\": \"Real Estate Investment Trusts\",\n",
            "        \"rownum\": 6\n",
            "      },\n",
            "      {\n",
            "        \"entityid\": 1499,\n",
            "        \"cik\": \"0000868512\",\n",
            "        \"companyname\": \"SUN-TIMES MEDIA GROUP INC\",\n",
            "        \"siccode\": \"2711\",\n",
            "        \"sicdescription\": \"Newspapers: Publishing, or Publishing and Printing\",\n",
            "        \"rownum\": 7\n",
            "      },\n",
            "      {\n",
            "        \"entityid\": 1700,\n",
            "        \"cik\": \"0000032870\n"
          ],
          "name": "stdout"
        }
      ]
    },
    {
      "metadata": {
        "id": "fzTU_JrIaVH6",
        "colab_type": "text"
      },
      "cell_type": "markdown",
      "source": [
        "Rad! So what Chicago-based companies are publicly traded?"
      ]
    },
    {
      "metadata": {
        "id": "xTjZthsdaV0k",
        "colab_type": "code",
        "outputId": "e6ee5511-a298-4d7e-cba6-3dc7483ab402",
        "colab": {
          "base_uri": "https://localhost:8080/",
          "height": 1148
        }
      },
      "cell_type": "code",
      "source": [
        "pd.DataFrame(data[\"result\"][\"rowset\"]).sort_values([\"primaryexchange\", \"primarysymbol\"])"
      ],
      "execution_count": 0,
      "outputs": [
        {
          "output_type": "execute_result",
          "data": {
            "text/html": [
              "<div>\n",
              "<style scoped>\n",
              "    .dataframe tbody tr th:only-of-type {\n",
              "        vertical-align: middle;\n",
              "    }\n",
              "\n",
              "    .dataframe tbody tr th {\n",
              "        vertical-align: top;\n",
              "    }\n",
              "\n",
              "    .dataframe thead th {\n",
              "        text-align: right;\n",
              "    }\n",
              "</style>\n",
              "<table border=\"1\" class=\"dataframe\">\n",
              "  <thead>\n",
              "    <tr style=\"text-align: right;\">\n",
              "      <th></th>\n",
              "      <th>cik</th>\n",
              "      <th>companyname</th>\n",
              "      <th>entityid</th>\n",
              "      <th>primaryexchange</th>\n",
              "      <th>primarysymbol</th>\n",
              "      <th>rownum</th>\n",
              "      <th>siccode</th>\n",
              "      <th>sicdescription</th>\n",
              "    </tr>\n",
              "  </thead>\n",
              "  <tbody>\n",
              "    <tr>\n",
              "      <th>16</th>\n",
              "      <td>0000730464</td>\n",
              "      <td>ADTALEM GLOBAL EDUCATION INC.</td>\n",
              "      <td>3054</td>\n",
              "      <td>NYSE</td>\n",
              "      <td>ATGE</td>\n",
              "      <td>17</td>\n",
              "      <td>8200</td>\n",
              "      <td>Services-Educational Services</td>\n",
              "    </tr>\n",
              "    <tr>\n",
              "      <th>8</th>\n",
              "      <td>0000921825</td>\n",
              "      <td>FIRST INDUSTRIAL REALTY TRUST INC</td>\n",
              "      <td>2009</td>\n",
              "      <td>NYSE</td>\n",
              "      <td>FR</td>\n",
              "      <td>9</td>\n",
              "      <td>6798</td>\n",
              "      <td>Real Estate Investment Trusts</td>\n",
              "    </tr>\n",
              "    <tr>\n",
              "      <th>1</th>\n",
              "      <td>0000047518</td>\n",
              "      <td>HILL-ROM HOLDINGS, INC.</td>\n",
              "      <td>197</td>\n",
              "      <td>NYSE</td>\n",
              "      <td>HRC</td>\n",
              "      <td>2</td>\n",
              "      <td>3841</td>\n",
              "      <td>Surgical and Medical Instruments and Apparatus</td>\n",
              "    </tr>\n",
              "    <tr>\n",
              "      <th>9</th>\n",
              "      <td>0000063908</td>\n",
              "      <td>MCDONALDS CORP</td>\n",
              "      <td>2163</td>\n",
              "      <td>NYSE</td>\n",
              "      <td>MCD</td>\n",
              "      <td>10</td>\n",
              "      <td>5812</td>\n",
              "      <td>Retail-Eating Places</td>\n",
              "    </tr>\n",
              "    <tr>\n",
              "      <th>13</th>\n",
              "      <td>0000068505</td>\n",
              "      <td>MOTOROLA SOLUTIONS, INC.</td>\n",
              "      <td>2749</td>\n",
              "      <td>NYSE</td>\n",
              "      <td>MSI</td>\n",
              "      <td>14</td>\n",
              "      <td>3663</td>\n",
              "      <td>Radio and Television Broadcasting and Communic...</td>\n",
              "    </tr>\n",
              "    <tr>\n",
              "      <th>0</th>\n",
              "      <td>0000074046</td>\n",
              "      <td>OIL-DRI CORP OF AMERICA</td>\n",
              "      <td>91</td>\n",
              "      <td>NYSE</td>\n",
              "      <td>ODC</td>\n",
              "      <td>1</td>\n",
              "      <td>3990</td>\n",
              "      <td>Miscellaneous Manufacturing Industries</td>\n",
              "    </tr>\n",
              "    <tr>\n",
              "      <th>21</th>\n",
              "      <td>0000074260</td>\n",
              "      <td>OLD REPUBLIC INTERNATIONAL CORP</td>\n",
              "      <td>3358</td>\n",
              "      <td>NYSE</td>\n",
              "      <td>ORI</td>\n",
              "      <td>22</td>\n",
              "      <td>6351</td>\n",
              "      <td>Surety Insurance</td>\n",
              "    </tr>\n",
              "    <tr>\n",
              "      <th>15</th>\n",
              "      <td>0000726513</td>\n",
              "      <td>TRIBUNE MEDIA CO</td>\n",
              "      <td>2871</td>\n",
              "      <td>NYSE</td>\n",
              "      <td>TRCO</td>\n",
              "      <td>16</td>\n",
              "      <td>4833</td>\n",
              "      <td>Television Broadcasting Stations</td>\n",
              "    </tr>\n",
              "    <tr>\n",
              "      <th>14</th>\n",
              "      <td>0000821130</td>\n",
              "      <td>UNITED STATES CELLULAR CORP</td>\n",
              "      <td>2839</td>\n",
              "      <td>NYSE</td>\n",
              "      <td>USM</td>\n",
              "      <td>15</td>\n",
              "      <td>4812</td>\n",
              "      <td>Radiotelephone Communications</td>\n",
              "    </tr>\n",
              "    <tr>\n",
              "      <th>5</th>\n",
              "      <td>0000740260</td>\n",
              "      <td>VENTAS INC</td>\n",
              "      <td>1093</td>\n",
              "      <td>NYSE</td>\n",
              "      <td>VTR</td>\n",
              "      <td>6</td>\n",
              "      <td>6798</td>\n",
              "      <td>Real Estate Investment Trusts</td>\n",
              "    </tr>\n",
              "    <tr>\n",
              "      <th>20</th>\n",
              "      <td>0000949157</td>\n",
              "      <td>CENTURY ALUMINUM CO</td>\n",
              "      <td>3220</td>\n",
              "      <td>Nasdaq Global Market</td>\n",
              "      <td>CENX</td>\n",
              "      <td>21</td>\n",
              "      <td>3334</td>\n",
              "      <td>Primary Production of Aluminum</td>\n",
              "    </tr>\n",
              "    <tr>\n",
              "      <th>17</th>\n",
              "      <td>0000702325</td>\n",
              "      <td>FIRST MIDWEST BANCORP INC</td>\n",
              "      <td>3070</td>\n",
              "      <td>Nasdaq Global Market</td>\n",
              "      <td>FMBI</td>\n",
              "      <td>18</td>\n",
              "      <td>6021</td>\n",
              "      <td>National Commercial Banks</td>\n",
              "    </tr>\n",
              "    <tr>\n",
              "      <th>12</th>\n",
              "      <td>0000100517</td>\n",
              "      <td>UNITED CONTINENTAL HOLDINGS, INC.</td>\n",
              "      <td>2471</td>\n",
              "      <td>Nasdaq Global Market</td>\n",
              "      <td>UAL</td>\n",
              "      <td>13</td>\n",
              "      <td>4512</td>\n",
              "      <td>Air Transportation, Scheduled</td>\n",
              "    </tr>\n",
              "    <tr>\n",
              "      <th>2</th>\n",
              "      <td>0000770944</td>\n",
              "      <td>BALLY TOTAL FITNESS HOLDING CORP</td>\n",
              "      <td>311</td>\n",
              "      <td>NaN</td>\n",
              "      <td>NaN</td>\n",
              "      <td>3</td>\n",
              "      <td>7997</td>\n",
              "      <td>Services-Membership Sports and Recreation Clubs</td>\n",
              "    </tr>\n",
              "    <tr>\n",
              "      <th>3</th>\n",
              "      <td>0000876160</td>\n",
              "      <td>BERMAN CENTER, INC.</td>\n",
              "      <td>396</td>\n",
              "      <td>NaN</td>\n",
              "      <td>NaN</td>\n",
              "      <td>4</td>\n",
              "      <td>8000</td>\n",
              "      <td>Services-Health Services</td>\n",
              "    </tr>\n",
              "    <tr>\n",
              "      <th>4</th>\n",
              "      <td>0001038339</td>\n",
              "      <td>EQUITY OFFICE PROPERTIES TRUST</td>\n",
              "      <td>514</td>\n",
              "      <td>NaN</td>\n",
              "      <td>NaN</td>\n",
              "      <td>5</td>\n",
              "      <td>6798</td>\n",
              "      <td>Real Estate Investment Trusts</td>\n",
              "    </tr>\n",
              "    <tr>\n",
              "      <th>6</th>\n",
              "      <td>0000868512</td>\n",
              "      <td>SUN-TIMES MEDIA GROUP INC</td>\n",
              "      <td>1499</td>\n",
              "      <td>NaN</td>\n",
              "      <td>NaN</td>\n",
              "      <td>7</td>\n",
              "      <td>2711</td>\n",
              "      <td>Newspapers: Publishing, or Publishing and Prin...</td>\n",
              "    </tr>\n",
              "    <tr>\n",
              "      <th>7</th>\n",
              "      <td>0000032870</td>\n",
              "      <td>QUIXOTE CORP</td>\n",
              "      <td>1700</td>\n",
              "      <td>NaN</td>\n",
              "      <td>NaN</td>\n",
              "      <td>8</td>\n",
              "      <td>3089</td>\n",
              "      <td>Plastics Products, Not Elsewhere Classified</td>\n",
              "    </tr>\n",
              "    <tr>\n",
              "      <th>10</th>\n",
              "      <td>0000868984</td>\n",
              "      <td>WHITEHALL JEWELLERS INC</td>\n",
              "      <td>2173</td>\n",
              "      <td>NaN</td>\n",
              "      <td>NaN</td>\n",
              "      <td>11</td>\n",
              "      <td>5944</td>\n",
              "      <td>Retail-Jewelry Stores</td>\n",
              "    </tr>\n",
              "    <tr>\n",
              "      <th>11</th>\n",
              "      <td>0000216039</td>\n",
              "      <td>GRUBB &amp; ELLIS CO</td>\n",
              "      <td>2238</td>\n",
              "      <td>NaN</td>\n",
              "      <td>NaN</td>\n",
              "      <td>12</td>\n",
              "      <td>6531</td>\n",
              "      <td>Real Estate Agents and Managers (For Others)</td>\n",
              "    </tr>\n",
              "    <tr>\n",
              "      <th>18</th>\n",
              "      <td>0000924940</td>\n",
              "      <td>DIAMOND MANAGEMENT &amp; TECHNOLOGY CONSULTANTS, INC.</td>\n",
              "      <td>3168</td>\n",
              "      <td>NaN</td>\n",
              "      <td>NaN</td>\n",
              "      <td>19</td>\n",
              "      <td>8742</td>\n",
              "      <td>Services-Management Consulting Services</td>\n",
              "    </tr>\n",
              "    <tr>\n",
              "      <th>19</th>\n",
              "      <td>0000077385</td>\n",
              "      <td>PEOPLES ENERGY CORP</td>\n",
              "      <td>3204</td>\n",
              "      <td>NaN</td>\n",
              "      <td>NaN</td>\n",
              "      <td>20</td>\n",
              "      <td>4924</td>\n",
              "      <td>Natural Gas Distribution</td>\n",
              "    </tr>\n",
              "    <tr>\n",
              "      <th>22</th>\n",
              "      <td>0000889936</td>\n",
              "      <td>PRIVATEBANCORP, INC</td>\n",
              "      <td>3400</td>\n",
              "      <td>NaN</td>\n",
              "      <td>NaN</td>\n",
              "      <td>23</td>\n",
              "      <td>6022</td>\n",
              "      <td>State Commercial Banks</td>\n",
              "    </tr>\n",
              "    <tr>\n",
              "      <th>23</th>\n",
              "      <td>0001002360</td>\n",
              "      <td>ABSOLUTE POTENTIAL, INC.</td>\n",
              "      <td>3455</td>\n",
              "      <td>NaN</td>\n",
              "      <td>NaN</td>\n",
              "      <td>24</td>\n",
              "      <td>2851</td>\n",
              "      <td>Paints, Varnishes, Lacquers, Enamels and Allie...</td>\n",
              "    </tr>\n",
              "    <tr>\n",
              "      <th>24</th>\n",
              "      <td>0000795665</td>\n",
              "      <td>METAL MANAGEMENT INC</td>\n",
              "      <td>3492</td>\n",
              "      <td>NaN</td>\n",
              "      <td>NaN</td>\n",
              "      <td>25</td>\n",
              "      <td>5090</td>\n",
              "      <td>Wholesale-Miscellaneous Durable Goods</td>\n",
              "    </tr>\n",
              "  </tbody>\n",
              "</table>\n",
              "</div>"
            ],
            "text/plain": [
              "           cik                                        companyname  entityid  \\\n",
              "16  0000730464                      ADTALEM GLOBAL EDUCATION INC.      3054   \n",
              "8   0000921825                  FIRST INDUSTRIAL REALTY TRUST INC      2009   \n",
              "1   0000047518                            HILL-ROM HOLDINGS, INC.       197   \n",
              "9   0000063908                                     MCDONALDS CORP      2163   \n",
              "13  0000068505                           MOTOROLA SOLUTIONS, INC.      2749   \n",
              "0   0000074046                            OIL-DRI CORP OF AMERICA        91   \n",
              "21  0000074260                    OLD REPUBLIC INTERNATIONAL CORP      3358   \n",
              "15  0000726513                                   TRIBUNE MEDIA CO      2871   \n",
              "14  0000821130                        UNITED STATES CELLULAR CORP      2839   \n",
              "5   0000740260                                         VENTAS INC      1093   \n",
              "20  0000949157                                CENTURY ALUMINUM CO      3220   \n",
              "17  0000702325                          FIRST MIDWEST BANCORP INC      3070   \n",
              "12  0000100517                  UNITED CONTINENTAL HOLDINGS, INC.      2471   \n",
              "2   0000770944                   BALLY TOTAL FITNESS HOLDING CORP       311   \n",
              "3   0000876160                                BERMAN CENTER, INC.       396   \n",
              "4   0001038339                     EQUITY OFFICE PROPERTIES TRUST       514   \n",
              "6   0000868512                          SUN-TIMES MEDIA GROUP INC      1499   \n",
              "7   0000032870                                       QUIXOTE CORP      1700   \n",
              "10  0000868984                            WHITEHALL JEWELLERS INC      2173   \n",
              "11  0000216039                                   GRUBB & ELLIS CO      2238   \n",
              "18  0000924940  DIAMOND MANAGEMENT & TECHNOLOGY CONSULTANTS, INC.      3168   \n",
              "19  0000077385                                PEOPLES ENERGY CORP      3204   \n",
              "22  0000889936                                PRIVATEBANCORP, INC      3400   \n",
              "23  0001002360                           ABSOLUTE POTENTIAL, INC.      3455   \n",
              "24  0000795665                               METAL MANAGEMENT INC      3492   \n",
              "\n",
              "         primaryexchange primarysymbol  rownum siccode  \\\n",
              "16                  NYSE          ATGE      17    8200   \n",
              "8                   NYSE            FR       9    6798   \n",
              "1                   NYSE           HRC       2    3841   \n",
              "9                   NYSE           MCD      10    5812   \n",
              "13                  NYSE           MSI      14    3663   \n",
              "0                   NYSE           ODC       1    3990   \n",
              "21                  NYSE           ORI      22    6351   \n",
              "15                  NYSE          TRCO      16    4833   \n",
              "14                  NYSE           USM      15    4812   \n",
              "5                   NYSE           VTR       6    6798   \n",
              "20  Nasdaq Global Market          CENX      21    3334   \n",
              "17  Nasdaq Global Market          FMBI      18    6021   \n",
              "12  Nasdaq Global Market           UAL      13    4512   \n",
              "2                    NaN           NaN       3    7997   \n",
              "3                    NaN           NaN       4    8000   \n",
              "4                    NaN           NaN       5    6798   \n",
              "6                    NaN           NaN       7    2711   \n",
              "7                    NaN           NaN       8    3089   \n",
              "10                   NaN           NaN      11    5944   \n",
              "11                   NaN           NaN      12    6531   \n",
              "18                   NaN           NaN      19    8742   \n",
              "19                   NaN           NaN      20    4924   \n",
              "22                   NaN           NaN      23    6022   \n",
              "23                   NaN           NaN      24    2851   \n",
              "24                   NaN           NaN      25    5090   \n",
              "\n",
              "                                       sicdescription  \n",
              "16                      Services-Educational Services  \n",
              "8                       Real Estate Investment Trusts  \n",
              "1      Surgical and Medical Instruments and Apparatus  \n",
              "9                                Retail-Eating Places  \n",
              "13  Radio and Television Broadcasting and Communic...  \n",
              "0              Miscellaneous Manufacturing Industries  \n",
              "21                                   Surety Insurance  \n",
              "15                   Television Broadcasting Stations  \n",
              "14                      Radiotelephone Communications  \n",
              "5                       Real Estate Investment Trusts  \n",
              "20                     Primary Production of Aluminum  \n",
              "17                          National Commercial Banks  \n",
              "12                      Air Transportation, Scheduled  \n",
              "2     Services-Membership Sports and Recreation Clubs  \n",
              "3                            Services-Health Services  \n",
              "4                       Real Estate Investment Trusts  \n",
              "6   Newspapers: Publishing, or Publishing and Prin...  \n",
              "7         Plastics Products, Not Elsewhere Classified  \n",
              "10                              Retail-Jewelry Stores  \n",
              "11       Real Estate Agents and Managers (For Others)  \n",
              "18            Services-Management Consulting Services  \n",
              "19                           Natural Gas Distribution  \n",
              "22                             State Commercial Banks  \n",
              "23  Paints, Varnishes, Lacquers, Enamels and Allie...  \n",
              "24              Wholesale-Miscellaneous Durable Goods  "
            ]
          },
          "metadata": {
            "tags": []
          },
          "execution_count": 31
        }
      ]
    },
    {
      "metadata": {
        "id": "r5AhmWFlggFJ",
        "colab_type": "text"
      },
      "cell_type": "markdown",
      "source": [
        "### That is rad\n",
        "But I want Sears specifically (I guess their bankruptcy makes me sad). I also guess \"Chicago\" means actual Chicago not Hoffman Estates so here's them:"
      ]
    },
    {
      "metadata": {
        "id": "ZSdBdX8o4SEE",
        "colab_type": "code",
        "colab": {}
      },
      "cell_type": "code",
      "source": [
        "base_url = \"http://datafied.api.edgar-online.com/v1/\"\n",
        "companies_api = base_url + \"companies\"\n",
        "query = dict(\n",
        "    companynames=\"*sears*\",\n",
        "    sortby=\"entityid\",\n",
        "    appkey=f\"{apikey}\",\n",
        ")\n",
        "response = requests.get(companies_api, params=query)"
      ],
      "execution_count": 0,
      "outputs": []
    },
    {
      "metadata": {
        "id": "UJ7CBaPw5VK6",
        "colab_type": "code",
        "outputId": "75bfdd34-5a2d-4d75-b3c2-52fa7923f35e",
        "colab": {
          "base_uri": "https://localhost:8080/",
          "height": 1310
        }
      },
      "cell_type": "code",
      "source": [
        "print(json.dumps(response.json(), indent=2)[:2000])"
      ],
      "execution_count": 0,
      "outputs": [
        {
          "output_type": "stream",
          "text": [
            "{\n",
            "  \"result\": {\n",
            "    \"limit\": 25,\n",
            "    \"offset\": 0,\n",
            "    \"totalrows\": 6,\n",
            "    \"rowset\": [\n",
            "      {\n",
            "        \"entityid\": 7311,\n",
            "        \"cik\": \"0000319256\",\n",
            "        \"companyname\": \"SEARS ROEBUCK & CO\",\n",
            "        \"siccode\": \"5311\",\n",
            "        \"sicdescription\": \"Retail-Department Stores\",\n",
            "        \"rownum\": 1\n",
            "      },\n",
            "      {\n",
            "        \"entityid\": 656789,\n",
            "        \"cik\": \"0001310067\",\n",
            "        \"companyname\": \"SEARS HOLDINGS CORP\",\n",
            "        \"primaryexchange\": \"OTC\",\n",
            "        \"primarysymbol\": \"SHLDQ\",\n",
            "        \"siccode\": \"5311\",\n",
            "        \"sicdescription\": \"Retail-Department Stores\",\n",
            "        \"rownum\": 2\n",
            "      },\n",
            "      {\n",
            "        \"entityid\": 779720,\n",
            "        \"cik\": \"0001434737\",\n",
            "        \"companyname\": \"SEARS OIL & GAS\",\n",
            "        \"primaryexchange\": \"OTC\",\n",
            "        \"primarysymbol\": \"SRSG\",\n",
            "        \"siccode\": \"1311\",\n",
            "        \"sicdescription\": \"Crude Petroleum and Natural Gas\",\n",
            "        \"rownum\": 3\n",
            "      },\n",
            "      {\n",
            "        \"entityid\": 813715,\n",
            "        \"cik\": \"0001472862\",\n",
            "        \"companyname\": \"WILLIAMSVILLE SEARS MANAGEMENT, INC.\",\n",
            "        \"primaryexchange\": \"OTC\",\n",
            "        \"primarysymbol\": \"WSML\",\n",
            "        \"siccode\": \"2452\",\n",
            "        \"sicdescription\": \"Prefabricated Wood Buildings and Components\",\n",
            "        \"rownum\": 4\n",
            "      },\n",
            "      {\n",
            "        \"entityid\": 880785,\n",
            "        \"cik\": \"0001548309\",\n",
            "        \"companyname\": \"SEARS HOMETOWN & OUTLET STORES, INC.\",\n",
            "        \"primaryexchange\": \"Nasdaq Capital Market\",\n",
            "        \"primarysymbol\": \"SHOS\",\n",
            "        \"siccode\": \"5311\",\n",
            "        \"sicdescription\": \"Retail-Department Stores\",\n",
            "        \"rownum\": 5\n",
            "      },\n",
            "      {\n",
            "        \"entityid\": 883100,\n",
            "        \"cik\": \"0001550910\",\n",
            "        \"companyname\": \"SEARS CANADA INC.\",\n",
            "        \"primaryexchange\": \"OTC\",\n",
            "        \"primarysymbol\": \"SRSCQ\",\n",
            "        \"siccode\": \"5311\",\n",
            "        \"sicdescription\": \"Retail-Department Stores\",\n",
            "        \"rownum\": 6\n",
            "      }\n",
            "    ]\n",
            "  }\n",
            "}\n"
          ],
          "name": "stdout"
        }
      ]
    },
    {
      "metadata": {
        "id": "A8RLxUTYXJHn",
        "colab_type": "text"
      },
      "cell_type": "markdown",
      "source": [
        "### Free stuff I\n",
        "Where to get the string that represents the terms: <a href=\"https://developer.edgar-online.com/docs/v1#nav6\">this table</a>\n",
        "\n",
        "*  Balance Sheet - Consolidated\t`BalanceSheetConsolidated`\n",
        "*  Income Statement - Consolidated\t`IncomeStatementConsolidated`\n",
        "*  Cash Flow Statement - Consolidated\t`CashFlowStatementConsolidated`"
      ]
    },
    {
      "metadata": {
        "id": "9UC7EGnHXkBq",
        "colab_type": "code",
        "outputId": "4a6c6dc2-1e72-425a-9b29-98c930582a88",
        "colab": {
          "base_uri": "https://localhost:8080/",
          "height": 1327
        }
      },
      "cell_type": "code",
      "source": [
        "base_url = \"http://datafied.api.edgar-online.com/v1/\"\n",
        "financials_api = base_url + \"corefinancials\"\n",
        "\n",
        "query = dict(\n",
        "    primarysymbols=\"SHLDQ\",\n",
        "    #fields=\"primarysymbol\",\n",
        "    conceptgroups=\"BalanceSheetConsolidated,IncomeStatementConsolidated,CashFlowStatementConsolidated\",\n",
        "    appkey=apikey\n",
        ")\n",
        "\n",
        "response = requests.get(financials_api, params=query)\n",
        "print(json.dumps(response.json(), indent=2)[:2000])"
      ],
      "execution_count": 0,
      "outputs": [
        {
          "output_type": "stream",
          "text": [
            "{\n",
            "  \"result\": {\n",
            "    \"limit\": 25,\n",
            "    \"offset\": 0,\n",
            "    \"totalrows\": 4,\n",
            "    \"duration\": \"ANN\",\n",
            "    \"rowset\": [\n",
            "      {\n",
            "        \"rownum\": 1,\n",
            "        \"entityid\": 656789,\n",
            "        \"groups\": [\n",
            "          {\n",
            "            \"conceptgroups\": [\n",
            "              \"IncomeStatementConsolidated\",\n",
            "              \"IncomeStatementFull\",\n",
            "              \"PrimaryFinancials\"\n",
            "            ],\n",
            "            \"fiscalyear\": 2018,\n",
            "            \"fiscalquarter\": 4,\n",
            "            \"rowset\": [\n",
            "              {\n",
            "                \"precision\": 0,\n",
            "                \"type\": \"decimal\",\n",
            "                \"field\": \"EBIT\",\n",
            "                \"value\": -2078000000.0,\n",
            "                \"label\": \"EBIT\"\n",
            "              },\n",
            "              {\n",
            "                \"precision\": 0,\n",
            "                \"type\": \"decimal\",\n",
            "                \"field\": \"CostofRevenue\",\n",
            "                \"value\": 13175000000.0,\n",
            "                \"label\": \"Cost of Revenue\"\n",
            "              },\n",
            "              {\n",
            "                \"precision\": 0,\n",
            "                \"type\": \"decimal\",\n",
            "                \"field\": \"DepreciationAmortizationExpense\",\n",
            "                \"value\": 332000000.0,\n",
            "                \"label\": \"Depreciation & Amortization Expense\"\n",
            "              },\n",
            "              {\n",
            "                \"precision\": 0,\n",
            "                \"type\": \"decimal\",\n",
            "                \"field\": \"DilutedEPSNetIncome\",\n",
            "                \"value\": -3.57,\n",
            "                \"label\": \"Diluted EPS, Net Income\"\n",
            "              },\n",
            "              {\n",
            "                \"precision\": 0,\n",
            "                \"type\": \"decimal\",\n",
            "                \"field\": \"DiscontinuedOperations\",\n",
            "                \"value\": null,\n",
            "                \"label\": \"Discontinued Operations\"\n",
            "              },\n",
            "              {\n",
            "                \"precision\": 0,\n",
            "                \"type\": \"decimal\",\n",
            "                \"field\": \"EquityEarnings\",\n",
            "                \"value\": null,\n",
            "                \"label\": \"Equity Earnings\"\n",
            "              },\n",
            "              {\n",
            "                \"precision\": 0,\n",
            "                \"type\": \"decimal\",\n",
            "                \"field\": \"AccountingChange\",\n",
            "                \"value\": null,\n",
            "                \"labe\n"
          ],
          "name": "stdout"
        }
      ]
    },
    {
      "metadata": {
        "id": "n-utWlvc6w58",
        "colab_type": "code",
        "outputId": "7d73ce0f-1bbe-4832-f9ed-2e2fd24f0aab",
        "colab": {
          "base_uri": "https://localhost:8080/",
          "height": 188
        }
      },
      "cell_type": "code",
      "source": [
        "dataset = response.json()\n",
        "print(dataset[\"result\"].keys())"
      ],
      "execution_count": 0,
      "outputs": [
        {
          "output_type": "stream",
          "text": [
            "dict_keys(['limit', 'offset', 'totalrows', 'duration', 'rowset'])\n"
          ],
          "name": "stdout"
        }
      ]
    },
    {
      "metadata": {
        "id": "-WQYzUWm7Eq2",
        "colab_type": "code",
        "outputId": "f7273f6a-1c1a-490b-e080-1cb99e7f23d7",
        "colab": {
          "base_uri": "https://localhost:8080/",
          "height": 579
        }
      },
      "cell_type": "code",
      "source": [
        "for i, rowset in enumerate(dataset[\"result\"][\"rowset\"]):\n",
        "    print(\"*\" * 10 + f\" rowset {i}\")\n",
        "    for group in rowset['groups']:\n",
        "        print(\", \".join(f\"{k}: {group[k]}\" for k in ('conceptgroups', 'fiscalyear', 'fiscalquarter',)))"
      ],
      "execution_count": 0,
      "outputs": [
        {
          "output_type": "stream",
          "text": [
            "********** rowset 0\n",
            "conceptgroups: ['IncomeStatementConsolidated', 'IncomeStatementFull', 'PrimaryFinancials'], fiscalyear: 2018, fiscalquarter: 4\n",
            "conceptgroups: ['CashFlowStatementConsolidated', 'CashFlowStatementFull', 'PrimaryFinancials'], fiscalyear: 2018, fiscalquarter: 4\n",
            "conceptgroups: ['BalanceSheetConsolidated', 'BalanceSheetFull', 'PrimaryFinancials'], fiscalyear: 2018, fiscalquarter: 4\n",
            "conceptgroups: ['Metadata', 'MetadataFree'], fiscalyear: 2018, fiscalquarter: 4\n",
            "conceptgroups: ['FinancialHeaderData', 'PrimaryFinancials'], fiscalyear: 2018, fiscalquarter: 4\n",
            "********** rowset 1\n",
            "conceptgroups: ['IncomeStatementConsolidated', 'IncomeStatementFull', 'PrimaryFinancials'], fiscalyear: 2017, fiscalquarter: 4\n",
            "conceptgroups: ['CashFlowStatementConsolidated', 'CashFlowStatementFull', 'PrimaryFinancials'], fiscalyear: 2017, fiscalquarter: 4\n",
            "conceptgroups: ['BalanceSheetConsolidated', 'BalanceSheetFull', 'PrimaryFinancials'], fiscalyear: 2017, fiscalquarter: 4\n",
            "conceptgroups: ['Metadata', 'MetadataFree'], fiscalyear: 2017, fiscalquarter: 4\n",
            "conceptgroups: ['FinancialHeaderData', 'PrimaryFinancials'], fiscalyear: 2017, fiscalquarter: 4\n",
            "********** rowset 2\n",
            "conceptgroups: ['IncomeStatementConsolidated', 'IncomeStatementFull', 'PrimaryFinancials'], fiscalyear: 2016, fiscalquarter: 4\n",
            "conceptgroups: ['CashFlowStatementConsolidated', 'CashFlowStatementFull', 'PrimaryFinancials'], fiscalyear: 2016, fiscalquarter: 4\n",
            "conceptgroups: ['BalanceSheetConsolidated', 'BalanceSheetFull', 'PrimaryFinancials'], fiscalyear: 2016, fiscalquarter: 4\n",
            "conceptgroups: ['Metadata', 'MetadataFree'], fiscalyear: 2016, fiscalquarter: 4\n",
            "conceptgroups: ['FinancialHeaderData', 'PrimaryFinancials'], fiscalyear: 2016, fiscalquarter: 4\n",
            "********** rowset 3\n",
            "conceptgroups: ['IncomeStatementConsolidated', 'IncomeStatementFull', 'PrimaryFinancials'], fiscalyear: 2015, fiscalquarter: 4\n",
            "conceptgroups: ['CashFlowStatementConsolidated', 'CashFlowStatementFull', 'PrimaryFinancials'], fiscalyear: 2015, fiscalquarter: 4\n",
            "conceptgroups: ['BalanceSheetConsolidated', 'BalanceSheetFull', 'PrimaryFinancials'], fiscalyear: 2015, fiscalquarter: 4\n",
            "conceptgroups: ['Metadata', 'MetadataFree'], fiscalyear: 2015, fiscalquarter: 4\n",
            "conceptgroups: ['FinancialHeaderData', 'PrimaryFinancials'], fiscalyear: 2015, fiscalquarter: 4\n"
          ],
          "name": "stdout"
        }
      ]
    },
    {
      "metadata": {
        "id": "2JxZqxgp_eeb",
        "colab_type": "text"
      },
      "cell_type": "markdown",
      "source": [
        "#### One more key... \"rowset\"\n",
        "print the last group's keys and then the first couple terms in the rowset"
      ]
    },
    {
      "metadata": {
        "id": "R6AakypK_U2x",
        "colab_type": "code",
        "outputId": "43fe5f4b-361c-4f31-f5bd-55d914530b8f",
        "colab": {
          "base_uri": "https://localhost:8080/",
          "height": 242
        }
      },
      "cell_type": "code",
      "source": [
        "print(group.keys())\n",
        "print(group[\"conceptgroups\"])\n",
        "print(group[\"rowset\"][:3])"
      ],
      "execution_count": 0,
      "outputs": [
        {
          "output_type": "stream",
          "text": [
            "dict_keys(['conceptgroups', 'fiscalyear', 'fiscalquarter', 'rowset'])\n",
            "['FinancialHeaderData', 'PrimaryFinancials']\n",
            "[{'type': 'date', 'field': 'PeriodEndDate', 'value': '1/31/2015', 'label': 'Period End Date'}, {'type': 'integer', 'field': 'fiscalYear', 'value': 2015, 'label': 'Fiscal Year'}, {'type': 'integer', 'field': 'FiscalQuarter', 'value': 4, 'label': 'Fiscal Quarter'}]\n"
          ],
          "name": "stdout"
        }
      ]
    },
    {
      "metadata": {
        "id": "ngTQIyybAHmu",
        "colab_type": "text"
      },
      "cell_type": "markdown",
      "source": [
        "#### Looks like the fields are the same. Try Pandas to read it."
      ]
    },
    {
      "metadata": {
        "id": "HDDrMSjGAIKc",
        "colab_type": "code",
        "outputId": "f0ba6f7e-da81-4513-e9cf-1efc8a802249",
        "colab": {
          "base_uri": "https://localhost:8080/",
          "height": 296
        }
      },
      "cell_type": "code",
      "source": [
        "pd.DataFrame(group[\"rowset\"])"
      ],
      "execution_count": 0,
      "outputs": [
        {
          "output_type": "execute_result",
          "data": {
            "text/html": [
              "<div>\n",
              "<style scoped>\n",
              "    .dataframe tbody tr th:only-of-type {\n",
              "        vertical-align: middle;\n",
              "    }\n",
              "\n",
              "    .dataframe tbody tr th {\n",
              "        vertical-align: top;\n",
              "    }\n",
              "\n",
              "    .dataframe thead th {\n",
              "        text-align: right;\n",
              "    }\n",
              "</style>\n",
              "<table border=\"1\" class=\"dataframe\">\n",
              "  <thead>\n",
              "    <tr style=\"text-align: right;\">\n",
              "      <th></th>\n",
              "      <th>field</th>\n",
              "      <th>label</th>\n",
              "      <th>type</th>\n",
              "      <th>value</th>\n",
              "    </tr>\n",
              "  </thead>\n",
              "  <tbody>\n",
              "    <tr>\n",
              "      <th>0</th>\n",
              "      <td>PeriodEndDate</td>\n",
              "      <td>Period End Date</td>\n",
              "      <td>date</td>\n",
              "      <td>1/31/2015</td>\n",
              "    </tr>\n",
              "    <tr>\n",
              "      <th>1</th>\n",
              "      <td>fiscalYear</td>\n",
              "      <td>Fiscal Year</td>\n",
              "      <td>integer</td>\n",
              "      <td>2015</td>\n",
              "    </tr>\n",
              "    <tr>\n",
              "      <th>2</th>\n",
              "      <td>FiscalQuarter</td>\n",
              "      <td>Fiscal Quarter</td>\n",
              "      <td>integer</td>\n",
              "      <td>4</td>\n",
              "    </tr>\n",
              "  </tbody>\n",
              "</table>\n",
              "</div>"
            ],
            "text/plain": [
              "           field            label     type      value\n",
              "0  PeriodEndDate  Period End Date     date  1/31/2015\n",
              "1     fiscalYear      Fiscal Year  integer       2015\n",
              "2  FiscalQuarter   Fiscal Quarter  integer          4"
            ]
          },
          "metadata": {
            "tags": []
          },
          "execution_count": 10
        }
      ]
    },
    {
      "metadata": {
        "id": "8zCh3xbAAtph",
        "colab_type": "text"
      },
      "cell_type": "markdown",
      "source": [
        "#### Wow. So granular\n",
        "OK group all the response stuff together.\n",
        "*  The different response groups are:\n",
        "  - ['IncomeStatementConsolidated', 'IncomeStatementFull', 'PrimaryFinancials']\n",
        "  - ['CashFlowStatementConsolidated', 'CashFlowStatementFull', 'PrimaryFinancials']\n",
        "  - ['BalanceSheetConsolidated', 'BalanceSheetFull', 'PrimaryFinancials']\n",
        "  - ['Metadata', 'MetadataFree']\n",
        "  - ['FinancialHeaderData', 'PrimaryFinancials']\n",
        "* The only reason there are so many is because I asked for them all in the query\n",
        "\n",
        "\n",
        "Do them separately to reduce the complication. The header stuff came along for the ride. Maybe I can omit that...but first see what it is:"
      ]
    },
    {
      "metadata": {
        "id": "31O7fKKKAubv",
        "colab_type": "code",
        "outputId": "c48065fd-bfeb-4e63-d2a7-c0067ec94bc2",
        "colab": {
          "base_uri": "https://localhost:8080/",
          "height": 528
        }
      },
      "cell_type": "code",
      "source": [
        "def has_term(conceptgroup, term):\n",
        "    return any(term.lower() in c.lower() for c in conceptgroup)\n",
        "\n",
        "metadata = pd.concat(\n",
        "    pd.DataFrame(groups[\"rowset\"])\n",
        "    for rowset in dataset[\"result\"][\"rowset\"]\n",
        "    for groups in rowset[\"groups\"] if has_term(groups[\"conceptgroups\"], \"meta\")\n",
        ")\n",
        "headers = pd.concat(\n",
        "    pd.DataFrame(groups[\"rowset\"])\n",
        "    for rowset in dataset[\"result\"][\"rowset\"]\n",
        "    for groups in rowset[\"groups\"] if has_term(groups[\"conceptgroups\"], \"header\")\n",
        ")\n",
        "\n",
        "print(\"{0} {1} {0}\".format(\"*\" * 20, \"metadata\"))\n",
        "print(metadata)\n",
        "\n",
        "print(\"\\n{0} {1} {0}\".format(\"*\" * 20, \"headers\"))\n",
        "print(headers)"
      ],
      "execution_count": 0,
      "outputs": [
        {
          "output_type": "stream",
          "text": [
            "******************** metadata ********************\n",
            "      field     label    type value\n",
            "0  duration  Duration  string   ANN\n",
            "0  duration  Duration  string   ANN\n",
            "0  duration  Duration  string   ANN\n",
            "0  duration  Duration  string   ANN\n",
            "\n",
            "******************** headers ********************\n",
            "           field            label     type      value\n",
            "0  PeriodEndDate  Period End Date     date   2/3/2018\n",
            "1     fiscalYear      Fiscal Year  integer       2018\n",
            "2  FiscalQuarter   Fiscal Quarter  integer          4\n",
            "0  PeriodEndDate  Period End Date     date  1/28/2017\n",
            "1     fiscalYear      Fiscal Year  integer       2017\n",
            "2  FiscalQuarter   Fiscal Quarter  integer          4\n",
            "0  PeriodEndDate  Period End Date     date  1/30/2016\n",
            "1     fiscalYear      Fiscal Year  integer       2016\n",
            "2  FiscalQuarter   Fiscal Quarter  integer          4\n",
            "0  PeriodEndDate  Period End Date     date  1/31/2015\n",
            "1     fiscalYear      Fiscal Year  integer       2015\n",
            "2  FiscalQuarter   Fiscal Quarter  integer          4\n"
          ],
          "name": "stdout"
        }
      ]
    },
    {
      "metadata": {
        "id": "fUsVFtCHOvFL",
        "colab_type": "text"
      },
      "cell_type": "markdown",
      "source": [
        "#### The headers are not useful\n",
        "* We know the data are annual because that's all the free API gives us; no information here.\n",
        "* The year (I believe) is included in the other datasets.\n",
        "* However I tried to remove them and can't seem to so still use the `has_term` function to filter for\n",
        "    - balance sheet\n",
        "    - cash flow statement\n",
        "    - income statement\n",
        "\n",
        "##### Balance sheet only"
      ]
    },
    {
      "metadata": {
        "id": "QCIiNZfgOwya",
        "colab_type": "code",
        "outputId": "65470665-019d-4fd2-b11e-796228a9d10f",
        "colab": {
          "base_uri": "https://localhost:8080/",
          "height": 375
        }
      },
      "cell_type": "code",
      "source": [
        "base_url = \"http://datafied.api.edgar-online.com/v1/\"\n",
        "financials_api = base_url + \"corefinancials\"\n",
        "\n",
        "query = dict(\n",
        "    primarysymbols=\"SHLDQ\",\n",
        "    conceptgroups=\"BalanceSheetConsolidated\",\n",
        "    appkey=apikey\n",
        ")\n",
        "\n",
        "response = requests.get(financials_api, params=query)\n",
        "dataset = response.json()\n",
        "\n",
        "balance_sheet = pd.concat(\n",
        "    pd.DataFrame(groups[\"rowset\"])\n",
        "    for rowset in dataset[\"result\"][\"rowset\"]\n",
        "    for groups in rowset[\"groups\"] if has_term(groups[\"conceptgroups\"], \"balance\")\n",
        ")\n",
        "\n",
        "print(f\"Shape of data frame: {balance_sheet.shape}; non-null: {balance_sheet.dropna().shape}\")\n",
        "balance_sheet.dropna().head()"
      ],
      "execution_count": 0,
      "outputs": [
        {
          "output_type": "stream",
          "text": [
            "Shape of data frame: (168, 5); non-null: (116, 5)\n"
          ],
          "name": "stdout"
        },
        {
          "output_type": "execute_result",
          "data": {
            "text/html": [
              "<div>\n",
              "<style scoped>\n",
              "    .dataframe tbody tr th:only-of-type {\n",
              "        vertical-align: middle;\n",
              "    }\n",
              "\n",
              "    .dataframe tbody tr th {\n",
              "        vertical-align: top;\n",
              "    }\n",
              "\n",
              "    .dataframe thead th {\n",
              "        text-align: right;\n",
              "    }\n",
              "</style>\n",
              "<table border=\"1\" class=\"dataframe\">\n",
              "  <thead>\n",
              "    <tr style=\"text-align: right;\">\n",
              "      <th></th>\n",
              "      <th>field</th>\n",
              "      <th>label</th>\n",
              "      <th>precision</th>\n",
              "      <th>type</th>\n",
              "      <th>value</th>\n",
              "    </tr>\n",
              "  </thead>\n",
              "  <tbody>\n",
              "    <tr>\n",
              "      <th>1</th>\n",
              "      <td>CommonStock</td>\n",
              "      <td>Common Stock</td>\n",
              "      <td>0</td>\n",
              "      <td>decimal</td>\n",
              "      <td>1.000000e+06</td>\n",
              "    </tr>\n",
              "    <tr>\n",
              "      <th>5</th>\n",
              "      <td>AccountsPayableandAccruedExpenses</td>\n",
              "      <td>Accounts Payable and Accrued Expenses</td>\n",
              "      <td>0</td>\n",
              "      <td>decimal</td>\n",
              "      <td>2.470000e+08</td>\n",
              "    </tr>\n",
              "    <tr>\n",
              "      <th>7</th>\n",
              "      <td>AdditionalPaidinCapital</td>\n",
              "      <td>Additional Paid-in Capital</td>\n",
              "      <td>0</td>\n",
              "      <td>decimal</td>\n",
              "      <td>9.063000e+09</td>\n",
              "    </tr>\n",
              "    <tr>\n",
              "      <th>9</th>\n",
              "      <td>CashandCashEquivalents</td>\n",
              "      <td>Cash and Cash Equivalents</td>\n",
              "      <td>0</td>\n",
              "      <td>decimal</td>\n",
              "      <td>1.820000e+08</td>\n",
              "    </tr>\n",
              "    <tr>\n",
              "      <th>10</th>\n",
              "      <td>CashCashEquivalentsandShorttermInvestments</td>\n",
              "      <td>Cash, Cash Equivalents and Short-term Investments</td>\n",
              "      <td>0</td>\n",
              "      <td>decimal</td>\n",
              "      <td>3.360000e+08</td>\n",
              "    </tr>\n",
              "  </tbody>\n",
              "</table>\n",
              "</div>"
            ],
            "text/plain": [
              "                                         field  \\\n",
              "1                                  CommonStock   \n",
              "5            AccountsPayableandAccruedExpenses   \n",
              "7                      AdditionalPaidinCapital   \n",
              "9                       CashandCashEquivalents   \n",
              "10  CashCashEquivalentsandShorttermInvestments   \n",
              "\n",
              "                                                label  precision     type  \\\n",
              "1                                        Common Stock          0  decimal   \n",
              "5               Accounts Payable and Accrued Expenses          0  decimal   \n",
              "7                          Additional Paid-in Capital          0  decimal   \n",
              "9                           Cash and Cash Equivalents          0  decimal   \n",
              "10  Cash, Cash Equivalents and Short-term Investments          0  decimal   \n",
              "\n",
              "           value  \n",
              "1   1.000000e+06  \n",
              "5   2.470000e+08  \n",
              "7   9.063000e+09  \n",
              "9   1.820000e+08  \n",
              "10  3.360000e+08  "
            ]
          },
          "metadata": {
            "tags": []
          },
          "execution_count": 12
        }
      ]
    },
    {
      "metadata": {
        "id": "y1Vq0qdCJLIc",
        "colab_type": "text"
      },
      "cell_type": "markdown",
      "source": [
        "##### Income statement only"
      ]
    },
    {
      "metadata": {
        "id": "gkooRLFFSg8S",
        "colab_type": "code",
        "outputId": "1808ce1d-41f7-4e4b-b357-f77af48a486b",
        "colab": {
          "base_uri": "https://localhost:8080/",
          "height": 375
        }
      },
      "cell_type": "code",
      "source": [
        "base_url = \"http://datafied.api.edgar-online.com/v1/\"\n",
        "financials_api = base_url + \"corefinancials\"\n",
        "\n",
        "query = dict(\n",
        "    primarysymbols=\"SHLDQ\",\n",
        "    conceptgroups=\"IncomeStatementConsolidated\",\n",
        "    appkey=apikey\n",
        ")\n",
        "\n",
        "response = requests.get(financials_api, params=query)\n",
        "dataset = response.json()\n",
        "\n",
        "income_statement = pd.concat(\n",
        "    pd.DataFrame(groups[\"rowset\"])\n",
        "    for rowset in dataset[\"result\"][\"rowset\"]\n",
        "    for groups in rowset[\"groups\"] if has_term(groups[\"conceptgroups\"], \"income\")\n",
        ")\n",
        "\n",
        "print(f\"Shape of data frame: {income_statement.shape}; non-null: {income_statement.dropna().shape}\")\n",
        "income_statement.dropna().head()"
      ],
      "execution_count": 0,
      "outputs": [
        {
          "output_type": "stream",
          "text": [
            "Shape of data frame: (100, 5); non-null: (72, 5)\n"
          ],
          "name": "stdout"
        },
        {
          "output_type": "execute_result",
          "data": {
            "text/html": [
              "<div>\n",
              "<style scoped>\n",
              "    .dataframe tbody tr th:only-of-type {\n",
              "        vertical-align: middle;\n",
              "    }\n",
              "\n",
              "    .dataframe tbody tr th {\n",
              "        vertical-align: top;\n",
              "    }\n",
              "\n",
              "    .dataframe thead th {\n",
              "        text-align: right;\n",
              "    }\n",
              "</style>\n",
              "<table border=\"1\" class=\"dataframe\">\n",
              "  <thead>\n",
              "    <tr style=\"text-align: right;\">\n",
              "      <th></th>\n",
              "      <th>field</th>\n",
              "      <th>label</th>\n",
              "      <th>precision</th>\n",
              "      <th>type</th>\n",
              "      <th>value</th>\n",
              "    </tr>\n",
              "  </thead>\n",
              "  <tbody>\n",
              "    <tr>\n",
              "      <th>0</th>\n",
              "      <td>EBIT</td>\n",
              "      <td>EBIT</td>\n",
              "      <td>0</td>\n",
              "      <td>decimal</td>\n",
              "      <td>-2.078000e+09</td>\n",
              "    </tr>\n",
              "    <tr>\n",
              "      <th>1</th>\n",
              "      <td>CostofRevenue</td>\n",
              "      <td>Cost of Revenue</td>\n",
              "      <td>0</td>\n",
              "      <td>decimal</td>\n",
              "      <td>1.317500e+10</td>\n",
              "    </tr>\n",
              "    <tr>\n",
              "      <th>2</th>\n",
              "      <td>DepreciationAmortizationExpense</td>\n",
              "      <td>Depreciation &amp; Amortization Expense</td>\n",
              "      <td>0</td>\n",
              "      <td>decimal</td>\n",
              "      <td>3.320000e+08</td>\n",
              "    </tr>\n",
              "    <tr>\n",
              "      <th>3</th>\n",
              "      <td>DilutedEPSNetIncome</td>\n",
              "      <td>Diluted EPS, Net Income</td>\n",
              "      <td>0</td>\n",
              "      <td>decimal</td>\n",
              "      <td>-3.570000e+00</td>\n",
              "    </tr>\n",
              "    <tr>\n",
              "      <th>7</th>\n",
              "      <td>BasicEPSNetIncome</td>\n",
              "      <td>Basic EPS, Net Income</td>\n",
              "      <td>0</td>\n",
              "      <td>decimal</td>\n",
              "      <td>-3.570000e+00</td>\n",
              "    </tr>\n",
              "  </tbody>\n",
              "</table>\n",
              "</div>"
            ],
            "text/plain": [
              "                             field                                label  \\\n",
              "0                             EBIT                                 EBIT   \n",
              "1                    CostofRevenue                      Cost of Revenue   \n",
              "2  DepreciationAmortizationExpense  Depreciation & Amortization Expense   \n",
              "3              DilutedEPSNetIncome              Diluted EPS, Net Income   \n",
              "7                BasicEPSNetIncome                Basic EPS, Net Income   \n",
              "\n",
              "   precision     type         value  \n",
              "0          0  decimal -2.078000e+09  \n",
              "1          0  decimal  1.317500e+10  \n",
              "2          0  decimal  3.320000e+08  \n",
              "3          0  decimal -3.570000e+00  \n",
              "7          0  decimal -3.570000e+00  "
            ]
          },
          "metadata": {
            "tags": []
          },
          "execution_count": 13
        }
      ]
    },
    {
      "metadata": {
        "id": "983_RXJ2JN6D",
        "colab_type": "text"
      },
      "cell_type": "markdown",
      "source": [
        "##### Cash flow statement only"
      ]
    },
    {
      "metadata": {
        "id": "YcMA62_QOww9",
        "colab_type": "code",
        "outputId": "dcda3671-811d-4861-bccf-2d5938d27ec8",
        "colab": {
          "base_uri": "https://localhost:8080/",
          "height": 375
        }
      },
      "cell_type": "code",
      "source": [
        "base_url = \"http://datafied.api.edgar-online.com/v1/\"\n",
        "financials_api = base_url + \"corefinancials\"\n",
        "\n",
        "query = dict(\n",
        "    primarysymbols=\"SHLDQ\",\n",
        "    conceptgroups=\"CashFlowStatementConsolidated\",\n",
        "    appkey=apikey\n",
        ")\n",
        "\n",
        "response = requests.get(financials_api, params=query)\n",
        "dataset = response.json()\n",
        "\n",
        "cash_flow = pd.concat(\n",
        "    pd.DataFrame(groups[\"rowset\"])\n",
        "    for rowset in dataset[\"result\"][\"rowset\"]\n",
        "    for groups in rowset[\"groups\"] if has_term(groups[\"conceptgroups\"], \"cash\")\n",
        ")\n",
        "\n",
        "print(f\"Shape of data frame: {cash_flow.shape}; non-null: {cash_flow.dropna().shape}\")\n",
        "cash_flow.dropna().head()"
      ],
      "execution_count": 0,
      "outputs": [
        {
          "output_type": "stream",
          "text": [
            "Shape of data frame: (156, 5); non-null: (108, 5)\n"
          ],
          "name": "stdout"
        },
        {
          "output_type": "execute_result",
          "data": {
            "text/html": [
              "<div>\n",
              "<style scoped>\n",
              "    .dataframe tbody tr th:only-of-type {\n",
              "        vertical-align: middle;\n",
              "    }\n",
              "\n",
              "    .dataframe tbody tr th {\n",
              "        vertical-align: top;\n",
              "    }\n",
              "\n",
              "    .dataframe thead th {\n",
              "        text-align: right;\n",
              "    }\n",
              "</style>\n",
              "<table border=\"1\" class=\"dataframe\">\n",
              "  <thead>\n",
              "    <tr style=\"text-align: right;\">\n",
              "      <th></th>\n",
              "      <th>field</th>\n",
              "      <th>label</th>\n",
              "      <th>precision</th>\n",
              "      <th>type</th>\n",
              "      <th>value</th>\n",
              "    </tr>\n",
              "  </thead>\n",
              "  <tbody>\n",
              "    <tr>\n",
              "      <th>0</th>\n",
              "      <td>ChangeinCurrentAssets</td>\n",
              "      <td>Change in Current Assets</td>\n",
              "      <td>0</td>\n",
              "      <td>decimal</td>\n",
              "      <td>1.922000e+09</td>\n",
              "    </tr>\n",
              "    <tr>\n",
              "      <th>1</th>\n",
              "      <td>ChangeinCurrentLiabilities</td>\n",
              "      <td>Change in Current Liabilities</td>\n",
              "      <td>0</td>\n",
              "      <td>decimal</td>\n",
              "      <td>-4.720000e+08</td>\n",
              "    </tr>\n",
              "    <tr>\n",
              "      <th>2</th>\n",
              "      <td>ChangeinDebtNet</td>\n",
              "      <td>Change in Debt, Net</td>\n",
              "      <td>0</td>\n",
              "      <td>decimal</td>\n",
              "      <td>4.100000e+07</td>\n",
              "    </tr>\n",
              "    <tr>\n",
              "      <th>6</th>\n",
              "      <td>ChangeinInventories</td>\n",
              "      <td>Change in Inventories</td>\n",
              "      <td>0</td>\n",
              "      <td>decimal</td>\n",
              "      <td>1.144000e+09</td>\n",
              "    </tr>\n",
              "    <tr>\n",
              "      <th>7</th>\n",
              "      <td>ChangeinOperatingAssetsLiabilities</td>\n",
              "      <td>Change in Operating Assets &amp; Liabilities</td>\n",
              "      <td>0</td>\n",
              "      <td>decimal</td>\n",
              "      <td>9.160000e+08</td>\n",
              "    </tr>\n",
              "  </tbody>\n",
              "</table>\n",
              "</div>"
            ],
            "text/plain": [
              "                                field  \\\n",
              "0               ChangeinCurrentAssets   \n",
              "1          ChangeinCurrentLiabilities   \n",
              "2                     ChangeinDebtNet   \n",
              "6                 ChangeinInventories   \n",
              "7  ChangeinOperatingAssetsLiabilities   \n",
              "\n",
              "                                      label  precision     type         value  \n",
              "0                  Change in Current Assets          0  decimal  1.922000e+09  \n",
              "1             Change in Current Liabilities          0  decimal -4.720000e+08  \n",
              "2                       Change in Debt, Net          0  decimal  4.100000e+07  \n",
              "6                     Change in Inventories          0  decimal  1.144000e+09  \n",
              "7  Change in Operating Assets & Liabilities          0  decimal  9.160000e+08  "
            ]
          },
          "metadata": {
            "tags": []
          },
          "execution_count": 15
        }
      ]
    },
    {
      "metadata": {
        "id": "deNq1Ck1JUDN",
        "colab_type": "text"
      },
      "cell_type": "markdown",
      "source": [
        "#### Conclusion\n",
        "\n",
        "If you want to see annual Balance sheet / Cash flow statement/ Income statement then the above workflow looks good:\n",
        "\n",
        "company API request --> primary symbol (e.g. SHLDQ)\n",
        "core financials API request --> Filter for desired concept group --> Pandas\n",
        "And then honestly to Excel would be my workflow...and students can analyze the data"
      ]
    },
    {
      "metadata": {
        "id": "_K8a6m9CJ5vn",
        "colab_type": "code",
        "colab": {}
      },
      "cell_type": "code",
      "source": [
        "cash_flow.to_excel(\"sears_cash_flow.xls\", index=False)\n",
        "\n",
        "\n",
        "from google.colab import files\n",
        "files.download('sears_cash_flow.xls')"
      ],
      "execution_count": 0,
      "outputs": []
    },
    {
      "metadata": {
        "id": "nq3_a_ufXKFs",
        "colab_type": "text"
      },
      "cell_type": "markdown",
      "source": [
        "#### Free stuff II\n",
        "*  Valuation Ratios - Mini\t`ValuationRatiosMini`\n",
        "*  Profitability Ratios - Mini\t`ProfitabilityRatiosMini`\n",
        "*  Leverage Ratios - Mini\t`LeverageRatiosMini`\n",
        "*  Liquidity Ratios - Mini\t`LiquidityRatiosMini`\n",
        "* Financial Ratio `FinancialRatioData`"
      ]
    },
    {
      "metadata": {
        "id": "1bIEWWRubG0A",
        "colab_type": "code",
        "outputId": "84a00a40-9fd7-42d8-ce4d-ded38c6e5c8e",
        "colab": {
          "base_uri": "https://localhost:8080/",
          "height": 817
        }
      },
      "cell_type": "code",
      "source": [
        "base_url = \"http://datafied.api.edgar-online.com/v1/\"\n",
        "financials_api = base_url + \"corefinancials\"\n",
        "\n",
        "query = dict(\n",
        "    primarysymbols=\"SHLDQ\",\n",
        "    conceptgroups=\"ValuationRatiosMini\",\n",
        "    appkey=apikey\n",
        ")\n",
        "\n",
        "response = requests.get(financials_api, params=query)\n",
        "dataset = response.json()\n",
        "\n",
        "print(json.dumps(dataset, indent=2)[:1000])"
      ],
      "execution_count": 0,
      "outputs": [
        {
          "output_type": "stream",
          "text": [
            "{\n",
            "  \"result\": {\n",
            "    \"limit\": 25,\n",
            "    \"offset\": 0,\n",
            "    \"totalrows\": 4,\n",
            "    \"duration\": \"ANN\",\n",
            "    \"rowset\": [\n",
            "      {\n",
            "        \"rownum\": 1,\n",
            "        \"entityid\": 656789,\n",
            "        \"groups\": [\n",
            "          {\n",
            "            \"conceptgroups\": [\n",
            "              \"Ratios\",\n",
            "              \"ValuationRatios\",\n",
            "              \"ValuationRatiosMini\"\n",
            "            ],\n",
            "            \"fiscalyear\": 2018,\n",
            "            \"fiscalquarter\": 4,\n",
            "            \"rowset\": [\n",
            "              {\n",
            "                \"precision\": 0,\n",
            "                \"type\": \"decimal\",\n",
            "                \"field\": \"MarketCapBasic\",\n",
            "                \"value\": 53519000.0,\n",
            "                \"label\": \"Market Cap - Basic\"\n",
            "              },\n",
            "              {\n",
            "                \"precision\": 0,\n",
            "                \"type\": \"decimal\",\n",
            "                \"field\": \"MarketCapDiluted\",\n",
            "                \"value\": 53519000.0,\n",
            "                \"label\": \"Market Cap - Diluted\"\n",
            "              },\n",
            "              {\n",
            "                \"precision\": 0,\n",
            "                \"type\": \"decimal\",\n",
            "                \"field\": \"MarketCapT\n"
          ],
          "name": "stdout"
        }
      ]
    },
    {
      "metadata": {
        "id": "VRzAFcQqU7-p",
        "colab_type": "text"
      },
      "cell_type": "markdown",
      "source": [
        "#### Looks like the format is the same as above, woo!"
      ]
    },
    {
      "metadata": {
        "id": "l_TG_W-6Xkqq",
        "colab_type": "code",
        "outputId": "df7be795-69f3-4755-f8b9-9326401a515b",
        "colab": {
          "base_uri": "https://localhost:8080/",
          "height": 375
        }
      },
      "cell_type": "code",
      "source": [
        "valuation_ratios = pd.concat(\n",
        "    pd.DataFrame(groups[\"rowset\"])\n",
        "    for rowset in dataset[\"result\"][\"rowset\"]\n",
        "    for groups in rowset[\"groups\"] if has_term(groups[\"conceptgroups\"], \"valuation\")\n",
        ")\n",
        "\n",
        "print(f\"Shape of data frame: {valuation_ratios.shape}; non-null: {valuation_ratios.dropna().shape}\")\n",
        "valuation_ratios.dropna().head()"
      ],
      "execution_count": 0,
      "outputs": [
        {
          "output_type": "stream",
          "text": [
            "Shape of data frame: (28, 5); non-null: (28, 5)\n"
          ],
          "name": "stdout"
        },
        {
          "output_type": "execute_result",
          "data": {
            "text/html": [
              "<div>\n",
              "<style scoped>\n",
              "    .dataframe tbody tr th:only-of-type {\n",
              "        vertical-align: middle;\n",
              "    }\n",
              "\n",
              "    .dataframe tbody tr th {\n",
              "        vertical-align: top;\n",
              "    }\n",
              "\n",
              "    .dataframe thead th {\n",
              "        text-align: right;\n",
              "    }\n",
              "</style>\n",
              "<table border=\"1\" class=\"dataframe\">\n",
              "  <thead>\n",
              "    <tr style=\"text-align: right;\">\n",
              "      <th></th>\n",
              "      <th>field</th>\n",
              "      <th>label</th>\n",
              "      <th>precision</th>\n",
              "      <th>type</th>\n",
              "      <th>value</th>\n",
              "    </tr>\n",
              "  </thead>\n",
              "  <tbody>\n",
              "    <tr>\n",
              "      <th>0</th>\n",
              "      <td>MarketCapBasic</td>\n",
              "      <td>Market Cap - Basic</td>\n",
              "      <td>0</td>\n",
              "      <td>decimal</td>\n",
              "      <td>5.351900e+07</td>\n",
              "    </tr>\n",
              "    <tr>\n",
              "      <th>1</th>\n",
              "      <td>MarketCapDiluted</td>\n",
              "      <td>Market Cap - Diluted</td>\n",
              "      <td>0</td>\n",
              "      <td>decimal</td>\n",
              "      <td>5.351900e+07</td>\n",
              "    </tr>\n",
              "    <tr>\n",
              "      <th>2</th>\n",
              "      <td>MarketCapTSO</td>\n",
              "      <td>Market Cap - TSO</td>\n",
              "      <td>0</td>\n",
              "      <td>decimal</td>\n",
              "      <td>5.363492e+07</td>\n",
              "    </tr>\n",
              "    <tr>\n",
              "      <th>3</th>\n",
              "      <td>PriceBookFQ</td>\n",
              "      <td>Price/Book, FQ</td>\n",
              "      <td>0</td>\n",
              "      <td>decimal</td>\n",
              "      <td>-1.010000e-02</td>\n",
              "    </tr>\n",
              "    <tr>\n",
              "      <th>4</th>\n",
              "      <td>PriceBookFY</td>\n",
              "      <td>Price/Book, FY</td>\n",
              "      <td>0</td>\n",
              "      <td>decimal</td>\n",
              "      <td>-6.780000e-02</td>\n",
              "    </tr>\n",
              "  </tbody>\n",
              "</table>\n",
              "</div>"
            ],
            "text/plain": [
              "              field                 label  precision     type         value\n",
              "0    MarketCapBasic    Market Cap - Basic          0  decimal  5.351900e+07\n",
              "1  MarketCapDiluted  Market Cap - Diluted          0  decimal  5.351900e+07\n",
              "2      MarketCapTSO      Market Cap - TSO          0  decimal  5.363492e+07\n",
              "3       PriceBookFQ        Price/Book, FQ          0  decimal -1.010000e-02\n",
              "4       PriceBookFY        Price/Book, FY          0  decimal -6.780000e-02"
            ]
          },
          "metadata": {
            "tags": []
          },
          "execution_count": 24
        }
      ]
    },
    {
      "metadata": {
        "id": "IXX4Adp9Vh5F",
        "colab_type": "text"
      },
      "cell_type": "markdown",
      "source": [
        "#### All the rest"
      ]
    },
    {
      "metadata": {
        "id": "sKuitQUMVi8z",
        "colab_type": "code",
        "outputId": "24d35eb6-1201-4ebb-aa62-0bdc753e073a",
        "colab": {
          "base_uri": "https://localhost:8080/",
          "height": 834
        }
      },
      "cell_type": "code",
      "source": [
        "base_url = \"http://datafied.api.edgar-online.com/v1/\"\n",
        "financials_api = base_url + \"corefinancials\"\n",
        "\n",
        "query = dict(\n",
        "    primarysymbols=\"SHLDQ\",\n",
        "    conceptgroups=\"ValuationRatiosMini\",\n",
        "    appkey=apikey\n",
        ")\n",
        "\n",
        "dataframes = []\n",
        "fields = ['ProfitabilityRatiosMini', 'LeverageRatiosMini', 'LiquidityRatiosMini','FinancialRatioData']\n",
        "for field in fields:\n",
        "    query['conceptgroups'] = field\n",
        "    response = requests.get(financials_api, params=query)\n",
        "    dataset = response.json()\n",
        "    df = pd.concat(\n",
        "        pd.DataFrame(groups[\"rowset\"])\n",
        "        for rowset in dataset[\"result\"][\"rowset\"]\n",
        "        for groups in rowset[\"groups\"] if has_term(groups[\"conceptgroups\"], field)\n",
        "    )\n",
        "    dataframes.append(df)\n",
        "    print(f\"Field: {field} -- Shape of non-null: {df.dropna().shape}\")\n",
        "    print(df.head())\n",
        "    print()"
      ],
      "execution_count": 0,
      "outputs": [
        {
          "output_type": "stream",
          "text": [
            "Field: ProfitabilityRatiosMini -- Shape of non-null: (24, 5)\n",
            "                  field                   label  precision     type   value\n",
            "0      GrossMarginPctFQ      Gross Margin %, FQ          0  decimal  0.1971\n",
            "1      GrossMarginPctFY      Gross Margin %, FY          0  decimal  0.2112\n",
            "2     GrossMarginPctTTM     Gross Margin %, TTM          0  decimal  0.1971\n",
            "3  OperatingMarginPctFQ  Operating Margin %, FQ          0  decimal -0.1767\n",
            "4  OperatingMarginPctFY  Operating Margin %, FY          0  decimal -0.1244\n",
            "\n",
            "Field: LeverageRatiosMini -- Shape of non-null: (12, 5)\n",
            "            field               label  precision     type    value\n",
            "0    DebttoEquity      Debt to Equity          0  decimal -1.33092\n",
            "1  DebttoEquityFQ  Debt to Equity, FQ          0  decimal -0.72750\n",
            "2  DebttoEquityFY  Debt to Equity, FY          0  decimal -1.33090\n",
            "0    DebttoEquity      Debt to Equity          0  decimal -1.42416\n",
            "1  DebttoEquityFQ  Debt to Equity, FQ          0  decimal -0.72750\n",
            "\n",
            "Field: LiquidityRatiosMini -- Shape of non-null: (20, 5)\n",
            "            field              label  precision     type    value\n",
            "0    CurrentRatio      Current Ratio          0  decimal  0.77558\n",
            "1  CurrentRatioFQ  Current Ratio, FQ          0  decimal  1.10060\n",
            "2  CurrentRatioFY  Current Ratio, FY          0  decimal  0.77560\n",
            "3    QuickRatioFQ    Quick Ratio, FQ          0  decimal  0.42660\n",
            "4    QuickRatioFY    Quick Ratio, FY          0  decimal  0.20630\n",
            "\n",
            "Field: FinancialRatioData -- Shape of non-null: (44, 5)\n",
            "                           field                                label  \\\n",
            "0             FreeCashFlowMargin                Free Cash Flow Margin   \n",
            "1                LongTermCapital                    Long Term Capital   \n",
            "2  LongTermDebttoLongTermCapital  Long Term Debt to Long Term Capital   \n",
            "3     LongTermDebttoTotalCapital      Long Term Debt to Total Capital   \n",
            "4                        NetDebt                             Net Debt   \n",
            "\n",
            "   precision     type         value  \n",
            "0          0  decimal -1.150800e-01  \n",
            "1          0  decimal  1.135100e+10  \n",
            "2          0  decimal  2.198900e-01  \n",
            "3          0  decimal  2.025970e+00  \n",
            "4          0  decimal  4.619000e+09  \n",
            "\n"
          ],
          "name": "stdout"
        }
      ]
    },
    {
      "metadata": {
        "id": "9Ig1caQjXKpA",
        "colab_type": "text"
      },
      "cell_type": "markdown",
      "source": [
        "## Conclusion\n",
        "The SEC APIs are worth a look:\n",
        "* The forms API is free.\n",
        "    - Documentation: https://www.sec.gov/edgar/searchedgar/accessing-edgar-data.htm\n",
        "    - API: https://www.sec.gov/Archives/\n",
        "    - Index files can be fixed-width or pipe-separated\n",
        "    - need Regex to pull the relevant text out\n",
        "    - then lxml to parse the xml\n",
        "* The financials API is free but requires an API key\n",
        "    - Documentation: https://developer.edgar-online.com/docs/v1\n",
        "    - Registration for key: https://developer.edgar-online.com/apps/register\n",
        "    - Two endpoints:\n",
        "        * http://datafied.api.edgar-online.com/v1/companies <br/>(search by symbol/city/zip/state/ <a href=\"https://developer.edgar-online.com/docs/v1#nav7\">and more</a>)\n",
        "        * http://datafied.api.edgar-online.com/v1/corefinancials<br/>(search by similar company categories, stock exchange, ticker symbol, <a href=\"https://developer.edgar-online.com/docs/v1#nav8\">and more</a>)\n",
        "        \n",
        " ## System and library information"
      ]
    },
    {
      "metadata": {
        "id": "_DvFLL6hOHNE",
        "colab_type": "code",
        "colab": {
          "base_uri": "https://localhost:8080/",
          "height": 273
        },
        "outputId": "08462c18-42e0-4a47-d4fa-b43e68396a0b"
      },
      "cell_type": "code",
      "source": [
        "import sys\n",
        "import matplotlib\n",
        "\n",
        "print(f\"Google Colab notebook, running Python {sys.version}\")\n",
        "print(f\"requests {requests.__version__}\\npandas {pd.__version__}\")\n",
        "print(f\"matplotlib {matplotlib.__version__}\\nlxml {etree.LXML_VERSION}\")"
      ],
      "execution_count": 2,
      "outputs": [
        {
          "output_type": "stream",
          "text": [
            "Google Colab notebook, running Python 3.6.7 (default, Oct 22 2018, 11:32:17) \n",
            "[GCC 8.2.0]\n",
            "requests 2.18.4\n",
            "pandas 0.22.0\n",
            "matplotlib 2.1.2\n",
            "lxml (4, 2, 5, 0)\n"
          ],
          "name": "stdout"
        }
      ]
    }
  ]
}