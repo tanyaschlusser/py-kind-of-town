{
  "nbformat": 4,
  "nbformat_minor": 0,
  "metadata": {
    "colab": {
      "name": "DuPage-Meetup-only.ipynb",
      "version": "0.3.2",
      "provenance": [],
      "collapsed_sections": []
    },
    "kernelspec": {
      "name": "python3",
      "display_name": "Python 3"
    }
  },
  "cells": [
    {
      "metadata": {
        "id": "GWzHGUySiO8h",
        "colab_type": "text"
      },
      "cell_type": "markdown",
      "source": [
        "# Get and interpret meetup data\n",
        "\n",
        "My goal was to prep for the [DuPage Python metup](https://www.meetup.com/DuPage-Python-Meetup/) by knowing my audience, to tailor my talk to their interests, so this notebook pulls the group members' other memberships (R? Data Science? Android?) to use as a proxy for topics of interest. (Even though there's a \"topics\" category for each profile in the meetup data...guess I was curious who might be in other meetups I go to.)\n",
        "\n",
        "- You will need a Meetup account to run the workbook because it requires a (free) API key.\n",
        "- If  this weirds you out you can always [hide the groups on your profile](https://help.meetup.com/hc/en-us/articles/360002862392-Hiding-my-list-of-Meetup-Groups-on-my-profile).\n",
        "\n",
        "## Setup"
      ]
    },
    {
      "metadata": {
        "id": "-llKrpVtGQYR",
        "colab_type": "code",
        "colab": {}
      },
      "cell_type": "code",
      "source": [
        "!pip install --quiet upsetplot\n",
        "\n",
        "import json\n",
        "import os\n",
        "import statistics\n",
        "import time\n",
        "\n",
        "import pandas\n",
        "import requests\n",
        "# Here is the R version of upsetplot (from the original authors)\n",
        "#   https://cran.r-project.org/web/packages/UpSetR/vignettes/basic.usage.html\n",
        "import upsetplot\n",
        "from collections import Counter, defaultdict"
      ],
      "execution_count": 0,
      "outputs": []
    },
    {
      "metadata": {
        "id": "5am_QfrxfCIt",
        "colab_type": "code",
        "outputId": "6abe3217-a815-41df-bfb7-b188f9f7612b",
        "colab": {
          "base_uri": "https://localhost:8080/",
          "height": 205
        }
      },
      "cell_type": "code",
      "source": [
        "import getpass\n",
        "print(\"Go to https://secure.meetup.com/meetup_api/key/ for your API key.\")\n",
        "apikey = getpass.getpass(prompt=\"meetup api key: \")"
      ],
      "execution_count": 3,
      "outputs": [
        {
          "output_type": "stream",
          "text": [
            "Go to https://secure.meetup.com/meetup_api/key/ for your API key.\n",
            "meetup api key: ··········\n"
          ],
          "name": "stdout"
        }
      ]
    },
    {
      "metadata": {
        "id": "nGO0NzNhxPWj",
        "colab_type": "text"
      },
      "cell_type": "markdown",
      "source": [
        "## Data acquisition\n",
        "\n",
        "Meetup's API documentation is [here](https://www.meetup.com/meetup_api/). They will throttle your requests if you make more than 30 per unit of time, so you have to sleep in between requests. I don't know the time scale but assumed it was per minute. (So this takes about 5 minutes with ~150 members)."
      ]
    },
    {
      "metadata": {
        "id": "-FYsDlq429ry",
        "colab_type": "code",
        "colab": {}
      },
      "cell_type": "code",
      "source": [
        "# Meetup api documentation: https://www.meetup.com/meetup_api/\n",
        "import time\n",
        "api_url = \"https://api.meetup.com\"\n",
        "\n",
        "group = \"DuPage-Python-Meetup\"\n",
        "response = requests.get(f\"{api_url}/{group}/members\")\n",
        "user_ids = [entry[\"id\"] for entry in response.json()]\n",
        "\n",
        "all_users_groups = {}\n",
        "for user_id in user_ids:\n",
        "    time.sleep(3)  # Meetup throttles you\n",
        "    result = requests.get(f\"{api_url}/members/{user_id}?sign=True&key={apikey}&fields=memberships\").json()\n",
        "    if \"memberships\" not in result:\n",
        "        all_users_groups[user_id] = []\n",
        "    else:\n",
        "        group_names = sorted(m[\"group\"][\"name\"] for m in result[\"memberships\"][\"member\"])\n",
        "        all_users_groups[user_id] = group_names"
      ],
      "execution_count": 0,
      "outputs": []
    },
    {
      "metadata": {
        "id": "aWv-zcKYyAl0",
        "colab_type": "text"
      },
      "cell_type": "markdown",
      "source": [
        "#### Here's the rate limit I was telling you about"
      ]
    },
    {
      "metadata": {
        "id": "AsmZiGhh7WIs",
        "colab_type": "code",
        "outputId": "4b358084-2b7f-42f8-ceb9-9e08d1fed9f8",
        "colab": {
          "base_uri": "https://localhost:8080/",
          "height": 188
        }
      },
      "cell_type": "code",
      "source": [
        "response.headers[\"X-RateLimit-Limit\"]"
      ],
      "execution_count": 5,
      "outputs": [
        {
          "output_type": "execute_result",
          "data": {
            "text/plain": [
              "'30'"
            ]
          },
          "metadata": {
            "tags": []
          },
          "execution_count": 5
        }
      ]
    },
    {
      "metadata": {
        "id": "uhuG14rUyPpV",
        "colab_type": "text"
      },
      "cell_type": "markdown",
      "source": [
        "## Analysis\n",
        "Just basic counts here."
      ]
    },
    {
      "metadata": {
        "id": "xwS7KlSyCF2T",
        "colab_type": "code",
        "outputId": "b1b1c76c-9ab8-4846-e38e-d87d46935048",
        "colab": {
          "base_uri": "https://localhost:8080/",
          "height": 256
        }
      },
      "cell_type": "code",
      "source": [
        "print(f\"total people is: {len(all_users_groups)}\")\n",
        "group_counts = [len(groups) for groups in all_users_groups.values()]\n",
        "print(\"Other group membership stats:\")\n",
        "print(f\"- average: {statistics.mean(group_counts):.0f}\")\n",
        "print(f\"- median: {statistics.median(group_counts):.0f}\")\n",
        "print(f\"- max: {max(group_counts)}; min: {min(group_counts)}\")\n",
        "\n",
        "#from google.colab import files\n",
        "#filename = 'all_users_groups.json'\n",
        "#with open(filename, 'w') as f:\n",
        "#  f.write(json.dumps(all_users_groups))\n",
        "#\n",
        "#files.download(filename)"
      ],
      "execution_count": 6,
      "outputs": [
        {
          "output_type": "stream",
          "text": [
            "total people is: 147\n",
            "Other group membership stats:\n",
            "- average: 19\n",
            "- median: 10\n",
            "- max: 205; min: 0\n"
          ],
          "name": "stdout"
        }
      ]
    },
    {
      "metadata": {
        "id": "juesnKYa0V9F",
        "colab_type": "text"
      },
      "cell_type": "markdown",
      "source": [
        "Use the standard library `collections`'  `Counter` to identify the most popular groups."
      ]
    },
    {
      "metadata": {
        "id": "UjY5O7CSHeeQ",
        "colab_type": "code",
        "outputId": "7ae99086-f1ff-431f-90f9-7608ed90b9c4",
        "colab": {
          "base_uri": "https://localhost:8080/",
          "height": 426
        }
      },
      "cell_type": "code",
      "source": [
        "all_groups = Counter()\n",
        "for groups in all_users_groups.values():\n",
        "    all_groups.update(groups)\n",
        "print(f\"Total users: {len(user_ids)}\")\n",
        "total_users_who_shared_their_group = len([g for g in all_users_groups.values() if g])\n",
        "print(f\"Total groups: {len(all_groups)} ({total_users_who_shared_their_group} users shared their groups)\")\n",
        "print(f\"\\nMost common groups:\\n{'-' * 19}\")\n",
        "for name, count in all_groups.most_common(10):\n",
        "    print(f\"  {name}: {count}\")"
      ],
      "execution_count": 7,
      "outputs": [
        {
          "output_type": "stream",
          "text": [
            "Total users: 147\n",
            "Total groups: 1231 (130 users shared their groups)\n",
            "\n",
            "Most common groups:\n",
            "-------------------\n",
            "  DuPage Python Meetup: 129\n",
            "  ChiPy: Chicago's Official Python User Group: 34\n",
            "  OpenHack Naperville: 27\n",
            "  DuPage R Meetup: 27\n",
            "  PyData Chicago: 24\n",
            "  Metis: Chicago Data Science: 23\n",
            "  DuPage Business Analytics Meetup: 22\n",
            "  Naperville Software Development Meetup: 20\n",
            "  Chicago R User Group (CRUG) Data and Statistical Programming: 19\n",
            "  Fox_Py    Python meetup in St Charles and Fox Valley.: 19\n"
          ],
          "name": "stdout"
        }
      ]
    },
    {
      "metadata": {
        "id": "1Dy4SQb54afI",
        "colab_type": "text"
      },
      "cell_type": "markdown",
      "source": [
        "### Extracting relevant data\n",
        "\n",
        "Following the advice in the Python tutorial about [using an empty class instance to hold related names](https://docs.python.org/3/tutorial/classes.html#odds-and-ends), this section extracts various terms from the dataset and groups them together. The resulting printout shows all the categorized groups."
      ]
    },
    {
      "metadata": {
        "id": "czRQKVnSZJe2",
        "colab_type": "code",
        "outputId": "ad5419cd-d348-4733-85bb-f7a049586b9e",
        "colab": {
          "base_uri": "https://localhost:8080/",
          "height": 3775
        }
      },
      "cell_type": "code",
      "source": [
        "most_common_groups = set(name for name, count in all_groups.most_common(150))\n",
        "\n",
        "\n",
        "class Namespace:\n",
        "    pass\n",
        "\n",
        "\n",
        "def filter_for(*terms, source=most_common_groups):\n",
        "    return set(g for g in source if any(term in g.lower() for term in terms))\n",
        "\n",
        "groups = Namespace()\n",
        "\n",
        "groups.python = filter_for(\"python\", \"pydata\", \"pyladies\")\n",
        "groups.r = filter_for(\" r \", \"r-ladies\")\n",
        "groups.infrastructure = filter_for(\"aws\", \"azure\", \"cloud\", \"devops\", \"sql\", \"hadoop\", \"kube\")\n",
        "groups.js_frontend = filter_for(\"angular\", \"front\", \"html\", \"javascript\", \"js\", \"react\", \"web\")\n",
        "groups.hot_new = filter_for(\"autonomous\", \"blockchain\", \"crypto\", \"iot\")\n",
        "groups.maker = filter_for(\"hackerspace\", \"maker\", \"pumping\", \"raspberry pi\")\n",
        "groups.other_languages = filter_for(\".net\", \"c++\", \"java \", \"ruby\", \"scala\")\n",
        "groups.data_science = filter_for(\n",
        "    \"analy\", \"data an\", \"data sc\", \"deep learn\", \"intelligence\",\n",
        "    \"machine learn\", \"ml\", \"quant\", \"statistics\", \"tensorflow\", \"time series\")\n",
        "\n",
        "remaining = most_common_groups.copy()\n",
        "for group in groups.__dict__.values():\n",
        "    remaining.difference_update(group)\n",
        "\n",
        "\n",
        "# Only include things in \"business\" that aren't already categorized\n",
        "groups.business = filter_for(\n",
        "    \"business\", \"entrepreneur\", \"fund\", \"invest\", \"leader\", \"professional\", \"startup\",\n",
        "    source=remaining\n",
        ")\n",
        "remaining.difference_update(groups.business)\n",
        "\n",
        "# Only include things in \"general\" that aren't already categorized\n",
        "groups.general = filter_for(\n",
        "    \"acm\", \"agile\", \"code\", \"coding\", \"comput\", \"dev\", \"develop\",\n",
        "    \"geekfest\", \"hack\", \"linux\", \"open source\", \"software\", \"tech\",\n",
        "    source=remaining\n",
        ")\n",
        "remaining.difference_update(groups.general)\n",
        "\n",
        "\n",
        "# Summarize results\n",
        "groups.uncategorized = remaining\n",
        "print(f\"{len(groups.uncategorized)} remaining uncategorized\")\n",
        "newline = \"\\n\"\n",
        "\n",
        "for groupname, values in groups.__dict__.items():\n",
        "    print(f\"\\n\\n{'-'*len(groupname)}\\n{groupname}\\n{'-'*len(groupname)}\\n{newline.join(sorted(values))}\")"
      ],
      "execution_count": 8,
      "outputs": [
        {
          "output_type": "stream",
          "text": [
            "37 remaining uncategorized\n",
            "\n",
            "\n",
            "------\n",
            "python\n",
            "------\n",
            "ChiPy: Chicago's Official Python User Group\n",
            "Chicago PyLadies\n",
            "Chicago Python Meetup • ProgramWithUs.com\n",
            "Chicago Pythonistas\n",
            "Data Science and Python\n",
            "DuPage Python Meetup\n",
            "Fox Valley Python\n",
            "Fox_Py    Python meetup in St Charles and Fox Valley.\n",
            "PyData Chicago\n",
            "\n",
            "\n",
            "-\n",
            "r\n",
            "-\n",
            "Chicago R User Group (CRUG) Data and Statistical Programming\n",
            "Data Analytics and R - Chicago Northwest Suburbs\n",
            "DuPage R Meetup\n",
            "\n",
            "\n",
            "--------------\n",
            "infrastructure\n",
            "--------------\n",
            "AWS Chicago\n",
            "AWS Chicago Suburbs\n",
            "Aurora Naperville all things Azure, Xamarin, .Net\n",
            "Chicago Analytics and Data Science in the Cloud\n",
            "Chicago Azure Cloud Users Group\n",
            "Chicago SQL - The SQL, NoSQL, & NewSQL Database Meetup\n",
            "DevOps in the Burbs\n",
            "IBM Cloud - Chicago\n",
            "Midwest Cloud Computing User Group\n",
            "\n",
            "\n",
            "-----------\n",
            "js_frontend\n",
            "-----------\n",
            "All Things Web Tech\n",
            "Chicago Front End Developers\n",
            "Chicago JavaScript Meetup Group\n",
            "Chicago Node.js\n",
            "Chicago Suburban Mobile and Web Technology Meetup\n",
            "Chicago Web Development Mentorship\n",
            "Chicago Web Professionals Meetup Group\n",
            "DoneJS Chicago\n",
            "Fullstack JavaScript - Chicago\n",
            "Northwest Chicago JavaScript\n",
            "React Chicago\n",
            "WxSW Chi burbs React\n",
            "\n",
            "\n",
            "-------\n",
            "hot_new\n",
            "-------\n",
            "Blockchain, Bitcoin...The Future is Here Meetup\n",
            "Chicago Blockchain Project\n",
            "Greater Chicago Blockchain Geeks\n",
            "Internet to Intelligence of Things (IoT) Chicago\n",
            "St. Charles Crypto Club\n",
            "\n",
            "\n",
            "-----\n",
            "maker\n",
            "-----\n",
            "Chicago Devs, Makers, & Creators\n",
            "Chicago Suburb Hackerspace: Workshop 88\n",
            "Fox.Build - Coworking, Hacking, Maker-Space in St. Charles\n",
            "NERP - Not Exclusively Raspberry Pi\n",
            "Pumping Station: One\n",
            "\n",
            "\n",
            "---------------\n",
            "other_languages\n",
            "---------------\n",
            "Aurora Naperville all things Azure, Xamarin, .Net\n",
            "CNUG - Chicago .NET Users Group\n",
            "Chicago C/C++ Users Group\n",
            "Chicago Java Users Group\n",
            "Illinois Java Users Group - Northwest\n",
            "Illinois Java Users Group Chicago\n",
            "Schaumburg Microsoft .NET Technologies Meetup\n",
            "The Chicago-Area Scala Enthusiasts (CASE) Meetup Group\n",
            "\n",
            "\n",
            "------------\n",
            "data_science\n",
            "------------\n",
            "Analytics & Data Science by Dataiku Chicago\n",
            "Applied Artificial Intelligence Chicago\n",
            "Artificial Intelligence Chicago\n",
            "Big Data & Analytics Meetup, Chicago\n",
            "Chicago AI & Deep Learning User Group\n",
            "Chicago AI and ML Entrepreneurs\n",
            "Chicago Analytics and Data Science in the Cloud\n",
            "Chicago Artificial Intelligence & Deep Learning\n",
            "Chicago Artificial Intelligence Practitioners\n",
            "Chicago Big Data Analytics Meetup\n",
            "Chicago Booth Big Data & Analytics Roundtable\n",
            "Chicago Data Science #ODSC\n",
            "Chicago ML\n",
            "Chicago Machine Learning, AI and Data Science Innovators\n",
            "Chicago North West Suburbs - Data and Analytics\n",
            "Chicago R User Group (CRUG) Data and Statistical Programming\n",
            "Data Analytics and R - Chicago Northwest Suburbs\n",
            "Data Science Applications Community (DSAC) - Chicago\n",
            "Data Science Chicago\n",
            "Data Science Dojo – Chicago\n",
            "Data Science and Python\n",
            "DuPage Business Analytics Meetup\n",
            "Internet to Intelligence of Things (IoT) Chicago\n",
            "Lake County Machine Learning Group\n",
            "Metis: Chicago Data Science\n",
            "Northwestern Machine Learning Meetup\n",
            "Schaumburg Machine Learning & Artificial Intelligence Meetup\n",
            "TensorFlow Chicago\n",
            "The Data Scientist-Chicago\n",
            "Time Series Chicago\n",
            "\n",
            "\n",
            "--------\n",
            "business\n",
            "--------\n",
            "Ambitious Professionals and Entrepreneurs Naperville\n",
            "Chicago Funding\n",
            "Chicago Startup Community\n",
            "Chicago Startup/Tech Meetup\n",
            "Fox Valley Computing Professionals\n",
            "Lombard Small Business Meetup\n",
            "Network with Fellow Investors\n",
            "North Shore Startup Hackers\n",
            "Real Estate Investing Networking & Coaching\n",
            "\n",
            "\n",
            "-------\n",
            "general\n",
            "-------\n",
            "ACM Chicago\n",
            "Anyone Can Learn To Code Chicago\n",
            "Big Data Developers in Chicago\n",
            "Chicago AI Tech Talks Group\n",
            "Chicago Tech Interviews\n",
            "Chicago Women Developers\n",
            "ChickTech: Chicago West Suburbs\n",
            "Coding Dojo | Chicago\n",
            "Coding Temple\n",
            "Dev Together Chi\n",
            "Emerging Technologies in Chicago\n",
            "Emerging Technology 101\n",
            "Fox Valley Linux User Group\n",
            "Geekfest\n",
            "Girl Develop It Chicago\n",
            "Google Developers Group: GDG Chicago\n",
            "Greater Chicago New Technology Meetup\n",
            "Learn to Code | Thinkful Chicago\n",
            "Life-Long Learners of LG (Technopreneurs & Software Devs)\n",
            "Midwest GovTech Meetup\n",
            "Naperville Software Development Meetup\n",
            "Open Source Chicago\n",
            "OpenHack Naperville\n",
            "Software Craftsmanship McHenry County\n",
            "Tech After Hours Chicago\n",
            "Tech in Motion: Chicago\n",
            "ThoughtWorks Tech Talks Chicago\n",
            "Windy City Linux Users Group\n",
            "Women Who Code Chicago\n",
            "\n",
            "\n",
            "-------------\n",
            "uncategorized\n",
            "-------------\n",
            "20 and 30 Somethings Chicago\n",
            "20s And 30s New Friends\n",
            "Aurora Bicycling Meetup\n",
            "Aurora Kayaking Meetup\n",
            "Built in Chicago\n",
            "Chicago - UiPath (RPA) Community\n",
            "Chicago Big Data\n",
            "Chicago Chapter American Statistical Association\n",
            "Chicago City Data Users Group\n",
            "Chicago Data Engineering Meetup\n",
            "Chicago Hiking, Outdoors, & Social Group\n",
            "Chicago LOOPed Indians\n",
            "Chicago OpenAI Challenge Meetup\n",
            "Chicago Real Estate Millionaires & Future Millionaires Group\n",
            "Greater Chicagoland Power BI (CPUB) User Group\n",
            "Group Travel Meetup\n",
            "GroupSolve\n",
            "Ideas Worth Talking About - A Meetup for TEDheads\n",
            "Naperville Area Sustainability Group\n",
            "Naperville Hiking, Biking and Outdoor Enthusiasts!\n",
            "Naperville Table Tennis Group\n",
            "Naperville Wellness Meetup\n",
            "Nerd Therapy\n",
            "SECtion 59\n",
            "Schaumburg Digital  Meetup\n",
            "Self-Coach Yourself to Greatness!\n",
            "The (Chicago) West Suburbs Indian Community\n",
            "The Chicago Data Visualization Group\n",
            "The Chicago Indians Meetup Group\n",
            "The Chicagoland Digital Photography Meetup Group\n",
            "The IT Crowd\n",
            "The Objective Method Meetup\n",
            "UniForum Chicago\n",
            "Weekend Meetup 20-30 Somethings\n",
            "West Suburban 20's and 30's Fun Group\n",
            "West Suburban 20s and 30s Singles and Couples\n",
            "WordPress Naperville\n"
          ],
          "name": "stdout"
        }
      ]
    },
    {
      "metadata": {
        "id": "1lddbzxO4lXQ",
        "colab_type": "text"
      },
      "cell_type": "markdown",
      "source": [
        "### For the slide about percent of people in different groups\n"
      ]
    },
    {
      "metadata": {
        "id": "dzBzUBWCJ7eO",
        "colab_type": "code",
        "outputId": "e32be54c-3d90-4a78-cdc1-27e8f004a2f3",
        "colab": {
          "base_uri": "https://localhost:8080/",
          "height": 290
        }
      },
      "cell_type": "code",
      "source": [
        " def print_member_counts(category, desired_groups):\n",
        "    message = \"  {n_groups} total {category} groups with {n_members} members ({pct:.0%}) from DuPage Python\"\n",
        "    n_members = len([\n",
        "        uid for uid, groups in all_users_groups.items()\n",
        "        if desired_groups.intersection(groups)\n",
        "    ])\n",
        "    pct = n_members / len(user_ids)\n",
        "    print(message.format(category=category, n_groups=len(desired_groups), n_members=n_members, pct=pct))\n",
        "\n",
        "\n",
        "print(\"\\nPercent members in which groups?\")\n",
        "print_member_counts(\"R\", groups.r)\n",
        "print_member_counts(\"Python\", groups.python)\n",
        "print_member_counts(\"Data Science\", groups.data_science)\n",
        "print_member_counts(\"Infrastructure\", groups.infrastructure)\n",
        "print_member_counts(\"Front End\", groups.js_frontend)"
      ],
      "execution_count": 0,
      "outputs": [
        {
          "output_type": "stream",
          "text": [
            "\n",
            "Percent members in which groups?\n",
            "  3 total R groups with 40 members (27%) from DuPage Python\n",
            "  9 total Python groups with 130 members (88%) from DuPage Python\n",
            "  30 total Data Science groups with 74 members (50%) from DuPage Python\n",
            "  9 total Infrastructure groups with 48 members (33%) from DuPage Python\n",
            "  12 total Front End groups with 34 members (23%) from DuPage Python\n"
          ],
          "name": "stdout"
        }
      ]
    },
    {
      "metadata": {
        "id": "LKeXsgHNAUBt",
        "colab_type": "text"
      },
      "cell_type": "markdown",
      "source": [
        "### Create a list of each user's categories of interest"
      ]
    },
    {
      "metadata": {
        "id": "-UE5npIzuEa2",
        "colab_type": "code",
        "colab": {}
      },
      "cell_type": "code",
      "source": [
        "# UpSetPlot\n",
        "# based on UpSet for R https://caleydo.org/tools/upset/\n",
        "list_of_each_users_topics = []\n",
        "for persons_groups in all_users_groups.values():\n",
        "    row = dict(\n",
        "        (topic, True if topic_groups.intersection(persons_groups) else False)\n",
        "        for topic, topic_groups in groups.__dict__.items()\n",
        "    )\n",
        "    row['users'] = 1\n",
        "    list_of_each_users_topics.append(row)"
      ],
      "execution_count": 0,
      "outputs": []
    },
    {
      "metadata": {
        "id": "7sCUK2uSAkd7",
        "colab_type": "text"
      },
      "cell_type": "markdown",
      "source": [
        "### Put the data in a Pandas data frame and turn it into an UpSet plot"
      ]
    },
    {
      "metadata": {
        "id": "VScYYwJy7GQl",
        "colab_type": "code",
        "outputId": "211d704e-11f8-499d-b699-da68212203e5",
        "colab": {
          "base_uri": "https://localhost:8080/",
          "height": 701
        }
      },
      "cell_type": "code",
      "source": [
        "\n",
        "keep_categories = [\"r\", \"python\", \"data_science\", \"infrastructure\", \"js_frontend\"]\n",
        "meetup_sets = (\n",
        "    pandas.DataFrame(list_of_each_users_topics)[keep_categories + [\"users\"]]\n",
        "    .fillna(False)\n",
        "    .groupby(keep_categories)\n",
        "    .count()\n",
        ")\n",
        "p = upsetplot.plot(\n",
        "    meetup_sets[\"users\"],\n",
        "    element_size=60,  # point size of \"side of element\"\n",
        "    sort_by=\"cardinality\",\n",
        ");\n",
        "\n",
        "p['intersections'].tick_params(labelsize=\"medium\")\n",
        "p['matrix'].tick_params(labelsize=\"medium\")\n",
        "#import matplotlib\n",
        "#from google.colab import files\n",
        "#current_figure = matplotlib.pyplot.gcf()\n",
        "#current_figure.savefig(\"meetup_sets.png\")\n",
        "#files.download(\"meetup_sets.png\")"
      ],
      "execution_count": 10,
      "outputs": [
        {
          "output_type": "display_data",
          "data": {
            "image/png": "[encoded data removed]",
            "text/plain": [
              "<matplotlib.figure.Figure at 0x7f4dd72d6cc0>"
            ]
          },
          "metadata": {
            "tags": []
          }
        }
      ]
    },
    {
      "metadata": {
        "id": "P7AS5tNkAxHi",
        "colab_type": "text"
      },
      "cell_type": "markdown",
      "source": [
        "### Get annotation data to add as alt for visually impaired"
      ]
    },
    {
      "metadata": {
        "id": "igyYJtx-YZqC",
        "colab_type": "code",
        "outputId": "5e6bee94-90e4-471b-b099-b88662d86fa0",
        "colab": {
          "base_uri": "https://localhost:8080/",
          "height": 477
        }
      },
      "cell_type": "code",
      "source": [
        "meetup_sets.sort_values(\"users\", ascending=False)[\"users\"]"
      ],
      "execution_count": 12,
      "outputs": [
        {
          "output_type": "execute_result",
          "data": {
            "text/plain": [
              "r      python  data_science  infrastructure  js_frontend\n",
              "False  True    False         False           False          29\n",
              "True   True    True          False           False          18\n",
              "False  False   False         False           False          17\n",
              "       True    True          False           False          15\n",
              "                             True            False          12\n",
              "               False         True            False          11\n",
              "                             False           True            7\n",
              "               True          True            True            7\n",
              "True   True    True          True            True            7\n",
              "False  True    True          False           True            6\n",
              "True   True    True          True            False           6\n",
              "               False         False           False           4\n",
              "False  True    False         True            True            3\n",
              "True   True    True          False           True            3\n",
              "               False         True            False           1\n",
              "                                             True            1\n",
              "Name: users, dtype: int64"
            ]
          },
          "metadata": {
            "tags": []
          },
          "execution_count": 12
        }
      ]
    },
    {
      "metadata": {
        "id": "_hHyZU_uA3tM",
        "colab_type": "text"
      },
      "cell_type": "markdown",
      "source": [
        "### Another chart; this time without the 'R' category"
      ]
    },
    {
      "metadata": {
        "id": "l3nHeLRzJ1Ey",
        "colab_type": "code",
        "outputId": "532a8be6-aaa6-4990-c7c3-db4c04b74f05",
        "colab": {
          "base_uri": "https://localhost:8080/",
          "height": 655
        }
      },
      "cell_type": "code",
      "source": [
        "# Again, but without the 'r' category\n",
        "keep_categories = [\"python\", \"data_science\", \"infrastructure\", \"js_frontend\"]\n",
        "meetup_sets = (\n",
        "    pandas.DataFrame(list_of_each_users_topics)[keep_categories + [\"users\"]]\n",
        "    .fillna(False)\n",
        "    .groupby(keep_categories)\n",
        "    .count()\n",
        ")\n",
        "p = upsetplot.plot(\n",
        "    meetup_sets[\"users\"],\n",
        "    element_size=60,  # point size of \"side of element\"\n",
        "    sort_by=\"cardinality\",\n",
        ");\n",
        "\n",
        "p['intersections'].tick_params(labelsize=\"medium\")\n",
        "p['matrix'].tick_params(labelsize=\"medium\")\n",
        "#import matplotlib\n",
        "#from google.colab import files\n",
        "#current_figure = matplotlib.pyplot.gcf()\n",
        "#current_figure.savefig(\"meetup_sets_no_r.png\")\n",
        "#files.download(\"meetup_sets_no_r.png\")"
      ],
      "execution_count": 13,
      "outputs": [
        {
          "output_type": "display_data",
          "data": {
            "image/png": "[encoded data removed]",
            "text/plain": [
              "<matplotlib.figure.Figure at 0x7f4dd450c748>"
            ]
          },
          "metadata": {
            "tags": []
          }
        }
      ]
    },
    {
      "metadata": {
        "id": "8JOO0VEkA8Rj",
        "colab_type": "text"
      },
      "cell_type": "markdown",
      "source": [
        "### The corresponding numbers for the above chart"
      ]
    },
    {
      "metadata": {
        "id": "Q0bE4WSNY5gw",
        "colab_type": "code",
        "outputId": "2b9186d9-8df4-4f7e-f690-473314b3d2d2",
        "colab": {
          "base_uri": "https://localhost:8080/",
          "height": 358
        }
      },
      "cell_type": "code",
      "source": [
        "meetup_sets.sort_values(\"users\", ascending=False)[\"users\"]"
      ],
      "execution_count": 14,
      "outputs": [
        {
          "output_type": "execute_result",
          "data": {
            "text/plain": [
              "python  data_science  infrastructure  js_frontend\n",
              "True    False         False           False          33\n",
              "        True          False           False          33\n",
              "                      True            False          18\n",
              "False   False         False           False          17\n",
              "True    True          True            True           14\n",
              "        False         True            False          12\n",
              "        True          False           True            9\n",
              "        False         False           True            7\n",
              "                      True            True            4\n",
              "Name: users, dtype: int64"
            ]
          },
          "metadata": {
            "tags": []
          },
          "execution_count": 14
        }
      ]
    },
    {
      "metadata": {
        "id": "FK2zdkrDBF0w",
        "colab_type": "text"
      },
      "cell_type": "markdown",
      "source": [
        "### I was going to use this in a D3 or Altair plot but all my attempts were ugly"
      ]
    },
    {
      "metadata": {
        "id": "W-SmwtfKBxWs",
        "colab_type": "code",
        "outputId": "e04dd3ea-1f85-4894-d091-2ae33e37e1e2",
        "colab": {
          "base_uri": "https://localhost:8080/",
          "height": 324
        }
      },
      "cell_type": "code",
      "source": [
        "data_for_upload = pandas.DataFrame(list_of_each_users_topics)\n",
        "group_columns = [c for c in data_for_upload.columns if c != \"users\"]\n",
        "data_for_upload[group_columns].to_csv(\"groups.csv\", sep=\"|\", index=False)\n",
        "print(data_for_upload[group_columns].head(3))\n",
        "#from google.colab import files\n",
        "#files.download(\"groups.csv\")"
      ],
      "execution_count": 16,
      "outputs": [
        {
          "output_type": "stream",
          "text": [
            "   business  data_science  general  hot_new  infrastructure  js_frontend  \\\n",
            "0     False          True    False    False           False        False   \n",
            "1     False          True     True    False           False        False   \n",
            "2     False          True    False     True           False        False   \n",
            "\n",
            "   maker  other_languages  python      r  uncategorized  \n",
            "0  False            False    True   True          False  \n",
            "1  False             True    True   True           True  \n",
            "2  False            False    True  False           True  \n"
          ],
          "name": "stdout"
        }
      ]
    },
    {
      "metadata": {
        "id": "2IgoL3kpBMwn",
        "colab_type": "text"
      },
      "cell_type": "markdown",
      "source": [
        "### The data can be uploaded to the [UpSet web UI](https://vcg.github.io/upset/?dataset=0&duration=1000&orderBy=subsetSize&grouping=groupByIntersectionSize)\n",
        "This is the format they need. Seriously you can just click and upload the data from a URL so long as it's formatted right, and you can explore the data with their web tool. Cool.\n",
        "\n",
        "**Note** this list is of users' aggregate topics not group memberships, so it isn't possible to get any interesting information about anyone from that set; I don't want to mess up anyone's life by accident or anything."
      ]
    },
    {
      "metadata": {
        "id": "lLdzqD5VAXN5",
        "colab_type": "code",
        "colab": {}
      },
      "cell_type": "code",
      "source": [
        "# Also for hosting on the UpSet webpage at caleydo.org\n",
        "column_metadata = [\n",
        "    {\"type\": \"boolean\", \"index\": i, \"name\": col.replace(\"_\", \" \").title()}\n",
        "    for i, col in enumerate(group_columns)\n",
        "]\n",
        "data_description = {\n",
        "\t\"file\": \"http://tanyaschlusser.github.io/slides/data/py-kind-of-town/groups.csv\",\n",
        "\t\"name\": \"Meetup Groups\",\n",
        "\t\"header\": 0,\n",
        "\t\"separator\": \"|\",\n",
        "\t\"skip\": 0,\n",
        "\t\"meta\": column_metadata,\n",
        "\t\"sets\": [\n",
        "\t\t{ \"format\": \"binary\", \"start\": 0, \"end\": len(column_metadata) }\n",
        "\t]\n",
        "}\n",
        "#from google.colab import files\n",
        "#with open(\"groups_description.json\", \"w\") as outfile:\n",
        "#    outfile.write(json.dumps(data_description, indent=2))\n",
        "#files.download(\"groups_description.json\")"
      ],
      "execution_count": 0,
      "outputs": []
    }
  ]
}